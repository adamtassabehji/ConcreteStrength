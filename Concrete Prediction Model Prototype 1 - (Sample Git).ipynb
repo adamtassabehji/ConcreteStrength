{
 "cells": [
  {
   "cell_type": "markdown",
   "metadata": {},
   "source": [
    "# Concrete Prediction Model Protoype #1"
   ]
  },
  {
   "cell_type": "markdown",
   "metadata": {},
   "source": [
    "**Purpose:** \n",
    "The aim of this notebook is to develop a supervised regression model predicting Compressive strength 28days MPa. \n",
    "\n",
    "**Data:** This analysis is based on a csv file containing testing data for 163 concrete samples. There were a total of 60 columns excluding the two target variables (Compressive strength 7days/28days MPa).\n",
    "\n",
    "**Note:** \n",
    "Due to the sensitivity/privacy of this engagement, exploratory data analysis and the final features used for the project have been excluded.\n",
    "\n",
    "\n",
    "**Author:** \n",
    "Adam Tassabehji\n",
    "\n",
    "If you have any questions please do not hesitate to contact me at atassabehji@gmail.com\n",
    "\n"
   ]
  },
  {
   "cell_type": "markdown",
   "metadata": {},
   "source": [
    "### Table of Contents\n",
    "\n",
    "* [1. Importing Data and Packages](#one)\n",
    "* [2. Exploratory Data Analysis](#two)\n",
    "* [3. Data Cleaning](#three)\n",
    "* [4. Feature Engineering](#four)\n",
    "* [5. Feature Selection](#five)\n",
    "* [6. Modelling](#six)\n",
    "    * [Linear Regression vs Decision Tree  (Illustrative Example)](#sixone)\n",
    "    * [Inferential Linear Regression Model](#sixtwo)\n",
    "    * [Regression Model Comparison](#sixthree)\n",
    "* [7. Hypertuning and Ensembling](#seven)\n",
    "* [8. Final Summary and Model Selection](#eight)\n",
    "* [9. Appendix](#app)"
   ]
  },
  {
   "cell_type": "markdown",
   "metadata": {},
   "source": [
    "### 1. Importing Data and Packages  <a class=\"anchor\" id=\"one\"></a>"
   ]
  },
  {
   "cell_type": "code",
   "execution_count": 69,
   "metadata": {},
   "outputs": [],
   "source": [
    "import pandas as pd\n",
    "import numpy as np\n",
    "from numpy import mean,std\n",
    "\n",
    "from matplotlib import pyplot\n",
    "import matplotlib.pyplot as plt\n",
    "import seaborn as sns\n",
    "import plotly.express as px\n",
    "\n",
    "from sklearn.model_selection import train_test_split,RepeatedStratifiedKFold,RepeatedKFold,learning_curve\n",
    "from sklearn.model_selection import GridSearchCV, RandomizedSearchCV,cross_val_score,ShuffleSplit\n",
    "from sklearn.preprocessing import StandardScaler, PolynomialFeatures,StandardScaler\n",
    "from sklearn.metrics import mean_squared_error,accuracy_score,r2_score\n",
    "\n",
    "from category_encoders import TargetEncoder\n",
    "from sklearn.impute import KNNImputer\n",
    "from mlxtend.feature_selection import SequentialFeatureSelector as SFS\n",
    "from sklearn.feature_selection import mutual_info_regression,SelectKBest,f_regression\n",
    "from mlxtend.plotting import plot_sequential_feature_selection as plot_sfs\n",
    "\n",
    "import statsmodels.formula.api as smf\n",
    "import statsmodels.api as sm\n",
    "from sklearn.pipeline import Pipeline\n",
    "from sklearn import linear_model\n",
    "from sklearn.tree import DecisionTreeRegressor\n",
    "from sklearn.linear_model import Ridge,HuberRegressor, LinearRegression,LassoLarsCV\n",
    "from sklearn.linear_model import LinearRegression,Ridge,Lars,TheilSenRegressor,PassiveAggressiveRegressor\n",
    "from sklearn.linear_model import ARDRegression,BayesianRidge,ElasticNet\n",
    "from sklearn.ensemble import RandomForestRegressor,AdaBoostRegressor,StackingRegressor,VotingRegressor\n",
    "\n",
    "import xgboost as xgb\n",
    "from xgboost import XGBRegressor\n",
    "import lightgbm as lgb\n",
    "import catboost as cb\n",
    "\n",
    "import time\n",
    "import timeit\n",
    "import beepy as beep\n"
   ]
  },
  {
   "cell_type": "code",
   "execution_count": 70,
   "metadata": {},
   "outputs": [],
   "source": [
    "#np.random.seed(0)\n",
    "start = timeit.default_timer()"
   ]
  },
  {
   "cell_type": "code",
   "execution_count": 71,
   "metadata": {},
   "outputs": [],
   "source": [
    "## Reading the data file\n",
    "pd.set_option('display.max_columns', None)\n",
    "pd.set_option('display.max_rows', None)\n",
    "\n",
    "data=pd.read_csv('Concrete_Strength_Datasetv7.csv')"
   ]
  },
  {
   "cell_type": "markdown",
   "metadata": {},
   "source": [
    "### 2. Exploratory Data Analysis  <a class=\"anchor\" id=\"two\"></a>"
   ]
  },
  {
   "cell_type": "code",
   "execution_count": 72,
   "metadata": {},
   "outputs": [
    {
     "name": "stdout",
     "output_type": "stream",
     "text": [
      "There are a total of 62 columns and 163 rows\n"
     ]
    }
   ],
   "source": [
    "print(f'''There are a total of {data.shape[1]} columns and {data.shape[0]} rows''')"
   ]
  },
  {
   "cell_type": "markdown",
   "metadata": {},
   "source": [
    "### 3. Data Cleaning (Seperate Notebook) <a class=\"anchor\" id=\"three\"></a>"
   ]
  },
  {
   "cell_type": "markdown",
   "metadata": {},
   "source": [
    "**Identifying the Target Variable**"
   ]
  },
  {
   "cell_type": "code",
   "execution_count": 76,
   "metadata": {},
   "outputs": [],
   "source": [
    "## Renaming for easier identification\n",
    "data = data.rename(columns={'Compressive strength 28days MPa ': 'Target'})\n",
    "data.columns=data.columns.str.replace(' ','_')"
   ]
  },
  {
   "cell_type": "markdown",
   "metadata": {},
   "source": [
    "**Dropping rows missing the target variable**"
   ]
  },
  {
   "cell_type": "code",
   "execution_count": 77,
   "metadata": {},
   "outputs": [],
   "source": [
    "## We can't do any predictions for samples missng this information\n",
    "data=data[data['Target'].notna()]"
   ]
  },
  {
   "cell_type": "code",
   "execution_count": 78,
   "metadata": {},
   "outputs": [
    {
     "name": "stdout",
     "output_type": "stream",
     "text": [
      "There are a total of 62 columns and 160 rows\n"
     ]
    }
   ],
   "source": [
    "print(f'''There are a total of {data.shape[1]} columns and {data.shape[0]} rows''')"
   ]
  },
  {
   "cell_type": "markdown",
   "metadata": {},
   "source": [
    "**Dropping Columns that have more than 20% of missing values**"
   ]
  },
  {
   "cell_type": "code",
   "execution_count": 79,
   "metadata": {},
   "outputs": [],
   "source": [
    "perc = 20.0 \n",
    "min_count =  int(((100-perc)/100)*data.shape[0] + 1)\n",
    "data = data.dropna( axis=1, thresh=min_count)"
   ]
  },
  {
   "cell_type": "code",
   "execution_count": 80,
   "metadata": {},
   "outputs": [
    {
     "name": "stdout",
     "output_type": "stream",
     "text": [
      "There are a total of 32 columns and 160 rows\n"
     ]
    }
   ],
   "source": [
    "print(f'''There are a total of {data.shape[1]} columns and {data.shape[0]} rows''')"
   ]
  },
  {
   "cell_type": "code",
   "execution_count": 81,
   "metadata": {},
   "outputs": [
    {
     "name": "stdout",
     "output_type": "stream",
     "text": [
      "There are a total of 29 numerical columns\n",
      "There are a total of 3 categorical columns\n"
     ]
    }
   ],
   "source": [
    "cols = data.columns\n",
    "num_cols = data._get_numeric_data().columns\n",
    "\n",
    "cat_cols=list(set(cols)-set(num_cols))\n",
    "\n",
    "print(f'''There are a total of {len(num_cols)} numerical columns''')\n",
    "\n",
    "print(f'''There are a total of {len(cat_cols)} categorical columns''')"
   ]
  },
  {
   "cell_type": "markdown",
   "metadata": {},
   "source": [
    "**Transformating Categorical Variables**"
   ]
  },
  {
   "cell_type": "code",
   "execution_count": 82,
   "metadata": {},
   "outputs": [],
   "source": [
    "## Creating Concrete Grade variable from Concrete_Grade_/_Batch_Plant_No.\n",
    "\n",
    "data['Concrete_Grade']=data['Concrete_Grade_/_Batch_Plant_No.'].str[:3].map(lambda x:'C70' if x =='Flo' else x)"
   ]
  },
  {
   "cell_type": "code",
   "execution_count": 83,
   "metadata": {},
   "outputs": [
    {
     "name": "stderr",
     "output_type": "stream",
     "text": [
      "/Users/adamtassabehji/opt/anaconda3/lib/python3.7/site-packages/category_encoders/utils.py:21: FutureWarning: is_categorical is deprecated and will be removed in a future version.  Use is_categorical_dtype instead\n",
      "  elif pd.api.types.is_categorical(cols):\n"
     ]
    }
   ],
   "source": [
    "## Target Encoding for Concreate Grade & Supplier\n",
    "\n",
    "encoder = TargetEncoder()\n",
    "\n",
    "data['Concrete_Grade_Target'] = encoder.fit_transform(data['Concrete_Grade'], data['Target'])\n",
    "\n",
    "encoder = TargetEncoder()\n",
    "\n",
    "data['Supplier_Target'] = encoder.fit_transform(data['Supplier'], data['Target'])"
   ]
  },
  {
   "cell_type": "code",
   "execution_count": 84,
   "metadata": {},
   "outputs": [],
   "source": [
    "data=data.drop(['Supplier','Prop_Name_A','Concrete_Grade_/_Batch_Plant_No.','Concrete_Grade'], axis=1)"
   ]
  },
  {
   "cell_type": "markdown",
   "metadata": {},
   "source": [
    "**Dealing with Outliers**"
   ]
  },
  {
   "cell_type": "code",
   "execution_count": 85,
   "metadata": {},
   "outputs": [
    {
     "data": {
      "text/plain": [
       "<AxesSubplot:xlabel='Fine_Agg_Density_(ASTM_C128)_Kg/m3'>"
      ]
     },
     "execution_count": 85,
     "metadata": {},
     "output_type": "execute_result"
    },
    {
     "data": {
      "image/png": "[encoded data removed]",
      "text/plain": [
       "<Figure size 1224x72 with 1 Axes>"
      ]
     },
     "metadata": {
      "needs_background": "light"
     },
     "output_type": "display_data"
    }
   ],
   "source": [
    "## We can see below that some variables suffer from outliers/incorrect entries\n",
    "\n",
    "plt.figure(figsize=(17,1))\n",
    "sns.boxplot(x=data['Fine_Agg_Density_(ASTM_C128)_Kg/m3'])"
   ]
  },
  {
   "cell_type": "code",
   "execution_count": 86,
   "metadata": {},
   "outputs": [],
   "source": [
    "## Replacing them with the 3% and 97% quantiles\n",
    "\n",
    "cols=data.columns[data.columns!='Target']\n",
    "\n",
    "for col in cols:\n",
    "    lower=data[col].quantile(0.03)\n",
    "    upper=data[col].quantile(0.97)\n",
    "    data[col]=np.where(data[col] <lower, lower,data[col])\n",
    "    data[col]=np.where(data[col] >upper, upper,data[col])"
   ]
  },
  {
   "cell_type": "code",
   "execution_count": 87,
   "metadata": {},
   "outputs": [
    {
     "data": {
      "text/plain": [
       "<AxesSubplot:xlabel='Fine_Agg_Density_(ASTM_C128)_Kg/m3'>"
      ]
     },
     "execution_count": 87,
     "metadata": {},
     "output_type": "execute_result"
    },
    {
     "data": {
      "image/png": "[encoded data removed]",
      "text/plain": [
       "<Figure size 1224x72 with 1 Axes>"
      ]
     },
     "metadata": {
      "needs_background": "light"
     },
     "output_type": "display_data"
    }
   ],
   "source": [
    "plt.figure(figsize=(17,1))\n",
    "sns.boxplot(x=data['Fine_Agg_Density_(ASTM_C128)_Kg/m3'])"
   ]
  },
  {
   "cell_type": "markdown",
   "metadata": {},
   "source": [
    "**Imputing Missing Values for Numerical (KNN)**"
   ]
  },
  {
   "cell_type": "markdown",
   "metadata": {},
   "source": [
    "- This imputer utilizes the k-Nearest Neighbors method to replace the missing values in the datasets with the mean value from the parameter ‘n_neighbors’ nearest neighbors found. By default, it uses a Euclidean distance metric to impute the missing values. \n",
    "\n",
    "- In Layman's terms, for each row missing a certain value it identifies the 5 most similar rows and imputes a value that fits."
   ]
  },
  {
   "cell_type": "code",
   "execution_count": 88,
   "metadata": {},
   "outputs": [],
   "source": [
    "data=data.reset_index(drop=True)\n",
    "X=data.drop(['Target','Compressive_strength_7days_MPa_'],axis=1)\n",
    "y=data['Target']"
   ]
  },
  {
   "cell_type": "code",
   "execution_count": 89,
   "metadata": {},
   "outputs": [],
   "source": [
    "## Scaling or normalizing the data enables more accurate imputation\n",
    "scaler = StandardScaler()\n",
    "scaler.fit(X)\n",
    "X=pd.DataFrame(scaler.transform(X),index=X.index, columns=X.columns)"
   ]
  },
  {
   "cell_type": "code",
   "execution_count": 90,
   "metadata": {},
   "outputs": [],
   "source": [
    "## Performing the imputation\n",
    "imputer = KNNImputer(n_neighbors=5)\n",
    "X = pd.DataFrame(imputer.fit_transform(X),columns = X.columns).astype(float)"
   ]
  },
  {
   "cell_type": "markdown",
   "metadata": {},
   "source": [
    "### 4. Feature Engineering  <a class=\"anchor\" id=\"four\"></a>"
   ]
  },
  {
   "cell_type": "markdown",
   "metadata": {},
   "source": [
    "**Polynomial features** are created by raising existing features to an exponent.\n",
    "\n",
    "For example, if a dataset had one input feature X, then a polynomial feature would be the addition of a new feature (column) where values were calculated by squaring the values in X, e.g. X^2. This process can be repeated for each input variable in the dataset, creating a transformed version of each. It will also explore the iteractions of different variables by multiplying them."
   ]
  },
  {
   "cell_type": "code",
   "execution_count": 91,
   "metadata": {},
   "outputs": [],
   "source": [
    "\n",
    "poly_feats = PolynomialFeatures(degree=2)\n",
    "X_cross= X\n",
    "crossed_features = poly_feats.fit_transform(X_cross)\n",
    "\n",
    "X = pd.DataFrame(crossed_features,columns=poly_feats.get_feature_names(X_cross.columns)).reindex(X.index)\n"
   ]
  },
  {
   "cell_type": "code",
   "execution_count": 92,
   "metadata": {},
   "outputs": [
    {
     "name": "stdout",
     "output_type": "stream",
     "text": [
      "Total number of features: 465\n"
     ]
    }
   ],
   "source": [
    "print(f'Total number of features: {len(X.columns)}')"
   ]
  },
  {
   "cell_type": "markdown",
   "metadata": {},
   "source": [
    "### 5. Feature Selection  <a class=\"anchor\" id=\"five\"></a>"
   ]
  },
  {
   "cell_type": "markdown",
   "metadata": {},
   "source": [
    "- This portion of the notebook will be dedicated towards identifying and selecting the variables with the highest predictive power. \n",
    "\n",
    "- Initially a univarite test will be conducted (filter), followed by a multivariate test (wrapper)."
   ]
  },
  {
   "cell_type": "markdown",
   "metadata": {},
   "source": [
    "**Method 1:**\n",
    "\n",
    "Select K-best (Univariate)"
   ]
  },
  {
   "cell_type": "code",
   "execution_count": 93,
   "metadata": {},
   "outputs": [
    {
     "name": "stderr",
     "output_type": "stream",
     "text": [
      "/Users/adamtassabehji/opt/anaconda3/lib/python3.7/site-packages/sklearn/feature_selection/_univariate_selection.py:302: RuntimeWarning: divide by zero encountered in true_divide\n",
      "  corr /= X_norms\n",
      "/Users/adamtassabehji/opt/anaconda3/lib/python3.7/site-packages/sklearn/feature_selection/_univariate_selection.py:307: RuntimeWarning: invalid value encountered in true_divide\n",
      "  F = corr ** 2 / (1 - corr ** 2) * degrees_of_freedom\n"
     ]
    },
    {
     "data": {
      "text/plain": [
       "Index(['Prop_Cement_Kg', 'Prop_Silica_Fume_kg', 'Prop_Free_Water_kg',\n",
       "       'Prop_3/4\"_Agg._SSD_kg', 'Prop_Sand_SSD_kg', 'Prop_Admixture1_kg',\n",
       "       'Co_Agg_Loss_Angeles_Abrasion_Value_(ASTM_C131)_Agg1_(%)',\n",
       "       'Co_Agg_Soundness_(ASTM_C88)_Agg1_(%)',\n",
       "       'Co_Agg_Clay_lumps_and_friable_particles_(ASTM_C142M)_Agg1_(%)',\n",
       "       'Co_Agg_Clay_lumps_and_friable_particles_(ASTM_C142M)_Agg2_(%)',\n",
       "       'Co_Agg_Absorption_(ASTM_C127)_Agg1_(%)',\n",
       "       'Fine_Agg_Soundness_(ASTM_C88)_(%)',\n",
       "       'Fine_Agg_Absorption_(ASTM_C128)_(%)', 'Concrete_Grade_Target',\n",
       "       'Supplier_Target', 'Prop_Cement_Kg Prop_Silica_Fume_kg',\n",
       "       'Prop_Cement_Kg Prop_3/4\"_Agg._SSD_kg',\n",
       "       'Prop_Cement_Kg Co_Agg_Aggregate_Sizes_Agg1_(in)',\n",
       "       'Prop_Cement_Kg Co_Agg_Loss_Angeles_Abrasion_Value_(ASTM_C131)_Agg2_(%)',\n",
       "       'Prop_Cement_Kg Co_Agg_Density_(ASTM_C127)_Agg2_Kg/m3',\n",
       "       'Pro_Fly_Ash_Kg Prop_Silica_Fume_kg',\n",
       "       'Pro_Fly_Ash_Kg Co_Agg_Loss_Angeles_Abrasion_Value_(ASTM_C131)_Agg1_(%)',\n",
       "       'Pro_Fly_Ash_Kg Co_Agg_Loss_Angeles_Abrasion_Value_(ASTM_C131)_Agg2_(%)',\n",
       "       'Pro_Fly_Ash_Kg Co_Agg_Density_(ASTM_C127)_Agg1_Kg/m3',\n",
       "       'Pro_Fly_Ash_Kg Co_Agg_Absorption_(ASTM_C127)_Agg1_(%)',\n",
       "       'Pro_Fly_Ash_Kg Co_Agg_Absorption_(ASTM_C127)_Agg2_(%)',\n",
       "       'Pro_Fly_Ash_Kg Fine_Agg_Soundness_(ASTM_C88)_(%)',\n",
       "       'Prop_Silica_Fume_kg^2', 'Prop_Silica_Fume_kg Prop_3/4\"_Agg._SSD_kg',\n",
       "       'Prop_Silica_Fume_kg Prop_Admixture1_kg',\n",
       "       'Prop_Silica_Fume_kg Co_Agg_Aggregate_Sizes_Agg1_(in)',\n",
       "       'Prop_Silica_Fume_kg Co_Agg_Loss_Angeles_Abrasion_Value_(ASTM_C131)_Agg1_(%)',\n",
       "       'Prop_Silica_Fume_kg Co_Agg_Loss_Angeles_Abrasion_Value_(ASTM_C131)_Agg2_(%)',\n",
       "       'Prop_Silica_Fume_kg Co_Agg__Material_finer_than_0.075_mm_(ASTM_C117)_Agg2_(%)',\n",
       "       'Prop_Silica_Fume_kg Co_Agg_Soundness_(ASTM_C88)_Agg1_(%)',\n",
       "       'Prop_Silica_Fume_kg Co_Agg_Soundness_(ASTM_C88)_Agg2_(%)',\n",
       "       'Prop_Silica_Fume_kg Co_Agg_Density_(ASTM_C127)_Agg1_Kg/m3',\n",
       "       'Prop_Silica_Fume_kg Co_Agg_Absorption_(ASTM_C127)_Agg1_(%)',\n",
       "       'Prop_Silica_Fume_kg Co_Agg_Absorption_(ASTM_C127)_Agg2_(%)',\n",
       "       'Prop_Silica_Fume_kg Fine_Agg_Soundness_(ASTM_C88)_(%)',\n",
       "       'Prop_Silica_Fume_kg Fine_Agg_Absorption_(ASTM_C128)_(%)',\n",
       "       'Prop_Silica_Fume_kg Concrete_Grade_Target',\n",
       "       'Prop_Silica_Fume_kg Supplier_Target', 'Prop_3/4\"_Agg._SSD_kg^2',\n",
       "       'Prop_3/4\"_Agg._SSD_kg Prop_3/8\"_Agg._SSD_kg',\n",
       "       'Prop_3/4\"_Agg._SSD_kg Prop_Admixture1_kg',\n",
       "       'Prop_3/4\"_Agg._SSD_kg Co_Agg_Aggregate_Sizes_Agg2_(in)',\n",
       "       'Prop_3/4\"_Agg._SSD_kg Co_Agg_Loss_Angeles_Abrasion_Value_(ASTM_C131)_Agg2_(%)',\n",
       "       'Prop_3/4\"_Agg._SSD_kg Co_Agg__Material_finer_than_0.075_mm_(ASTM_C117)_Agg2_(%)',\n",
       "       'Prop_3/4\"_Agg._SSD_kg Co_Agg_Clay_lumps_and_friable_particles_(ASTM_C142M)_Agg1_(%)',\n",
       "       'Prop_3/4\"_Agg._SSD_kg Co_Agg_Density_(ASTM_C127)_Agg2_Kg/m3',\n",
       "       'Prop_3/4\"_Agg._SSD_kg Concrete_Grade_Target',\n",
       "       'Prop_3/8\"_Agg._SSD_kg^2',\n",
       "       'Prop_3/8\"_Agg._SSD_kg Co_Agg_Aggregate_Sizes_Agg1_(in)',\n",
       "       'Prop_3/8\"_Agg._SSD_kg Co_Agg_Aggregate_Sizes_Agg2_(in)',\n",
       "       'Prop_3/8\"_Agg._SSD_kg Co_Agg_Material_finer_than_0.075_mm_(ASTM_C117)_Agg1_(%)',\n",
       "       'Prop_3/8\"_Agg._SSD_kg Co_Agg_Density_(ASTM_C127)_Agg2_Kg/m3',\n",
       "       'Prop_3/8\"_Agg._SSD_kg Concrete_Grade_Target', 'Prop_Sand_SSD_kg^2',\n",
       "       'Prop_Admixture1_kg^2',\n",
       "       'Prop_Admixture1_kg Co_Agg_Aggregate_Sizes_Agg1_(in)',\n",
       "       'Prop_Admixture1_kg Fine_Agg_Soundness_(ASTM_C88)_(%)',\n",
       "       'Co_Agg_Aggregate_Sizes_Agg1_(in) Co_Agg_Aggregate_Sizes_Agg2_(in)',\n",
       "       'Co_Agg_Aggregate_Sizes_Agg1_(in) Co_Agg_Loss_Angeles_Abrasion_Value_(ASTM_C131)_Agg2_(%)',\n",
       "       'Co_Agg_Aggregate_Sizes_Agg1_(in) Co_Agg_Clay_lumps_and_friable_particles_(ASTM_C142M)_Agg1_(%)',\n",
       "       'Co_Agg_Aggregate_Sizes_Agg1_(in) Co_Agg_Density_(ASTM_C127)_Agg1_Kg/m3',\n",
       "       'Co_Agg_Aggregate_Sizes_Agg1_(in) Co_Agg_Density_(ASTM_C127)_Agg2_Kg/m3',\n",
       "       'Co_Agg_Aggregate_Sizes_Agg1_(in) Fine_Agg_Absorption_(ASTM_C128)_(%)',\n",
       "       'Co_Agg_Aggregate_Sizes_Agg1_(in) Concrete_Grade_Target',\n",
       "       'Co_Agg_Aggregate_Sizes_Agg2_(in) Fine_Agg_Material_finer_than_0.075_mm_(ASTM_C117)_(%)',\n",
       "       'Co_Agg_Loss_Angeles_Abrasion_Value_(ASTM_C131)_Agg1_(%)^2',\n",
       "       'Co_Agg_Loss_Angeles_Abrasion_Value_(ASTM_C131)_Agg1_(%) Co_Agg_Loss_Angeles_Abrasion_Value_(ASTM_C131)_Agg2_(%)',\n",
       "       'Co_Agg_Loss_Angeles_Abrasion_Value_(ASTM_C131)_Agg1_(%) Co_Agg_Material_finer_than_0.075_mm_(ASTM_C117)_Agg1_(%)',\n",
       "       'Co_Agg_Loss_Angeles_Abrasion_Value_(ASTM_C131)_Agg1_(%) Co_Agg_Soundness_(ASTM_C88)_Agg1_(%)',\n",
       "       'Co_Agg_Loss_Angeles_Abrasion_Value_(ASTM_C131)_Agg1_(%) Co_Agg_Density_(ASTM_C127)_Agg1_Kg/m3',\n",
       "       'Co_Agg_Loss_Angeles_Abrasion_Value_(ASTM_C131)_Agg1_(%) Fine_Agg_Soundness_(ASTM_C88)_(%)',\n",
       "       'Co_Agg_Loss_Angeles_Abrasion_Value_(ASTM_C131)_Agg2_(%)^2',\n",
       "       'Co_Agg_Loss_Angeles_Abrasion_Value_(ASTM_C131)_Agg2_(%) Co_Agg__Material_finer_than_0.075_mm_(ASTM_C117)_Agg2_(%)',\n",
       "       'Co_Agg_Material_finer_than_0.075_mm_(ASTM_C117)_Agg1_(%) Co_Agg_Soundness_(ASTM_C88)_Agg1_(%)',\n",
       "       'Co_Agg_Material_finer_than_0.075_mm_(ASTM_C117)_Agg1_(%) Co_Agg_Density_(ASTM_C127)_Agg1_Kg/m3',\n",
       "       'Co_Agg_Material_finer_than_0.075_mm_(ASTM_C117)_Agg1_(%) Concrete_Grade_Target',\n",
       "       'Co_Agg_Soundness_(ASTM_C88)_Agg1_(%) Co_Agg_Density_(ASTM_C127)_Agg1_Kg/m3',\n",
       "       'Co_Agg_Soundness_(ASTM_C88)_Agg1_(%) Fine_Agg_Soundness_(ASTM_C88)_(%)',\n",
       "       'Co_Agg_Soundness_(ASTM_C88)_Agg1_(%) Supplier_Target',\n",
       "       'Co_Agg_Clay_lumps_and_friable_particles_(ASTM_C142M)_Agg1_(%) Co_Agg_Absorption_(ASTM_C127)_Agg2_(%)',\n",
       "       'Co_Agg_Clay_lumps_and_friable_particles_(ASTM_C142M)_Agg1_(%) Fine_Agg_Soundness_(ASTM_C88)_(%)',\n",
       "       'Co_Agg_Clay_lumps_and_friable_particles_(ASTM_C142M)_Agg2_(%)^2',\n",
       "       'Co_Agg_Clay_lumps_and_friable_particles_(ASTM_C142M)_Agg2_(%) Fine_Agg_Soundness_(ASTM_C88)_(%)',\n",
       "       'Co_Agg_Density_(ASTM_C127)_Agg1_Kg/m3^2',\n",
       "       'Co_Agg_Density_(ASTM_C127)_Agg1_Kg/m3 Fine_Agg_Soundness_(ASTM_C88)_(%)',\n",
       "       'Co_Agg_Density_(ASTM_C127)_Agg1_Kg/m3 Fine_Agg_Density_(ASTM_C128)_Kg/m3',\n",
       "       'Co_Agg_Density_(ASTM_C127)_Agg2_Kg/m3 Fine_Agg_Material_finer_than_0.075_mm_(ASTM_C117)_(%)',\n",
       "       'Co_Agg_Density_(ASTM_C127)_Agg2_Kg/m3 Fine_Agg_Soundness_(ASTM_C88)_(%)',\n",
       "       'Co_Agg_Absorption_(ASTM_C127)_Agg2_(%) Fine_Agg_Soundness_(ASTM_C88)_(%)',\n",
       "       'Fine_Agg_Material_finer_than_0.075_mm_(ASTM_C117)_(%) Fine_Agg_Density_(ASTM_C128)_Kg/m3',\n",
       "       'Fine_Agg_Soundness_(ASTM_C88)_(%)^2',\n",
       "       'Fine_Agg_Soundness_(ASTM_C88)_(%) Fine_Agg_Density_(ASTM_C128)_Kg/m3',\n",
       "       'Fine_Agg_Soundness_(ASTM_C88)_(%) Supplier_Target',\n",
       "       'Fine_Agg_Density_(ASTM_C128)_Kg/m3^2',\n",
       "       'Fine_Agg_Density_(ASTM_C128)_Kg/m3 Fine_Agg_Absorption_(ASTM_C128)_(%)'],\n",
       "      dtype='object')"
      ]
     },
     "execution_count": 93,
     "metadata": {},
     "output_type": "execute_result"
    }
   ],
   "source": [
    "## Filtering for the top 100 variables by building univariate regresssion models \n",
    "\n",
    "fs = SelectKBest(score_func=f_regression,k=100)\n",
    "X_selected = fs.fit_transform(X, y)\n",
    "\n",
    "## Identifying the names and filtering for the columns\n",
    "cols = fs.get_support(indices=True)\n",
    "X=X[X.columns[cols]]\n",
    "X.columns"
   ]
  },
  {
   "cell_type": "markdown",
   "metadata": {},
   "source": [
    "**Method 2 ( Stepwise Forward Selection)**"
   ]
  },
  {
   "cell_type": "markdown",
   "metadata": {},
   "source": [
    "This will identify the optimal number of variables by testing different combinations"
   ]
  },
  {
   "cell_type": "code",
   "execution_count": 94,
   "metadata": {},
   "outputs": [
    {
     "data": {
      "text/plain": [
       "SequentialFeatureSelector(cv=4, estimator=LinearRegression(), floating=True,\n",
       "                          k_features=(2, 16))"
      ]
     },
     "execution_count": 94,
     "metadata": {},
     "output_type": "execute_result"
    }
   ],
   "source": [
    "sfs1 = SFS(LinearRegression(),\n",
    "           k_features=(2,16),\n",
    "           forward=True,\n",
    "           floating=True,\n",
    "           cv=4)\n",
    "sfs1.fit(X, y)"
   ]
  },
  {
   "cell_type": "code",
   "execution_count": 95,
   "metadata": {},
   "outputs": [
    {
     "data": {
      "image/png": "[encoded data removed]",
      "text/plain": [
       "<Figure size 1008x288 with 1 Axes>"
      ]
     },
     "metadata": {
      "needs_background": "light"
     },
     "output_type": "display_data"
    }
   ],
   "source": [
    "fig = plot_sfs(sfs1.get_metric_dict(), kind='std_err',figsize=(14, 4))\n",
    "\n",
    "\n",
    "plt.title('Sequential Forward Selection (w. StdErr)')\n",
    "plt.grid()\n",
    "plt.show()"
   ]
  },
  {
   "cell_type": "code",
   "execution_count": 96,
   "metadata": {},
   "outputs": [
    {
     "name": "stdout",
     "output_type": "stream",
     "text": [
      "16 Features and R2 Score: 0.8262907761948718\n"
     ]
    }
   ],
   "source": [
    "print(f'{len(sfs1.k_feature_names_)} Features and R2 Score: {sfs1.k_score_}')"
   ]
  },
  {
   "cell_type": "code",
   "execution_count": 97,
   "metadata": {},
   "outputs": [
    {
     "data": {
      "text/plain": [
       "['Prop_Cement_Kg',\n",
       " 'Concrete_Grade_Target',\n",
       " 'Prop_Cement_Kg Prop_3/4\"_Agg._SSD_kg',\n",
       " 'Prop_Cement_Kg Co_Agg_Aggregate_Sizes_Agg1_(in)',\n",
       " 'Prop_Cement_Kg Co_Agg_Density_(ASTM_C127)_Agg2_Kg/m3',\n",
       " 'Pro_Fly_Ash_Kg Prop_Silica_Fume_kg',\n",
       " 'Prop_Silica_Fume_kg Concrete_Grade_Target',\n",
       " 'Prop_3/4\"_Agg._SSD_kg Co_Agg_Clay_lumps_and_friable_particles_(ASTM_C142M)_Agg1_(%)',\n",
       " 'Prop_3/4\"_Agg._SSD_kg Concrete_Grade_Target',\n",
       " 'Prop_Sand_SSD_kg^2',\n",
       " 'Co_Agg_Loss_Angeles_Abrasion_Value_(ASTM_C131)_Agg1_(%) Co_Agg_Material_finer_than_0.075_mm_(ASTM_C117)_Agg1_(%)',\n",
       " 'Co_Agg_Loss_Angeles_Abrasion_Value_(ASTM_C131)_Agg1_(%) Fine_Agg_Soundness_(ASTM_C88)_(%)',\n",
       " 'Co_Agg_Soundness_(ASTM_C88)_Agg1_(%) Co_Agg_Density_(ASTM_C127)_Agg1_Kg/m3',\n",
       " 'Co_Agg_Clay_lumps_and_friable_particles_(ASTM_C142M)_Agg1_(%) Co_Agg_Absorption_(ASTM_C127)_Agg2_(%)',\n",
       " 'Co_Agg_Density_(ASTM_C127)_Agg2_Kg/m3 Fine_Agg_Material_finer_than_0.075_mm_(ASTM_C117)_(%)',\n",
       " 'Fine_Agg_Density_(ASTM_C128)_Kg/m3 Fine_Agg_Absorption_(ASTM_C128)_(%)']"
      ]
     },
     "execution_count": 97,
     "metadata": {},
     "output_type": "execute_result"
    }
   ],
   "source": [
    "## These are the variables we will select for the next stage\n",
    "predictors=list(sfs1.k_feature_names_)\n",
    "predictors"
   ]
  },
  {
   "cell_type": "code",
   "execution_count": 98,
   "metadata": {},
   "outputs": [],
   "source": [
    "X=X[predictors]"
   ]
  },
  {
   "cell_type": "markdown",
   "metadata": {},
   "source": [
    "### 6. Modelling <a class=\"anchor\" id=\"six\"></a>"
   ]
  },
  {
   "cell_type": "code",
   "execution_count": 99,
   "metadata": {},
   "outputs": [],
   "source": [
    "## Splitting Train and Test data (70% train to train the model and 30% to test predictions)\n",
    "X_train, X_test, y_train, y_test = train_test_split(X, y, test_size = 0.3,random_state=1995)"
   ]
  },
  {
   "cell_type": "markdown",
   "metadata": {},
   "source": [
    "#### 6.1 Simple Linear Regression  vs Decision Tree (Illustrative Example)<a class=\"anchor\" id=\"sixone\"></a>"
   ]
  },
  {
   "cell_type": "code",
   "execution_count": 100,
   "metadata": {},
   "outputs": [],
   "source": [
    "X_train_viz=np.array(X_train['Prop_Cement_Kg']).reshape(-1, 1)\n",
    "X_test_viz=np.array(X_test['Prop_Cement_Kg']).reshape(-1, 1)"
   ]
  },
  {
   "cell_type": "code",
   "execution_count": 101,
   "metadata": {},
   "outputs": [],
   "source": [
    "lr = LinearRegression()\n",
    "dt = DecisionTreeRegressor()"
   ]
  },
  {
   "cell_type": "markdown",
   "metadata": {},
   "source": [
    "**Fitting the Model with Train Data**"
   ]
  },
  {
   "cell_type": "code",
   "execution_count": 102,
   "metadata": {},
   "outputs": [
    {
     "data": {
      "image/png": "[encoded data removed]",
      "text/plain": [
       "<Figure size 432x288 with 1 Axes>"
      ]
     },
     "metadata": {
      "needs_background": "light"
     },
     "output_type": "display_data"
    }
   ],
   "source": [
    "## Linear Regression\n",
    "lr.fit(X_train_viz,y_train)\n",
    "\n",
    "plt.scatter(X_train_viz, y_train, color = \"red\")\n",
    "plt.plot(X_train_viz, lr.predict(X_train_viz), color = \"green\")\n",
    "plt.title(\"Simple Linear Regression Example (Train)\")\n",
    "plt.xlabel(\"Prop Cement Kg\")\n",
    "plt.ylabel(\"Compressive strength 28days MPa\")\n",
    "plt.show()"
   ]
  },
  {
   "cell_type": "code",
   "execution_count": 103,
   "metadata": {},
   "outputs": [
    {
     "data": {
      "image/png": "[encoded data removed]",
      "text/plain": [
       "<Figure size 432x288 with 1 Axes>"
      ]
     },
     "metadata": {
      "needs_background": "light"
     },
     "output_type": "display_data"
    }
   ],
   "source": [
    "## Decision Tree Regression\n",
    "dt.fit(X_train_viz,y_train)\n",
    "\n",
    "plt.scatter(X_train_viz, y_train, color = \"red\")\n",
    "plt.plot(X_train_viz, dt.predict(X_train_viz), color = \"green\")\n",
    "plt.title(\"Decision Tree Regression Example (Train)\")\n",
    "plt.xlabel(\"Prop Cement Kg\")\n",
    "plt.ylabel(\"Compressive strength 28days MPa\")\n",
    "plt.show()"
   ]
  },
  {
   "cell_type": "markdown",
   "metadata": {},
   "source": [
    "**Model Predictions with Test Data**"
   ]
  },
  {
   "cell_type": "code",
   "execution_count": 104,
   "metadata": {},
   "outputs": [
    {
     "data": {
      "image/png": "[encoded data removed]",
      "text/plain": [
       "<Figure size 432x288 with 1 Axes>"
      ]
     },
     "metadata": {
      "needs_background": "light"
     },
     "output_type": "display_data"
    }
   ],
   "source": [
    "## Linear Regression\n",
    "\n",
    "plt.scatter(X_test_viz, y_test, color = \"red\")\n",
    "plt.plot(X_test_viz, lr.predict(X_test_viz), color = \"green\")\n",
    "plt.title(\"Simple Linear Regression Example (Test)\")\n",
    "plt.xlabel(\"Prop Cement Kg\")\n",
    "plt.ylabel(\"Compressive strength 28days MPa\")\n",
    "plt.show()"
   ]
  },
  {
   "cell_type": "code",
   "execution_count": 105,
   "metadata": {},
   "outputs": [
    {
     "data": {
      "image/png": "[encoded data removed]",
      "text/plain": [
       "<Figure size 432x288 with 1 Axes>"
      ]
     },
     "metadata": {
      "needs_background": "light"
     },
     "output_type": "display_data"
    }
   ],
   "source": [
    "## Decision Tree Regression\n",
    "\n",
    "plt.scatter(X_test_viz, y_test, color = \"red\")\n",
    "plt.plot(X_test_viz, dt.predict(X_test_viz), color = \"green\")\n",
    "plt.title(\"Decision Tree Regression Example (Test)\")\n",
    "plt.xlabel(\"Prop Cement Kg\")\n",
    "plt.ylabel(\"Compressive strength 28days MPa\")\n",
    "plt.show()"
   ]
  },
  {
   "cell_type": "markdown",
   "metadata": {},
   "source": [
    "**Conclusion: A linear model is more appropriate due to the small sample size and risk of overfitting**"
   ]
  },
  {
   "cell_type": "markdown",
   "metadata": {},
   "source": [
    "#### 6.2  Inferential Linear Regression Model  <a class=\"anchor\" id=\"sixtwo\"></a>"
   ]
  },
  {
   "cell_type": "markdown",
   "metadata": {},
   "source": [
    "We will now fit all the data (train and test) to get a sense of the predictive power of the model and remove any insignificant variables"
   ]
  },
  {
   "cell_type": "code",
   "execution_count": 106,
   "metadata": {},
   "outputs": [
    {
     "name": "stderr",
     "output_type": "stream",
     "text": [
      "/Users/adamtassabehji/opt/anaconda3/lib/python3.7/site-packages/statsmodels/tsa/tsatools.py:142: FutureWarning: In a future version of pandas all arguments of concat except for the argument 'objs' will be keyword-only\n",
      "  x = pd.concat(x[::order], 1)\n"
     ]
    },
    {
     "data": {
      "text/html": [
       "<table class=\"simpletable\">\n",
       "<caption>OLS Regression Results</caption>\n",
       "<tr>\n",
       "  <th>Dep. Variable:</th>         <td>Target</td>      <th>  R-squared:         </th> <td>   0.866</td>\n",
       "</tr>\n",
       "<tr>\n",
       "  <th>Model:</th>                   <td>OLS</td>       <th>  Adj. R-squared:    </th> <td>   0.851</td>\n",
       "</tr>\n",
       "<tr>\n",
       "  <th>Method:</th>             <td>Least Squares</td>  <th>  F-statistic:       </th> <td>   57.54</td>\n",
       "</tr>\n",
       "<tr>\n",
       "  <th>Date:</th>             <td>Sat, 11 Jun 2022</td> <th>  Prob (F-statistic):</th> <td>5.01e-54</td>\n",
       "</tr>\n",
       "<tr>\n",
       "  <th>Time:</th>                 <td>09:29:12</td>     <th>  Log-Likelihood:    </th> <td> -517.47</td>\n",
       "</tr>\n",
       "<tr>\n",
       "  <th>No. Observations:</th>      <td>   160</td>      <th>  AIC:               </th> <td>   1069.</td>\n",
       "</tr>\n",
       "<tr>\n",
       "  <th>Df Residuals:</th>          <td>   143</td>      <th>  BIC:               </th> <td>   1121.</td>\n",
       "</tr>\n",
       "<tr>\n",
       "  <th>Df Model:</th>              <td>    16</td>      <th>                     </th>     <td> </td>   \n",
       "</tr>\n",
       "<tr>\n",
       "  <th>Covariance Type:</th>      <td>nonrobust</td>    <th>                     </th>     <td> </td>   \n",
       "</tr>\n",
       "</table>\n",
       "<table class=\"simpletable\">\n",
       "<tr>\n",
       "                                                          <td></td>                                                            <th>coef</th>     <th>std err</th>      <th>t</th>      <th>P>|t|</th>  <th>[0.025</th>    <th>0.975]</th>  \n",
       "</tr>\n",
       "<tr>\n",
       "  <th>const</th>                                                                                                            <td>   54.9835</td> <td>    0.921</td> <td>   59.689</td> <td> 0.000</td> <td>   53.163</td> <td>   56.804</td>\n",
       "</tr>\n",
       "<tr>\n",
       "  <th>Prop_Cement_Kg</th>                                                                                                   <td>    2.1132</td> <td>    0.766</td> <td>    2.759</td> <td> 0.007</td> <td>    0.599</td> <td>    3.627</td>\n",
       "</tr>\n",
       "<tr>\n",
       "  <th>Concrete_Grade_Target</th>                                                                                            <td>   11.1397</td> <td>    0.706</td> <td>   15.774</td> <td> 0.000</td> <td>    9.744</td> <td>   12.536</td>\n",
       "</tr>\n",
       "<tr>\n",
       "  <th>Prop_Cement_Kg Prop_3/4\"_Agg._SSD_kg</th>                                                                             <td>    2.9162</td> <td>    1.161</td> <td>    2.511</td> <td> 0.013</td> <td>    0.620</td> <td>    5.212</td>\n",
       "</tr>\n",
       "<tr>\n",
       "  <th>Prop_Cement_Kg Co_Agg_Aggregate_Sizes_Agg1_(in)</th>                                                                  <td>   -1.3047</td> <td>    1.166</td> <td>   -1.119</td> <td> 0.265</td> <td>   -3.610</td> <td>    1.001</td>\n",
       "</tr>\n",
       "<tr>\n",
       "  <th>Prop_Cement_Kg Co_Agg_Density_(ASTM_C127)_Agg2_Kg/m3</th>                                                             <td>    3.4666</td> <td>    0.917</td> <td>    3.779</td> <td> 0.000</td> <td>    1.653</td> <td>    5.280</td>\n",
       "</tr>\n",
       "<tr>\n",
       "  <th>Pro_Fly_Ash_Kg Prop_Silica_Fume_kg</th>                                                                               <td>   -1.0886</td> <td>    0.838</td> <td>   -1.300</td> <td> 0.196</td> <td>   -2.744</td> <td>    0.567</td>\n",
       "</tr>\n",
       "<tr>\n",
       "  <th>Prop_Silica_Fume_kg Concrete_Grade_Target</th>                                                                        <td>    1.9095</td> <td>    0.666</td> <td>    2.865</td> <td> 0.005</td> <td>    0.592</td> <td>    3.227</td>\n",
       "</tr>\n",
       "<tr>\n",
       "  <th>Prop_3/4\"_Agg._SSD_kg Co_Agg_Clay_lumps_and_friable_particles_(ASTM_C142M)_Agg1_(%)</th>                              <td>    2.2407</td> <td>    0.731</td> <td>    3.064</td> <td> 0.003</td> <td>    0.795</td> <td>    3.686</td>\n",
       "</tr>\n",
       "<tr>\n",
       "  <th>Prop_3/4\"_Agg._SSD_kg Concrete_Grade_Target</th>                                                                      <td>    0.3787</td> <td>    0.747</td> <td>    0.507</td> <td> 0.613</td> <td>   -1.097</td> <td>    1.855</td>\n",
       "</tr>\n",
       "<tr>\n",
       "  <th>Prop_Sand_SSD_kg^2</th>                                                                                               <td>   -2.2495</td> <td>    0.413</td> <td>   -5.444</td> <td> 0.000</td> <td>   -3.066</td> <td>   -1.433</td>\n",
       "</tr>\n",
       "<tr>\n",
       "  <th>Co_Agg_Loss_Angeles_Abrasion_Value_(ASTM_C131)_Agg1_(%) Co_Agg_Material_finer_than_0.075_mm_(ASTM_C117)_Agg1_(%)</th> <td>   -0.6446</td> <td>    0.773</td> <td>   -0.834</td> <td> 0.406</td> <td>   -2.173</td> <td>    0.884</td>\n",
       "</tr>\n",
       "<tr>\n",
       "  <th>Co_Agg_Loss_Angeles_Abrasion_Value_(ASTM_C131)_Agg1_(%) Fine_Agg_Soundness_(ASTM_C88)_(%)</th>                        <td>    4.0711</td> <td>    1.260</td> <td>    3.232</td> <td> 0.002</td> <td>    1.581</td> <td>    6.561</td>\n",
       "</tr>\n",
       "<tr>\n",
       "  <th>Co_Agg_Soundness_(ASTM_C88)_Agg1_(%) Co_Agg_Density_(ASTM_C127)_Agg1_Kg/m3</th>                                       <td>   -3.2335</td> <td>    0.716</td> <td>   -4.514</td> <td> 0.000</td> <td>   -4.650</td> <td>   -1.817</td>\n",
       "</tr>\n",
       "<tr>\n",
       "  <th>Co_Agg_Clay_lumps_and_friable_particles_(ASTM_C142M)_Agg1_(%) Co_Agg_Absorption_(ASTM_C127)_Agg2_(%)</th>             <td>    1.1981</td> <td>    0.692</td> <td>    1.731</td> <td> 0.086</td> <td>   -0.170</td> <td>    2.566</td>\n",
       "</tr>\n",
       "<tr>\n",
       "  <th>Co_Agg_Density_(ASTM_C127)_Agg2_Kg/m3 Fine_Agg_Material_finer_than_0.075_mm_(ASTM_C117)_(%)</th>                      <td>   -1.5288</td> <td>    0.540</td> <td>   -2.831</td> <td> 0.005</td> <td>   -2.596</td> <td>   -0.461</td>\n",
       "</tr>\n",
       "<tr>\n",
       "  <th>Fine_Agg_Density_(ASTM_C128)_Kg/m3 Fine_Agg_Absorption_(ASTM_C128)_(%)</th>                                           <td>   -1.5655</td> <td>    0.701</td> <td>   -2.233</td> <td> 0.027</td> <td>   -2.952</td> <td>   -0.179</td>\n",
       "</tr>\n",
       "</table>\n",
       "<table class=\"simpletable\">\n",
       "<tr>\n",
       "  <th>Omnibus:</th>       <td>12.124</td> <th>  Durbin-Watson:     </th> <td>   1.934</td>\n",
       "</tr>\n",
       "<tr>\n",
       "  <th>Prob(Omnibus):</th> <td> 0.002</td> <th>  Jarque-Bera (JB):  </th> <td>  16.541</td>\n",
       "</tr>\n",
       "<tr>\n",
       "  <th>Skew:</th>          <td>-0.459</td> <th>  Prob(JB):          </th> <td>0.000256</td>\n",
       "</tr>\n",
       "<tr>\n",
       "  <th>Kurtosis:</th>      <td> 4.280</td> <th>  Cond. No.          </th> <td>    7.39</td>\n",
       "</tr>\n",
       "</table><br/><br/>Notes:<br/>[1] Standard Errors assume that the covariance matrix of the errors is correctly specified."
      ],
      "text/plain": [
       "<class 'statsmodels.iolib.summary.Summary'>\n",
       "\"\"\"\n",
       "                            OLS Regression Results                            \n",
       "==============================================================================\n",
       "Dep. Variable:                 Target   R-squared:                       0.866\n",
       "Model:                            OLS   Adj. R-squared:                  0.851\n",
       "Method:                 Least Squares   F-statistic:                     57.54\n",
       "Date:                Sat, 11 Jun 2022   Prob (F-statistic):           5.01e-54\n",
       "Time:                        09:29:12   Log-Likelihood:                -517.47\n",
       "No. Observations:                 160   AIC:                             1069.\n",
       "Df Residuals:                     143   BIC:                             1121.\n",
       "Df Model:                          16                                         \n",
       "Covariance Type:            nonrobust                                         \n",
       "====================================================================================================================================================================================\n",
       "                                                                                                                       coef    std err          t      P>|t|      [0.025      0.975]\n",
       "------------------------------------------------------------------------------------------------------------------------------------------------------------------------------------\n",
       "const                                                                                                               54.9835      0.921     59.689      0.000      53.163      56.804\n",
       "Prop_Cement_Kg                                                                                                       2.1132      0.766      2.759      0.007       0.599       3.627\n",
       "Concrete_Grade_Target                                                                                               11.1397      0.706     15.774      0.000       9.744      12.536\n",
       "Prop_Cement_Kg Prop_3/4\"_Agg._SSD_kg                                                                                 2.9162      1.161      2.511      0.013       0.620       5.212\n",
       "Prop_Cement_Kg Co_Agg_Aggregate_Sizes_Agg1_(in)                                                                     -1.3047      1.166     -1.119      0.265      -3.610       1.001\n",
       "Prop_Cement_Kg Co_Agg_Density_(ASTM_C127)_Agg2_Kg/m3                                                                 3.4666      0.917      3.779      0.000       1.653       5.280\n",
       "Pro_Fly_Ash_Kg Prop_Silica_Fume_kg                                                                                  -1.0886      0.838     -1.300      0.196      -2.744       0.567\n",
       "Prop_Silica_Fume_kg Concrete_Grade_Target                                                                            1.9095      0.666      2.865      0.005       0.592       3.227\n",
       "Prop_3/4\"_Agg._SSD_kg Co_Agg_Clay_lumps_and_friable_particles_(ASTM_C142M)_Agg1_(%)                                  2.2407      0.731      3.064      0.003       0.795       3.686\n",
       "Prop_3/4\"_Agg._SSD_kg Concrete_Grade_Target                                                                          0.3787      0.747      0.507      0.613      -1.097       1.855\n",
       "Prop_Sand_SSD_kg^2                                                                                                  -2.2495      0.413     -5.444      0.000      -3.066      -1.433\n",
       "Co_Agg_Loss_Angeles_Abrasion_Value_(ASTM_C131)_Agg1_(%) Co_Agg_Material_finer_than_0.075_mm_(ASTM_C117)_Agg1_(%)    -0.6446      0.773     -0.834      0.406      -2.173       0.884\n",
       "Co_Agg_Loss_Angeles_Abrasion_Value_(ASTM_C131)_Agg1_(%) Fine_Agg_Soundness_(ASTM_C88)_(%)                            4.0711      1.260      3.232      0.002       1.581       6.561\n",
       "Co_Agg_Soundness_(ASTM_C88)_Agg1_(%) Co_Agg_Density_(ASTM_C127)_Agg1_Kg/m3                                          -3.2335      0.716     -4.514      0.000      -4.650      -1.817\n",
       "Co_Agg_Clay_lumps_and_friable_particles_(ASTM_C142M)_Agg1_(%) Co_Agg_Absorption_(ASTM_C127)_Agg2_(%)                 1.1981      0.692      1.731      0.086      -0.170       2.566\n",
       "Co_Agg_Density_(ASTM_C127)_Agg2_Kg/m3 Fine_Agg_Material_finer_than_0.075_mm_(ASTM_C117)_(%)                         -1.5288      0.540     -2.831      0.005      -2.596      -0.461\n",
       "Fine_Agg_Density_(ASTM_C128)_Kg/m3 Fine_Agg_Absorption_(ASTM_C128)_(%)                                              -1.5655      0.701     -2.233      0.027      -2.952      -0.179\n",
       "==============================================================================\n",
       "Omnibus:                       12.124   Durbin-Watson:                   1.934\n",
       "Prob(Omnibus):                  0.002   Jarque-Bera (JB):               16.541\n",
       "Skew:                          -0.459   Prob(JB):                     0.000256\n",
       "Kurtosis:                       4.280   Cond. No.                         7.39\n",
       "==============================================================================\n",
       "\n",
       "Notes:\n",
       "[1] Standard Errors assume that the covariance matrix of the errors is correctly specified.\n",
       "\"\"\""
      ]
     },
     "execution_count": 106,
     "metadata": {},
     "output_type": "execute_result"
    }
   ],
   "source": [
    "X_full_model = sm.add_constant(X)\n",
    "model = sm.OLS(y,X_full_model)\n",
    "result = model.fit()\n",
    "result.summary()"
   ]
  },
  {
   "cell_type": "code",
   "execution_count": 107,
   "metadata": {},
   "outputs": [],
   "source": [
    "\n",
    "## These variables had very high p values, indicating they don't have a statistically significant\n",
    "## relationship with the target variable\n",
    "\n",
    "X=X.drop(['Prop_3/4\"_Agg._SSD_kg Concrete_Grade_Target',\n",
    "         'Prop_Cement_Kg Co_Agg_Aggregate_Sizes_Agg1_(in)',\n",
    "        'Co_Agg_Loss_Angeles_Abrasion_Value_(ASTM_C131)_Agg1_(%) Co_Agg_Material_finer_than_0.075_mm_(ASTM_C117)_Agg1_(%)'],\n",
    "         axis=1)"
   ]
  },
  {
   "cell_type": "markdown",
   "metadata": {},
   "source": [
    "- Examining the p values below, we can see that all variables are statistically significant at a level >90%\n",
    "- Adjusted R squared has also increased"
   ]
  },
  {
   "cell_type": "code",
   "execution_count": 108,
   "metadata": {},
   "outputs": [
    {
     "name": "stderr",
     "output_type": "stream",
     "text": [
      "/Users/adamtassabehji/opt/anaconda3/lib/python3.7/site-packages/statsmodels/tsa/tsatools.py:142: FutureWarning: In a future version of pandas all arguments of concat except for the argument 'objs' will be keyword-only\n",
      "  x = pd.concat(x[::order], 1)\n"
     ]
    },
    {
     "data": {
      "text/html": [
       "<table class=\"simpletable\">\n",
       "<caption>OLS Regression Results</caption>\n",
       "<tr>\n",
       "  <th>Dep. Variable:</th>         <td>Target</td>      <th>  R-squared:         </th> <td>   0.864</td>\n",
       "</tr>\n",
       "<tr>\n",
       "  <th>Model:</th>                   <td>OLS</td>       <th>  Adj. R-squared:    </th> <td>   0.852</td>\n",
       "</tr>\n",
       "<tr>\n",
       "  <th>Method:</th>             <td>Least Squares</td>  <th>  F-statistic:       </th> <td>   71.13</td>\n",
       "</tr>\n",
       "<tr>\n",
       "  <th>Date:</th>             <td>Sat, 11 Jun 2022</td> <th>  Prob (F-statistic):</th> <td>2.39e-56</td>\n",
       "</tr>\n",
       "<tr>\n",
       "  <th>Time:</th>                 <td>09:29:12</td>     <th>  Log-Likelihood:    </th> <td> -518.60</td>\n",
       "</tr>\n",
       "<tr>\n",
       "  <th>No. Observations:</th>      <td>   160</td>      <th>  AIC:               </th> <td>   1065.</td>\n",
       "</tr>\n",
       "<tr>\n",
       "  <th>Df Residuals:</th>          <td>   146</td>      <th>  BIC:               </th> <td>   1108.</td>\n",
       "</tr>\n",
       "<tr>\n",
       "  <th>Df Model:</th>              <td>    13</td>      <th>                     </th>     <td> </td>   \n",
       "</tr>\n",
       "<tr>\n",
       "  <th>Covariance Type:</th>      <td>nonrobust</td>    <th>                     </th>     <td> </td>   \n",
       "</tr>\n",
       "</table>\n",
       "<table class=\"simpletable\">\n",
       "<tr>\n",
       "                                                    <td></td>                                                      <th>coef</th>     <th>std err</th>      <th>t</th>      <th>P>|t|</th>  <th>[0.025</th>    <th>0.975]</th>  \n",
       "</tr>\n",
       "<tr>\n",
       "  <th>const</th>                                                                                                <td>   54.7963</td> <td>    0.885</td> <td>   61.947</td> <td> 0.000</td> <td>   53.048</td> <td>   56.544</td>\n",
       "</tr>\n",
       "<tr>\n",
       "  <th>Prop_Cement_Kg</th>                                                                                       <td>    1.8788</td> <td>    0.691</td> <td>    2.721</td> <td> 0.007</td> <td>    0.514</td> <td>    3.244</td>\n",
       "</tr>\n",
       "<tr>\n",
       "  <th>Concrete_Grade_Target</th>                                                                                <td>   11.3113</td> <td>    0.671</td> <td>   16.846</td> <td> 0.000</td> <td>    9.984</td> <td>   12.638</td>\n",
       "</tr>\n",
       "<tr>\n",
       "  <th>Prop_Cement_Kg Prop_3/4\"_Agg._SSD_kg</th>                                                                 <td>    2.2728</td> <td>    0.626</td> <td>    3.629</td> <td> 0.000</td> <td>    1.035</td> <td>    3.510</td>\n",
       "</tr>\n",
       "<tr>\n",
       "  <th>Prop_Cement_Kg Co_Agg_Density_(ASTM_C127)_Agg2_Kg/m3</th>                                                 <td>    3.3099</td> <td>    0.873</td> <td>    3.790</td> <td> 0.000</td> <td>    1.584</td> <td>    5.036</td>\n",
       "</tr>\n",
       "<tr>\n",
       "  <th>Pro_Fly_Ash_Kg Prop_Silica_Fume_kg</th>                                                                   <td>   -1.3919</td> <td>    0.793</td> <td>   -1.755</td> <td> 0.081</td> <td>   -2.959</td> <td>    0.175</td>\n",
       "</tr>\n",
       "<tr>\n",
       "  <th>Prop_Silica_Fume_kg Concrete_Grade_Target</th>                                                            <td>    2.0964</td> <td>    0.647</td> <td>    3.241</td> <td> 0.001</td> <td>    0.818</td> <td>    3.375</td>\n",
       "</tr>\n",
       "<tr>\n",
       "  <th>Prop_3/4\"_Agg._SSD_kg Co_Agg_Clay_lumps_and_friable_particles_(ASTM_C142M)_Agg1_(%)</th>                  <td>    2.1526</td> <td>    0.660</td> <td>    3.264</td> <td> 0.001</td> <td>    0.849</td> <td>    3.456</td>\n",
       "</tr>\n",
       "<tr>\n",
       "  <th>Prop_Sand_SSD_kg^2</th>                                                                                   <td>   -2.1015</td> <td>    0.380</td> <td>   -5.526</td> <td> 0.000</td> <td>   -2.853</td> <td>   -1.350</td>\n",
       "</tr>\n",
       "<tr>\n",
       "  <th>Co_Agg_Loss_Angeles_Abrasion_Value_(ASTM_C131)_Agg1_(%) Fine_Agg_Soundness_(ASTM_C88)_(%)</th>            <td>    4.4168</td> <td>    1.182</td> <td>    3.736</td> <td> 0.000</td> <td>    2.080</td> <td>    6.753</td>\n",
       "</tr>\n",
       "<tr>\n",
       "  <th>Co_Agg_Soundness_(ASTM_C88)_Agg1_(%) Co_Agg_Density_(ASTM_C127)_Agg1_Kg/m3</th>                           <td>   -2.9540</td> <td>    0.642</td> <td>   -4.598</td> <td> 0.000</td> <td>   -4.224</td> <td>   -1.684</td>\n",
       "</tr>\n",
       "<tr>\n",
       "  <th>Co_Agg_Clay_lumps_and_friable_particles_(ASTM_C142M)_Agg1_(%) Co_Agg_Absorption_(ASTM_C127)_Agg2_(%)</th> <td>    1.2623</td> <td>    0.679</td> <td>    1.858</td> <td> 0.065</td> <td>   -0.080</td> <td>    2.605</td>\n",
       "</tr>\n",
       "<tr>\n",
       "  <th>Co_Agg_Density_(ASTM_C127)_Agg2_Kg/m3 Fine_Agg_Material_finer_than_0.075_mm_(ASTM_C117)_(%)</th>          <td>   -1.5221</td> <td>    0.534</td> <td>   -2.851</td> <td> 0.005</td> <td>   -2.577</td> <td>   -0.467</td>\n",
       "</tr>\n",
       "<tr>\n",
       "  <th>Fine_Agg_Density_(ASTM_C128)_Kg/m3 Fine_Agg_Absorption_(ASTM_C128)_(%)</th>                               <td>   -1.4727</td> <td>    0.688</td> <td>   -2.141</td> <td> 0.034</td> <td>   -2.832</td> <td>   -0.113</td>\n",
       "</tr>\n",
       "</table>\n",
       "<table class=\"simpletable\">\n",
       "<tr>\n",
       "  <th>Omnibus:</th>       <td>17.441</td> <th>  Durbin-Watson:     </th> <td>   1.895</td>\n",
       "</tr>\n",
       "<tr>\n",
       "  <th>Prob(Omnibus):</th> <td> 0.000</td> <th>  Jarque-Bera (JB):  </th> <td>  28.078</td>\n",
       "</tr>\n",
       "<tr>\n",
       "  <th>Skew:</th>          <td>-0.570</td> <th>  Prob(JB):          </th> <td>8.00e-07</td>\n",
       "</tr>\n",
       "<tr>\n",
       "  <th>Kurtosis:</th>      <td> 4.706</td> <th>  Cond. No.          </th> <td>    6.27</td>\n",
       "</tr>\n",
       "</table><br/><br/>Notes:<br/>[1] Standard Errors assume that the covariance matrix of the errors is correctly specified."
      ],
      "text/plain": [
       "<class 'statsmodels.iolib.summary.Summary'>\n",
       "\"\"\"\n",
       "                            OLS Regression Results                            \n",
       "==============================================================================\n",
       "Dep. Variable:                 Target   R-squared:                       0.864\n",
       "Model:                            OLS   Adj. R-squared:                  0.852\n",
       "Method:                 Least Squares   F-statistic:                     71.13\n",
       "Date:                Sat, 11 Jun 2022   Prob (F-statistic):           2.39e-56\n",
       "Time:                        09:29:12   Log-Likelihood:                -518.60\n",
       "No. Observations:                 160   AIC:                             1065.\n",
       "Df Residuals:                     146   BIC:                             1108.\n",
       "Df Model:                          13                                         \n",
       "Covariance Type:            nonrobust                                         \n",
       "========================================================================================================================================================================\n",
       "                                                                                                           coef    std err          t      P>|t|      [0.025      0.975]\n",
       "------------------------------------------------------------------------------------------------------------------------------------------------------------------------\n",
       "const                                                                                                   54.7963      0.885     61.947      0.000      53.048      56.544\n",
       "Prop_Cement_Kg                                                                                           1.8788      0.691      2.721      0.007       0.514       3.244\n",
       "Concrete_Grade_Target                                                                                   11.3113      0.671     16.846      0.000       9.984      12.638\n",
       "Prop_Cement_Kg Prop_3/4\"_Agg._SSD_kg                                                                     2.2728      0.626      3.629      0.000       1.035       3.510\n",
       "Prop_Cement_Kg Co_Agg_Density_(ASTM_C127)_Agg2_Kg/m3                                                     3.3099      0.873      3.790      0.000       1.584       5.036\n",
       "Pro_Fly_Ash_Kg Prop_Silica_Fume_kg                                                                      -1.3919      0.793     -1.755      0.081      -2.959       0.175\n",
       "Prop_Silica_Fume_kg Concrete_Grade_Target                                                                2.0964      0.647      3.241      0.001       0.818       3.375\n",
       "Prop_3/4\"_Agg._SSD_kg Co_Agg_Clay_lumps_and_friable_particles_(ASTM_C142M)_Agg1_(%)                      2.1526      0.660      3.264      0.001       0.849       3.456\n",
       "Prop_Sand_SSD_kg^2                                                                                      -2.1015      0.380     -5.526      0.000      -2.853      -1.350\n",
       "Co_Agg_Loss_Angeles_Abrasion_Value_(ASTM_C131)_Agg1_(%) Fine_Agg_Soundness_(ASTM_C88)_(%)                4.4168      1.182      3.736      0.000       2.080       6.753\n",
       "Co_Agg_Soundness_(ASTM_C88)_Agg1_(%) Co_Agg_Density_(ASTM_C127)_Agg1_Kg/m3                              -2.9540      0.642     -4.598      0.000      -4.224      -1.684\n",
       "Co_Agg_Clay_lumps_and_friable_particles_(ASTM_C142M)_Agg1_(%) Co_Agg_Absorption_(ASTM_C127)_Agg2_(%)     1.2623      0.679      1.858      0.065      -0.080       2.605\n",
       "Co_Agg_Density_(ASTM_C127)_Agg2_Kg/m3 Fine_Agg_Material_finer_than_0.075_mm_(ASTM_C117)_(%)             -1.5221      0.534     -2.851      0.005      -2.577      -0.467\n",
       "Fine_Agg_Density_(ASTM_C128)_Kg/m3 Fine_Agg_Absorption_(ASTM_C128)_(%)                                  -1.4727      0.688     -2.141      0.034      -2.832      -0.113\n",
       "==============================================================================\n",
       "Omnibus:                       17.441   Durbin-Watson:                   1.895\n",
       "Prob(Omnibus):                  0.000   Jarque-Bera (JB):               28.078\n",
       "Skew:                          -0.570   Prob(JB):                     8.00e-07\n",
       "Kurtosis:                       4.706   Cond. No.                         6.27\n",
       "==============================================================================\n",
       "\n",
       "Notes:\n",
       "[1] Standard Errors assume that the covariance matrix of the errors is correctly specified.\n",
       "\"\"\""
      ]
     },
     "execution_count": 108,
     "metadata": {},
     "output_type": "execute_result"
    }
   ],
   "source": [
    "X_full_model = sm.add_constant(X)\n",
    "model = sm.OLS(y,X_full_model)\n",
    "result = model.fit()\n",
    "result.summary()"
   ]
  },
  {
   "cell_type": "markdown",
   "metadata": {},
   "source": [
    "#### 6.3 Model Comparison <a class=\"anchor\" id=\"sixthree\"></a>"
   ]
  },
  {
   "cell_type": "markdown",
   "metadata": {},
   "source": [
    "We will now compute predictions for a variety of different linear and non-linear models"
   ]
  },
  {
   "cell_type": "code",
   "execution_count": 109,
   "metadata": {},
   "outputs": [],
   "source": [
    "regressors = {\n",
    "    \"XGBRegressor\": XGBRegressor(),\n",
    "    \"LGBMRegressor\": lgb.LGBMRegressor(),\n",
    "    \"CATBoostRegressor\": cb.CatBoostRegressor(verbose=False),\n",
    "    'AdaBoostRegressor':AdaBoostRegressor(),\n",
    "    \"RandomForestRegressor\": RandomForestRegressor(),\n",
    "    \"DecisionTreeRegressor\": DecisionTreeRegressor(),\n",
    "    \"Lasso\": linear_model.Lasso(),\n",
    "    \"LinearRegression\": LinearRegression(),\n",
    "    \"Ridge\":Ridge(),\n",
    "    \"Lars\": Lars(),\n",
    "    \"TheilSenRegressor\": TheilSenRegressor(),\n",
    "    \"HuberRegressor\": HuberRegressor(),\n",
    "    \"ARDRegression\": ARDRegression(),\n",
    "    \"BayesianRidge\": BayesianRidge(),\n",
    "    \"ElasticNet\": ElasticNet(),\n",
    "}"
   ]
  },
  {
   "cell_type": "code",
   "execution_count": 110,
   "metadata": {},
   "outputs": [
    {
     "name": "stdout",
     "output_type": "stream",
     "text": [
      "* XGBRegressor\n",
      "* LGBMRegressor\n",
      "* CATBoostRegressor\n",
      "* AdaBoostRegressor\n",
      "* RandomForestRegressor\n",
      "* DecisionTreeRegressor\n",
      "* Lasso\n",
      "* LinearRegression\n",
      "* Ridge\n",
      "* Lars\n",
      "* TheilSenRegressor\n",
      "* HuberRegressor\n",
      "* ARDRegression\n",
      "* BayesianRidge\n",
      "* ElasticNet\n"
     ]
    }
   ],
   "source": [
    "## This will create a summary table for the results\n",
    "\n",
    "df_models = pd.DataFrame(columns=['model', 'run_time', 'r2_train','r2_test','r2_cv','rmse'])\n",
    "\n",
    "for key in regressors:\n",
    "\n",
    "    print('*',key)\n",
    "\n",
    "    start_time = time.time()\n",
    "\n",
    "    regressor = regressors[key]\n",
    "    model = regressor.fit(X_train, y_train)\n",
    "    y_pred = model.predict(X_test)\n",
    "\n",
    "    scores = cross_val_score(model, \n",
    "                             X, \n",
    "                             y,\n",
    "                             scoring=\"r2\", \n",
    "                             cv=10)\n",
    "\n",
    "    row = {'model': key,\n",
    "           'run_time': format(round((time.time() - start_time)/60,2)),\n",
    "           'r2_train': regressor.score(X_train, y_train),\n",
    "           'r2_test' : regressor.score(X_test, y_test),\n",
    "           'r2_cv': np.mean(scores),\n",
    "           'rmse': mean_squared_error(y_test, y_pred, squared=False)\n",
    "           \n",
    "    }\n",
    "\n",
    "    df_models = df_models.append(row, ignore_index=True)"
   ]
  },
  {
   "cell_type": "code",
   "execution_count": 111,
   "metadata": {},
   "outputs": [
    {
     "data": {
      "text/html": [
       "<div>\n",
       "<style scoped>\n",
       "    .dataframe tbody tr th:only-of-type {\n",
       "        vertical-align: middle;\n",
       "    }\n",
       "\n",
       "    .dataframe tbody tr th {\n",
       "        vertical-align: top;\n",
       "    }\n",
       "\n",
       "    .dataframe thead th {\n",
       "        text-align: right;\n",
       "    }\n",
       "</style>\n",
       "<table border=\"1\" class=\"dataframe\">\n",
       "  <thead>\n",
       "    <tr style=\"text-align: right;\">\n",
       "      <th></th>\n",
       "      <th>model</th>\n",
       "      <th>run_time</th>\n",
       "      <th>r2_train</th>\n",
       "      <th>r2_test</th>\n",
       "      <th>r2_cv</th>\n",
       "      <th>rmse</th>\n",
       "    </tr>\n",
       "  </thead>\n",
       "  <tbody>\n",
       "    <tr>\n",
       "      <th>7</th>\n",
       "      <td>LinearRegression</td>\n",
       "      <td>0.0</td>\n",
       "      <td>0.855535</td>\n",
       "      <td>0.877655</td>\n",
       "      <td>0.712705</td>\n",
       "      <td>5.808755</td>\n",
       "    </tr>\n",
       "    <tr>\n",
       "      <th>9</th>\n",
       "      <td>Lars</td>\n",
       "      <td>0.0</td>\n",
       "      <td>0.855535</td>\n",
       "      <td>0.877655</td>\n",
       "      <td>0.712705</td>\n",
       "      <td>5.808755</td>\n",
       "    </tr>\n",
       "    <tr>\n",
       "      <th>8</th>\n",
       "      <td>Ridge</td>\n",
       "      <td>0.0</td>\n",
       "      <td>0.855403</td>\n",
       "      <td>0.879889</td>\n",
       "      <td>0.712703</td>\n",
       "      <td>5.755458</td>\n",
       "    </tr>\n",
       "    <tr>\n",
       "      <th>13</th>\n",
       "      <td>BayesianRidge</td>\n",
       "      <td>0.0</td>\n",
       "      <td>0.854036</td>\n",
       "      <td>0.883519</td>\n",
       "      <td>0.711238</td>\n",
       "      <td>5.667818</td>\n",
       "    </tr>\n",
       "    <tr>\n",
       "      <th>11</th>\n",
       "      <td>HuberRegressor</td>\n",
       "      <td>0.0</td>\n",
       "      <td>0.841056</td>\n",
       "      <td>0.876390</td>\n",
       "      <td>0.691598</td>\n",
       "      <td>5.838688</td>\n",
       "    </tr>\n",
       "    <tr>\n",
       "      <th>12</th>\n",
       "      <td>ARDRegression</td>\n",
       "      <td>0.0</td>\n",
       "      <td>0.846841</td>\n",
       "      <td>0.878181</td>\n",
       "      <td>0.673999</td>\n",
       "      <td>5.796243</td>\n",
       "    </tr>\n",
       "    <tr>\n",
       "      <th>10</th>\n",
       "      <td>TheilSenRegressor</td>\n",
       "      <td>0.16</td>\n",
       "      <td>0.828360</td>\n",
       "      <td>0.884277</td>\n",
       "      <td>0.639270</td>\n",
       "      <td>5.649352</td>\n",
       "    </tr>\n",
       "    <tr>\n",
       "      <th>6</th>\n",
       "      <td>Lasso</td>\n",
       "      <td>0.0</td>\n",
       "      <td>0.799005</td>\n",
       "      <td>0.826743</td>\n",
       "      <td>0.551257</td>\n",
       "      <td>6.912488</td>\n",
       "    </tr>\n",
       "    <tr>\n",
       "      <th>4</th>\n",
       "      <td>RandomForestRegressor</td>\n",
       "      <td>0.04</td>\n",
       "      <td>0.963444</td>\n",
       "      <td>0.803751</td>\n",
       "      <td>0.519211</td>\n",
       "      <td>7.356867</td>\n",
       "    </tr>\n",
       "    <tr>\n",
       "      <th>14</th>\n",
       "      <td>ElasticNet</td>\n",
       "      <td>0.0</td>\n",
       "      <td>0.748552</td>\n",
       "      <td>0.795611</td>\n",
       "      <td>0.494978</td>\n",
       "      <td>7.507883</td>\n",
       "    </tr>\n",
       "    <tr>\n",
       "      <th>3</th>\n",
       "      <td>AdaBoostRegressor</td>\n",
       "      <td>0.01</td>\n",
       "      <td>0.915515</td>\n",
       "      <td>0.759549</td>\n",
       "      <td>0.483248</td>\n",
       "      <td>8.143338</td>\n",
       "    </tr>\n",
       "    <tr>\n",
       "      <th>0</th>\n",
       "      <td>XGBRegressor</td>\n",
       "      <td>0.01</td>\n",
       "      <td>0.994672</td>\n",
       "      <td>0.709289</td>\n",
       "      <td>0.454273</td>\n",
       "      <td>8.954062</td>\n",
       "    </tr>\n",
       "    <tr>\n",
       "      <th>2</th>\n",
       "      <td>CATBoostRegressor</td>\n",
       "      <td>0.18</td>\n",
       "      <td>0.994010</td>\n",
       "      <td>0.718403</td>\n",
       "      <td>0.403134</td>\n",
       "      <td>8.812584</td>\n",
       "    </tr>\n",
       "    <tr>\n",
       "      <th>1</th>\n",
       "      <td>LGBMRegressor</td>\n",
       "      <td>0.0</td>\n",
       "      <td>0.932463</td>\n",
       "      <td>0.700342</td>\n",
       "      <td>0.375810</td>\n",
       "      <td>9.090805</td>\n",
       "    </tr>\n",
       "    <tr>\n",
       "      <th>5</th>\n",
       "      <td>DecisionTreeRegressor</td>\n",
       "      <td>0.0</td>\n",
       "      <td>0.994672</td>\n",
       "      <td>0.671556</td>\n",
       "      <td>0.174303</td>\n",
       "      <td>9.517436</td>\n",
       "    </tr>\n",
       "  </tbody>\n",
       "</table>\n",
       "</div>"
      ],
      "text/plain": [
       "                    model run_time  r2_train   r2_test     r2_cv      rmse\n",
       "7        LinearRegression      0.0  0.855535  0.877655  0.712705  5.808755\n",
       "9                    Lars      0.0  0.855535  0.877655  0.712705  5.808755\n",
       "8                   Ridge      0.0  0.855403  0.879889  0.712703  5.755458\n",
       "13          BayesianRidge      0.0  0.854036  0.883519  0.711238  5.667818\n",
       "11         HuberRegressor      0.0  0.841056  0.876390  0.691598  5.838688\n",
       "12          ARDRegression      0.0  0.846841  0.878181  0.673999  5.796243\n",
       "10      TheilSenRegressor     0.16  0.828360  0.884277  0.639270  5.649352\n",
       "6                   Lasso      0.0  0.799005  0.826743  0.551257  6.912488\n",
       "4   RandomForestRegressor     0.04  0.963444  0.803751  0.519211  7.356867\n",
       "14             ElasticNet      0.0  0.748552  0.795611  0.494978  7.507883\n",
       "3       AdaBoostRegressor     0.01  0.915515  0.759549  0.483248  8.143338\n",
       "0            XGBRegressor     0.01  0.994672  0.709289  0.454273  8.954062\n",
       "2       CATBoostRegressor     0.18  0.994010  0.718403  0.403134  8.812584\n",
       "1           LGBMRegressor      0.0  0.932463  0.700342  0.375810  9.090805\n",
       "5   DecisionTreeRegressor      0.0  0.994672  0.671556  0.174303  9.517436"
      ]
     },
     "execution_count": 111,
     "metadata": {},
     "output_type": "execute_result"
    }
   ],
   "source": [
    "## Below is a summary of performance\n",
    "\n",
    "df_models=df_models.sort_values(by='r2_cv', ascending=False)\n",
    "df_models"
   ]
  },
  {
   "cell_type": "markdown",
   "metadata": {},
   "source": [
    "- As seen in the graph below, non-linear models overfitted \n",
    "- This means that when predicting train score data, they performed very well but performed poorly using test data\n",
    "- Linear models had a much better balance"
   ]
  },
  {
   "cell_type": "code",
   "execution_count": 112,
   "metadata": {},
   "outputs": [
    {
     "data": {
      "image/png": "[encoded data removed]",
      "text/plain": [
       "<Figure size 1152x576 with 1 Axes>"
      ]
     },
     "metadata": {
      "needs_background": "light"
     },
     "output_type": "display_data"
    }
   ],
   "source": [
    "fig= plt.figure(figsize=(16,8))\n",
    "\n",
    "x_axis = np.arange(len(df_models))\n",
    "\n",
    "plt.bar(x_axis -0.2, df_models['r2_train'], width=0.4, label = 'Train')\n",
    "plt.bar(x_axis +0.2, df_models['r2_test'], width=0.4, label = 'Test',color='gray')\n",
    "\n",
    "plt.xlabel('Model')\n",
    "\n",
    "plt.xticks(x_axis, df_models['model'],rotation=45)\n",
    "\n",
    "plt.title('Model Comparison (Train & Test Scores)')\n",
    "\n",
    "plt.ylabel('R2 Score')\n",
    "\n",
    "plt.legend(['Train','Test'])\n",
    "\n",
    "plt.show()"
   ]
  },
  {
   "cell_type": "raw",
   "metadata": {},
   "source": [
    "## Plotly Visualization (IGNORE)\n",
    "\n",
    "fig = px.histogram(df_models, x='model', y=['r2_train','r2_test','r2_cv'],barmode='group',\n",
    "             height=400)\n",
    "\n",
    "fig.update_layout(\n",
    "    height=500,\n",
    "    title_text='Model Comparison (Train & Test Scores)',\n",
    "    title_x=0.5,\n",
    "    legend_title='',)\n",
    "\n",
    "fig.update_xaxes(title_text='Models')\n",
    "fig.update_yaxes(title_text='Accuracy Score')\n",
    "                 \n",
    "fig.show()"
   ]
  },
  {
   "cell_type": "markdown",
   "metadata": {},
   "source": [
    "**Comparison of Models**\n",
    "\n",
    "**LinearRegression (OLS)** fits a linear model with coefficients  to minimize the residual sum of squares between the observed targets in the dataset, and the targets predicted by the linear approximation.\n",
    "\n",
    "**Least-angle regression (LARS)** is a regression algorithm for high-dimensional data, At each step, it finds the feature most correlated with the target. When there are multiple features having equal correlation, instead of continuing along the same feature, it proceeds in a direction equiangular between the features\n",
    "\n",
    "**Ridge regression** addresses some of the problems of Ordinary Least Squares (OLS) by imposing a penalty on the size of the coefficients. The ridge coefficients minimize a penalized residual sum of squares\n",
    "\n",
    "**Bayesian regression** techniques can be used to include regularization parameters in the estimation procedure: the regularization parameter is not set in a hard sense but tuned to the data at hand. The advantages of Bayesian Regression are:It adapts to the data at hand and It can be used to include regularization parameters in the estimation procedure. Due to the Bayesian framework, the weights found are slightly different to the ones found by Ordinary Least Squares. However, Bayesian Ridge Regression is more robust to ill-posed problems.\n",
    "\n",
    "**The Automatic Relevance Determination (as ARDRegression)** is a kind of linear model which is very similar to the Bayesian Ridge Regression, but that leads to smaller coefficients.\n",
    "\n",
    "**The HuberRegressor** is different to Ridge because it applies a linear loss to samples that are classified as outliers. \n"
   ]
  },
  {
   "cell_type": "markdown",
   "metadata": {},
   "source": [
    "### 7. Hypertuning Models and Ensembling <a class=\"anchor\" id=\"seven\"></a>"
   ]
  },
  {
   "cell_type": "markdown",
   "metadata": {},
   "source": [
    "**Hypertuning** is the process of changing the algorithms standard parameters in order to optimize performance. This can be done using GridSearchCV, which builds multiple models using different combinations and implements cross validation**"
   ]
  },
  {
   "cell_type": "markdown",
   "metadata": {},
   "source": [
    "This process will be undertaken for the four best performing models (With the exception of Linear Regression and LARS that don't need tuning)"
   ]
  },
  {
   "cell_type": "markdown",
   "metadata": {},
   "source": [
    "**Ridge**"
   ]
  },
  {
   "cell_type": "code",
   "execution_count": 113,
   "metadata": {},
   "outputs": [],
   "source": [
    "param_grid = {\n",
    "    'tol':[2,1,0.75,0.5,0.25,0.1,0.01,0.001],\n",
    "    'alpha':[0.01,0.5,1,1.5,2],\n",
    "    'max_iter':[10,25,50,100]\n",
    "    \n",
    "}\n",
    "\n",
    "\n",
    "rid1 = Ridge()\n",
    "\n",
    "rid1grid_search = GridSearchCV(estimator = rid1,param_grid = param_grid, cv = 5 ,  \n",
    "                              n_jobs = -1, verbose = 2)"
   ]
  },
  {
   "cell_type": "code",
   "execution_count": 114,
   "metadata": {},
   "outputs": [
    {
     "name": "stdout",
     "output_type": "stream",
     "text": [
      "Fitting 5 folds for each of 160 candidates, totalling 800 fits\n"
     ]
    },
    {
     "name": "stderr",
     "output_type": "stream",
     "text": [
      "[Parallel(n_jobs=-1)]: Using backend LokyBackend with 4 concurrent workers.\n",
      "[Parallel(n_jobs=-1)]: Done 136 tasks      | elapsed:    0.6s\n",
      "[Parallel(n_jobs=-1)]: Done 800 out of 800 | elapsed:    2.4s finished\n"
     ]
    },
    {
     "data": {
      "text/plain": [
       "{'alpha': 0.5, 'max_iter': 10, 'tol': 2}"
      ]
     },
     "execution_count": 114,
     "metadata": {},
     "output_type": "execute_result"
    }
   ],
   "source": [
    "rid1grid_search.fit(X, y)\n",
    "rid1grid_search.best_params_"
   ]
  },
  {
   "cell_type": "code",
   "execution_count": 115,
   "metadata": {},
   "outputs": [
    {
     "data": {
      "text/plain": [
       "Ridge(alpha=0.5, max_iter=10, tol=2)"
      ]
     },
     "execution_count": 115,
     "metadata": {},
     "output_type": "execute_result"
    }
   ],
   "source": [
    "rid2 = Ridge()\n",
    "rid2.set_params(**rid1grid_search.best_params_)"
   ]
  },
  {
   "cell_type": "markdown",
   "metadata": {},
   "source": [
    "**Bayesian Ridge**"
   ]
  },
  {
   "cell_type": "code",
   "execution_count": 116,
   "metadata": {},
   "outputs": [],
   "source": [
    "param_grid = {\n",
    "    'tol':[0.1,0.01,0.001,0.0001,0.00001],\n",
    "    'n_iter':[25,50,75,100,300],\n",
    "    'alpha_1':[1e-04,1e-05,1e-06],\n",
    "    'alpha_2':[1e-05,1e-06,1e-07],\n",
    "    'lambda_1':[1e-05,1e-06,1e-07],\n",
    "    'lambda_2':[1e-04,1e-05,1e-06]\n",
    "\n",
    "\n",
    "}\n",
    "\n",
    "\n",
    "br1 = linear_model.BayesianRidge()\n",
    "\n",
    "br1grid_search = GridSearchCV(estimator = br1,param_grid = param_grid, cv = 5 ,  \n",
    "                              n_jobs = -1, verbose = 2)"
   ]
  },
  {
   "cell_type": "code",
   "execution_count": 117,
   "metadata": {},
   "outputs": [
    {
     "name": "stderr",
     "output_type": "stream",
     "text": [
      "[Parallel(n_jobs=-1)]: Using backend LokyBackend with 4 concurrent workers.\n"
     ]
    },
    {
     "name": "stdout",
     "output_type": "stream",
     "text": [
      "Fitting 5 folds for each of 2025 candidates, totalling 10125 fits\n"
     ]
    },
    {
     "name": "stderr",
     "output_type": "stream",
     "text": [
      "[Parallel(n_jobs=-1)]: Done 136 tasks      | elapsed:    0.7s\n",
      "[Parallel(n_jobs=-1)]: Done 2072 tasks      | elapsed:    7.2s\n",
      "[Parallel(n_jobs=-1)]: Done 5320 tasks      | elapsed:   22.5s\n",
      "[Parallel(n_jobs=-1)]: Done 9848 tasks      | elapsed:   43.9s\n",
      "[Parallel(n_jobs=-1)]: Done 10125 out of 10125 | elapsed:   44.8s finished\n"
     ]
    },
    {
     "data": {
      "text/plain": [
       "{'alpha_1': 0.0001,\n",
       " 'alpha_2': 1e-07,\n",
       " 'lambda_1': 1e-07,\n",
       " 'lambda_2': 0.0001,\n",
       " 'n_iter': 25,\n",
       " 'tol': 1e-05}"
      ]
     },
     "execution_count": 117,
     "metadata": {},
     "output_type": "execute_result"
    }
   ],
   "source": [
    "br1grid_search.fit(X, y)\n",
    "br1grid_search.best_params_"
   ]
  },
  {
   "cell_type": "code",
   "execution_count": 118,
   "metadata": {},
   "outputs": [
    {
     "data": {
      "text/plain": [
       "BayesianRidge(alpha_1=0.0001, alpha_2=1e-07, lambda_1=1e-07, lambda_2=0.0001,\n",
       "              n_iter=25, tol=1e-05)"
      ]
     },
     "execution_count": 118,
     "metadata": {},
     "output_type": "execute_result"
    }
   ],
   "source": [
    "br2 = linear_model.BayesianRidge()\n",
    "br2.set_params(**br1grid_search.best_params_)"
   ]
  },
  {
   "cell_type": "markdown",
   "metadata": {},
   "source": [
    "**HuberRegressor**"
   ]
  },
  {
   "cell_type": "code",
   "execution_count": 119,
   "metadata": {},
   "outputs": [],
   "source": [
    "param_grid = {\n",
    "    'epsilon': [1.25,1.35,1.5,1.7,2,2.35],\n",
    "    'max_iter':[50,100],\n",
    "    'alpha':[0.1,0.01,0.001,0.0001],\n",
    "    'tol':[1e-03,1e-04,1e-05]\n",
    "\n",
    "}\n",
    "\n",
    "h1 = HuberRegressor()\n",
    "\n",
    "h1grid_search = GridSearchCV(estimator = h1,param_grid = param_grid, cv = 5 ,  \n",
    "                              n_jobs = -1, verbose = 2)"
   ]
  },
  {
   "cell_type": "code",
   "execution_count": 120,
   "metadata": {},
   "outputs": [
    {
     "name": "stderr",
     "output_type": "stream",
     "text": [
      "[Parallel(n_jobs=-1)]: Using backend LokyBackend with 4 concurrent workers.\n"
     ]
    },
    {
     "name": "stdout",
     "output_type": "stream",
     "text": [
      "Fitting 5 folds for each of 144 candidates, totalling 720 fits\n"
     ]
    },
    {
     "name": "stderr",
     "output_type": "stream",
     "text": [
      "[Parallel(n_jobs=-1)]: Done  92 tasks      | elapsed:    1.5s\n",
      "[Parallel(n_jobs=-1)]: Done 576 tasks      | elapsed:    8.6s\n",
      "[Parallel(n_jobs=-1)]: Done 720 out of 720 | elapsed:   11.0s finished\n"
     ]
    },
    {
     "data": {
      "text/plain": [
       "{'alpha': 0.1, 'epsilon': 2.35, 'max_iter': 50, 'tol': 0.001}"
      ]
     },
     "execution_count": 120,
     "metadata": {},
     "output_type": "execute_result"
    }
   ],
   "source": [
    "h1grid_search.fit(X, y)\n",
    "h1grid_search.best_params_"
   ]
  },
  {
   "cell_type": "code",
   "execution_count": 121,
   "metadata": {},
   "outputs": [
    {
     "data": {
      "text/plain": [
       "HuberRegressor(alpha=0.1, epsilon=2.35, max_iter=50, tol=0.001)"
      ]
     },
     "execution_count": 121,
     "metadata": {},
     "output_type": "execute_result"
    }
   ],
   "source": [
    "h2 = HuberRegressor()\n",
    "h2.set_params(**h1grid_search.best_params_)"
   ]
  },
  {
   "cell_type": "markdown",
   "metadata": {},
   "source": [
    "**ARDRegression**"
   ]
  },
  {
   "cell_type": "code",
   "execution_count": 122,
   "metadata": {},
   "outputs": [],
   "source": [
    "param_grid = {\n",
    "    'n_iter':[25,50,100,300],\n",
    "    'tol':[0.01,0.001,0.0001,0.00001],\n",
    "    'alpha_1':[1e-05,1e-06,1e-07,1e-08],\n",
    "    'lambda_1':[1e-05,1e-06,1e-07,1e-08],\n",
    "    'threshold_lambda':[50,100,1000]\n",
    "\n",
    "}\n",
    "\n",
    "\n",
    "ard1 = linear_model.ARDRegression()\n",
    "\n",
    "ard1grid_search = GridSearchCV(estimator = ard1,param_grid = param_grid, cv = 5 ,  \n",
    "                              n_jobs = -1, verbose = 2)"
   ]
  },
  {
   "cell_type": "code",
   "execution_count": 123,
   "metadata": {},
   "outputs": [
    {
     "name": "stderr",
     "output_type": "stream",
     "text": [
      "[Parallel(n_jobs=-1)]: Using backend LokyBackend with 4 concurrent workers.\n"
     ]
    },
    {
     "name": "stdout",
     "output_type": "stream",
     "text": [
      "Fitting 5 folds for each of 768 candidates, totalling 3840 fits\n"
     ]
    },
    {
     "name": "stderr",
     "output_type": "stream",
     "text": [
      "[Parallel(n_jobs=-1)]: Done  58 tasks      | elapsed:    1.8s\n",
      "[Parallel(n_jobs=-1)]: Done 416 tasks      | elapsed:    8.7s\n",
      "[Parallel(n_jobs=-1)]: Done 1228 tasks      | elapsed:   21.9s\n",
      "[Parallel(n_jobs=-1)]: Done 2360 tasks      | elapsed:   41.8s\n",
      "[Parallel(n_jobs=-1)]: Done 3820 tasks      | elapsed:  1.0min\n",
      "[Parallel(n_jobs=-1)]: Done 3833 out of 3840 | elapsed:  1.0min remaining:    0.1s\n",
      "[Parallel(n_jobs=-1)]: Done 3840 out of 3840 | elapsed:  1.0min finished\n"
     ]
    },
    {
     "data": {
      "text/plain": [
       "{'alpha_1': 1e-05,\n",
       " 'lambda_1': 1e-08,\n",
       " 'n_iter': 25,\n",
       " 'threshold_lambda': 1000,\n",
       " 'tol': 0.01}"
      ]
     },
     "execution_count": 123,
     "metadata": {},
     "output_type": "execute_result"
    }
   ],
   "source": [
    "ard1grid_search.fit(X, y)\n",
    "ard1grid_search.best_params_"
   ]
  },
  {
   "cell_type": "code",
   "execution_count": 124,
   "metadata": {
    "scrolled": true
   },
   "outputs": [
    {
     "data": {
      "text/plain": [
       "ARDRegression(alpha_1=1e-05, lambda_1=1e-08, n_iter=25, threshold_lambda=1000,\n",
       "              tol=0.01)"
      ]
     },
     "execution_count": 124,
     "metadata": {},
     "output_type": "execute_result"
    }
   ],
   "source": [
    "ard2 = linear_model.ARDRegression()\n",
    "ard2.set_params(**ard1grid_search.best_params_)"
   ]
  },
  {
   "cell_type": "markdown",
   "metadata": {},
   "source": [
    "**Hyper-Tuned Models**"
   ]
  },
  {
   "cell_type": "code",
   "execution_count": 125,
   "metadata": {},
   "outputs": [],
   "source": [
    "regressors = {\n",
    "    \"LinearRegression\": LinearRegression(),\n",
    "    \"Lars\": Lars(),\n",
    "    \"Ridge\":Ridge(),\n",
    "    \"HuberRegressor\": HuberRegressor(),\n",
    "    \"ARDRegression\": ARDRegression(),\n",
    "    \"BayesianRidge\": linear_model.BayesianRidge(),\n",
    "    \"Ridge_Tuned\":rid2,\n",
    "    \"HuberRegressor_Tuned\":h2,\n",
    "    \"ARDRegression_Tuned\": ard2,\n",
    "    \"BayesianRidge_Tuned\": br2,\n",
    "}"
   ]
  },
  {
   "cell_type": "code",
   "execution_count": 126,
   "metadata": {},
   "outputs": [
    {
     "name": "stdout",
     "output_type": "stream",
     "text": [
      "* LinearRegression\n",
      "* Lars\n",
      "* Ridge\n",
      "* HuberRegressor\n",
      "* ARDRegression\n",
      "* BayesianRidge\n",
      "* Ridge_Tuned\n",
      "* HuberRegressor_Tuned\n",
      "* ARDRegression_Tuned\n",
      "* BayesianRidge_Tuned\n"
     ]
    }
   ],
   "source": [
    "df_models = pd.DataFrame(columns=['model', 'run_time', 'r2_train','r2_test','r2_cv','rmse'])\n",
    "\n",
    "for key in regressors:\n",
    "\n",
    "    print('*',key)\n",
    "\n",
    "    start_time = time.time()\n",
    "\n",
    "    regressor = regressors[key]\n",
    "    model = regressor.fit(X_train, y_train)\n",
    "    y_pred = model.predict(X_test)\n",
    "\n",
    "    scores = cross_val_score(model, \n",
    "                             X, \n",
    "                             y,\n",
    "                             scoring=\"r2\", \n",
    "                             cv=10)\n",
    "\n",
    "    row = {'model': key,\n",
    "           'run_time': format(round((time.time() - start_time)/60,2)),\n",
    "           'r2_train': regressor.score(X_train, y_train),\n",
    "           'r2_test' : regressor.score(X_test, y_test),\n",
    "           'r2_cv': np.mean(scores),\n",
    "           'rmse': mean_squared_error(y_test, y_pred, squared=False)\n",
    "           \n",
    "    }\n",
    "\n",
    "    df_models = df_models.append(row, ignore_index=True)"
   ]
  },
  {
   "cell_type": "markdown",
   "metadata": {},
   "source": [
    "**Hypertuning Results**"
   ]
  },
  {
   "cell_type": "code",
   "execution_count": 127,
   "metadata": {},
   "outputs": [
    {
     "data": {
      "text/html": [
       "<div>\n",
       "<style scoped>\n",
       "    .dataframe tbody tr th:only-of-type {\n",
       "        vertical-align: middle;\n",
       "    }\n",
       "\n",
       "    .dataframe tbody tr th {\n",
       "        vertical-align: top;\n",
       "    }\n",
       "\n",
       "    .dataframe thead th {\n",
       "        text-align: right;\n",
       "    }\n",
       "</style>\n",
       "<table border=\"1\" class=\"dataframe\">\n",
       "  <thead>\n",
       "    <tr style=\"text-align: right;\">\n",
       "      <th></th>\n",
       "      <th>model</th>\n",
       "      <th>run_time</th>\n",
       "      <th>r2_train</th>\n",
       "      <th>r2_test</th>\n",
       "      <th>r2_cv</th>\n",
       "      <th>rmse</th>\n",
       "    </tr>\n",
       "  </thead>\n",
       "  <tbody>\n",
       "    <tr>\n",
       "      <th>7</th>\n",
       "      <td>HuberRegressor_Tuned</td>\n",
       "      <td>0.0</td>\n",
       "      <td>0.853883</td>\n",
       "      <td>0.882402</td>\n",
       "      <td>0.716408</td>\n",
       "      <td>5.694938</td>\n",
       "    </tr>\n",
       "    <tr>\n",
       "      <th>6</th>\n",
       "      <td>Ridge_Tuned</td>\n",
       "      <td>0.0</td>\n",
       "      <td>0.855501</td>\n",
       "      <td>0.878848</td>\n",
       "      <td>0.712775</td>\n",
       "      <td>5.780363</td>\n",
       "    </tr>\n",
       "    <tr>\n",
       "      <th>0</th>\n",
       "      <td>LinearRegression</td>\n",
       "      <td>0.0</td>\n",
       "      <td>0.855535</td>\n",
       "      <td>0.877655</td>\n",
       "      <td>0.712705</td>\n",
       "      <td>5.808755</td>\n",
       "    </tr>\n",
       "    <tr>\n",
       "      <th>1</th>\n",
       "      <td>Lars</td>\n",
       "      <td>0.0</td>\n",
       "      <td>0.855535</td>\n",
       "      <td>0.877655</td>\n",
       "      <td>0.712705</td>\n",
       "      <td>5.808755</td>\n",
       "    </tr>\n",
       "    <tr>\n",
       "      <th>2</th>\n",
       "      <td>Ridge</td>\n",
       "      <td>0.0</td>\n",
       "      <td>0.855403</td>\n",
       "      <td>0.879889</td>\n",
       "      <td>0.712703</td>\n",
       "      <td>5.755458</td>\n",
       "    </tr>\n",
       "    <tr>\n",
       "      <th>9</th>\n",
       "      <td>BayesianRidge_Tuned</td>\n",
       "      <td>0.0</td>\n",
       "      <td>0.854036</td>\n",
       "      <td>0.883519</td>\n",
       "      <td>0.711238</td>\n",
       "      <td>5.667819</td>\n",
       "    </tr>\n",
       "    <tr>\n",
       "      <th>5</th>\n",
       "      <td>BayesianRidge</td>\n",
       "      <td>0.0</td>\n",
       "      <td>0.854036</td>\n",
       "      <td>0.883519</td>\n",
       "      <td>0.711238</td>\n",
       "      <td>5.667818</td>\n",
       "    </tr>\n",
       "    <tr>\n",
       "      <th>3</th>\n",
       "      <td>HuberRegressor</td>\n",
       "      <td>0.01</td>\n",
       "      <td>0.841056</td>\n",
       "      <td>0.876390</td>\n",
       "      <td>0.691598</td>\n",
       "      <td>5.838688</td>\n",
       "    </tr>\n",
       "    <tr>\n",
       "      <th>8</th>\n",
       "      <td>ARDRegression_Tuned</td>\n",
       "      <td>0.0</td>\n",
       "      <td>0.845492</td>\n",
       "      <td>0.878874</td>\n",
       "      <td>0.674109</td>\n",
       "      <td>5.779742</td>\n",
       "    </tr>\n",
       "    <tr>\n",
       "      <th>4</th>\n",
       "      <td>ARDRegression</td>\n",
       "      <td>0.01</td>\n",
       "      <td>0.846841</td>\n",
       "      <td>0.878181</td>\n",
       "      <td>0.673999</td>\n",
       "      <td>5.796243</td>\n",
       "    </tr>\n",
       "  </tbody>\n",
       "</table>\n",
       "</div>"
      ],
      "text/plain": [
       "                  model run_time  r2_train   r2_test     r2_cv      rmse\n",
       "7  HuberRegressor_Tuned      0.0  0.853883  0.882402  0.716408  5.694938\n",
       "6           Ridge_Tuned      0.0  0.855501  0.878848  0.712775  5.780363\n",
       "0      LinearRegression      0.0  0.855535  0.877655  0.712705  5.808755\n",
       "1                  Lars      0.0  0.855535  0.877655  0.712705  5.808755\n",
       "2                 Ridge      0.0  0.855403  0.879889  0.712703  5.755458\n",
       "9   BayesianRidge_Tuned      0.0  0.854036  0.883519  0.711238  5.667819\n",
       "5         BayesianRidge      0.0  0.854036  0.883519  0.711238  5.667818\n",
       "3        HuberRegressor     0.01  0.841056  0.876390  0.691598  5.838688\n",
       "8   ARDRegression_Tuned      0.0  0.845492  0.878874  0.674109  5.779742\n",
       "4         ARDRegression     0.01  0.846841  0.878181  0.673999  5.796243"
      ]
     },
     "execution_count": 127,
     "metadata": {},
     "output_type": "execute_result"
    }
   ],
   "source": [
    "df_models=df_models.sort_values(by='r2_cv', ascending=False)\n",
    "df_models"
   ]
  },
  {
   "cell_type": "markdown",
   "metadata": {},
   "source": [
    "**Ensemble Methods**"
   ]
  },
  {
   "cell_type": "markdown",
   "metadata": {},
   "source": [
    "**Stacking**: Uses several model outputs to build a final model for prediction"
   ]
  },
  {
   "cell_type": "code",
   "execution_count": 128,
   "metadata": {},
   "outputs": [],
   "source": [
    "models = [('Linear Regression', LinearRegression()),\n",
    "          ('LARS Regressor',Lars()),\n",
    "          ('HuberRegressor_Tuned',HuberRegressor()),\n",
    "          ('Ridge',Ridge()),\n",
    "          ('ARDRegression_Tuned',ARDRegression()),\n",
    "          ('BayesianRidge_Tuned',linear_model.BayesianRidge())]\n",
    "\n",
    "sclf = StackingRegressor(estimators=models)\n",
    "\n",
    "model = sclf.fit(X_train, y_train)\n",
    "y_pred = model.predict(X_test)"
   ]
  },
  {
   "cell_type": "markdown",
   "metadata": {},
   "source": [
    "**Voting**: Uses several model outputs and decides a final prediction based on a majority vote"
   ]
  },
  {
   "cell_type": "code",
   "execution_count": 129,
   "metadata": {},
   "outputs": [],
   "source": [
    "models = [('Linear Regression', LinearRegression()),\n",
    "          ('LARS Regressor',Lars()),\n",
    "          ('HuberRegressor_Tuned',HuberRegressor()),\n",
    "          ('Ridge',Ridge()),\n",
    "          ('ARDRegression_Tuned',ARDRegression()),\n",
    "          ('BayesianRidge_Tuned',linear_model.BayesianRidge())]\n",
    "\n",
    "vclf = VotingRegressor(estimators=models)\n"
   ]
  },
  {
   "cell_type": "markdown",
   "metadata": {},
   "source": [
    "### 8. Final Summary and Model Selection <a class=\"anchor\" id=\"eight\"></a>"
   ]
  },
  {
   "cell_type": "markdown",
   "metadata": {},
   "source": [
    "We will now compare the linear models (original parameters and hyptertuned) as well as stacking/voting"
   ]
  },
  {
   "cell_type": "code",
   "execution_count": 130,
   "metadata": {},
   "outputs": [],
   "source": [
    "regressors = {\n",
    "    \"LinearRegression\": LinearRegression(),\n",
    "    \"Lars\": Lars(),\n",
    "    \"Ridge\":Ridge(),\n",
    "    \"HuberRegressor\": HuberRegressor(),\n",
    "    \"ARDRegression\": ARDRegression(),\n",
    "    \"BayesianRidge\": linear_model.BayesianRidge(),\n",
    "    \"Ridge_Tuned\":rid2,\n",
    "    \"HuberRegressor_Tuned\":h2,\n",
    "    \"ARDRegression_Tuned\": ard2,\n",
    "    \"BayesianRidge_Tuned\": br2,\n",
    "    'Stacking':sclf,\n",
    "    'Voting':vclf\n",
    "}"
   ]
  },
  {
   "cell_type": "code",
   "execution_count": 131,
   "metadata": {},
   "outputs": [
    {
     "name": "stdout",
     "output_type": "stream",
     "text": [
      "* LinearRegression\n",
      "* Lars\n",
      "* Ridge\n",
      "* HuberRegressor\n",
      "* ARDRegression\n",
      "* BayesianRidge\n",
      "* Ridge_Tuned\n",
      "* HuberRegressor_Tuned\n",
      "* ARDRegression_Tuned\n",
      "* BayesianRidge_Tuned\n",
      "* Stacking\n",
      "* Voting\n"
     ]
    }
   ],
   "source": [
    "df_models = pd.DataFrame(columns=['model', 'run_time', 'r2_train','r2_test','r2_cv','rmse'])\n",
    "\n",
    "for key in regressors:\n",
    "\n",
    "    print('*',key)\n",
    "\n",
    "    start_time = time.time()\n",
    "\n",
    "    regressor = regressors[key]\n",
    "    model = regressor.fit(X_train, y_train)\n",
    "    y_pred = model.predict(X_test)\n",
    "\n",
    "    scores = cross_val_score(model, \n",
    "                             X, \n",
    "                             y,\n",
    "                             scoring=\"r2\", \n",
    "                             cv=5)\n",
    "\n",
    "    row = {'model': key,\n",
    "           'run_time': format(round((time.time() - start_time)/60,2)),\n",
    "           'r2_train': regressor.score(X_train, y_train),\n",
    "           'r2_test' : regressor.score(X_test, y_test),\n",
    "           'r2_cv': np.mean(scores),\n",
    "           'rmse': mean_squared_error(y_test, y_pred, squared=False)\n",
    "           \n",
    "    }\n",
    "\n",
    "    df_models = df_models.append(row, ignore_index=True)"
   ]
  },
  {
   "cell_type": "code",
   "execution_count": 132,
   "metadata": {},
   "outputs": [
    {
     "data": {
      "text/html": [
       "<div>\n",
       "<style scoped>\n",
       "    .dataframe tbody tr th:only-of-type {\n",
       "        vertical-align: middle;\n",
       "    }\n",
       "\n",
       "    .dataframe tbody tr th {\n",
       "        vertical-align: top;\n",
       "    }\n",
       "\n",
       "    .dataframe thead th {\n",
       "        text-align: right;\n",
       "    }\n",
       "</style>\n",
       "<table border=\"1\" class=\"dataframe\">\n",
       "  <thead>\n",
       "    <tr style=\"text-align: right;\">\n",
       "      <th></th>\n",
       "      <th>model</th>\n",
       "      <th>run_time</th>\n",
       "      <th>r2_train</th>\n",
       "      <th>r2_test</th>\n",
       "      <th>r2_cv</th>\n",
       "      <th>rmse</th>\n",
       "    </tr>\n",
       "  </thead>\n",
       "  <tbody>\n",
       "    <tr>\n",
       "      <th>10</th>\n",
       "      <td>Stacking</td>\n",
       "      <td>0.05</td>\n",
       "      <td>0.851823</td>\n",
       "      <td>0.881906</td>\n",
       "      <td>0.785885</td>\n",
       "      <td>5.706945</td>\n",
       "    </tr>\n",
       "    <tr>\n",
       "      <th>6</th>\n",
       "      <td>Ridge_Tuned</td>\n",
       "      <td>0.0</td>\n",
       "      <td>0.855501</td>\n",
       "      <td>0.878848</td>\n",
       "      <td>0.783992</td>\n",
       "      <td>5.780363</td>\n",
       "    </tr>\n",
       "    <tr>\n",
       "      <th>0</th>\n",
       "      <td>LinearRegression</td>\n",
       "      <td>0.0</td>\n",
       "      <td>0.855535</td>\n",
       "      <td>0.877655</td>\n",
       "      <td>0.783952</td>\n",
       "      <td>5.808755</td>\n",
       "    </tr>\n",
       "    <tr>\n",
       "      <th>1</th>\n",
       "      <td>Lars</td>\n",
       "      <td>0.0</td>\n",
       "      <td>0.855535</td>\n",
       "      <td>0.877655</td>\n",
       "      <td>0.783952</td>\n",
       "      <td>5.808755</td>\n",
       "    </tr>\n",
       "    <tr>\n",
       "      <th>2</th>\n",
       "      <td>Ridge</td>\n",
       "      <td>0.0</td>\n",
       "      <td>0.855403</td>\n",
       "      <td>0.879889</td>\n",
       "      <td>0.783882</td>\n",
       "      <td>5.755458</td>\n",
       "    </tr>\n",
       "    <tr>\n",
       "      <th>9</th>\n",
       "      <td>BayesianRidge_Tuned</td>\n",
       "      <td>0.0</td>\n",
       "      <td>0.854036</td>\n",
       "      <td>0.883519</td>\n",
       "      <td>0.781915</td>\n",
       "      <td>5.667819</td>\n",
       "    </tr>\n",
       "    <tr>\n",
       "      <th>5</th>\n",
       "      <td>BayesianRidge</td>\n",
       "      <td>0.0</td>\n",
       "      <td>0.854036</td>\n",
       "      <td>0.883519</td>\n",
       "      <td>0.781915</td>\n",
       "      <td>5.667818</td>\n",
       "    </tr>\n",
       "    <tr>\n",
       "      <th>7</th>\n",
       "      <td>HuberRegressor_Tuned</td>\n",
       "      <td>0.0</td>\n",
       "      <td>0.853883</td>\n",
       "      <td>0.882402</td>\n",
       "      <td>0.781773</td>\n",
       "      <td>5.694938</td>\n",
       "    </tr>\n",
       "    <tr>\n",
       "      <th>11</th>\n",
       "      <td>Voting</td>\n",
       "      <td>0.01</td>\n",
       "      <td>0.854421</td>\n",
       "      <td>0.881530</td>\n",
       "      <td>0.776966</td>\n",
       "      <td>5.716021</td>\n",
       "    </tr>\n",
       "    <tr>\n",
       "      <th>3</th>\n",
       "      <td>HuberRegressor</td>\n",
       "      <td>0.0</td>\n",
       "      <td>0.841056</td>\n",
       "      <td>0.876390</td>\n",
       "      <td>0.752806</td>\n",
       "      <td>5.838688</td>\n",
       "    </tr>\n",
       "    <tr>\n",
       "      <th>8</th>\n",
       "      <td>ARDRegression_Tuned</td>\n",
       "      <td>0.0</td>\n",
       "      <td>0.845492</td>\n",
       "      <td>0.878874</td>\n",
       "      <td>0.731373</td>\n",
       "      <td>5.779742</td>\n",
       "    </tr>\n",
       "    <tr>\n",
       "      <th>4</th>\n",
       "      <td>ARDRegression</td>\n",
       "      <td>0.01</td>\n",
       "      <td>0.846841</td>\n",
       "      <td>0.878181</td>\n",
       "      <td>0.730686</td>\n",
       "      <td>5.796243</td>\n",
       "    </tr>\n",
       "  </tbody>\n",
       "</table>\n",
       "</div>"
      ],
      "text/plain": [
       "                   model run_time  r2_train   r2_test     r2_cv      rmse\n",
       "10              Stacking     0.05  0.851823  0.881906  0.785885  5.706945\n",
       "6            Ridge_Tuned      0.0  0.855501  0.878848  0.783992  5.780363\n",
       "0       LinearRegression      0.0  0.855535  0.877655  0.783952  5.808755\n",
       "1                   Lars      0.0  0.855535  0.877655  0.783952  5.808755\n",
       "2                  Ridge      0.0  0.855403  0.879889  0.783882  5.755458\n",
       "9    BayesianRidge_Tuned      0.0  0.854036  0.883519  0.781915  5.667819\n",
       "5          BayesianRidge      0.0  0.854036  0.883519  0.781915  5.667818\n",
       "7   HuberRegressor_Tuned      0.0  0.853883  0.882402  0.781773  5.694938\n",
       "11                Voting     0.01  0.854421  0.881530  0.776966  5.716021\n",
       "3         HuberRegressor      0.0  0.841056  0.876390  0.752806  5.838688\n",
       "8    ARDRegression_Tuned      0.0  0.845492  0.878874  0.731373  5.779742\n",
       "4          ARDRegression     0.01  0.846841  0.878181  0.730686  5.796243"
      ]
     },
     "execution_count": 132,
     "metadata": {},
     "output_type": "execute_result"
    }
   ],
   "source": [
    "df_models=df_models.sort_values(by='r2_cv', ascending=False)\n",
    "df_models"
   ]
  },
  {
   "cell_type": "code",
   "execution_count": 133,
   "metadata": {},
   "outputs": [
    {
     "name": "stdout",
     "output_type": "stream",
     "text": [
      "\n",
      "\n",
      "The best performing model is Stacking \n",
      "\n",
      "\n"
     ]
    }
   ],
   "source": [
    "print(f'''\n",
    "\n",
    "The best performing model is {df_models.iloc[0,0]} \n",
    "\n",
    "''')"
   ]
  },
  {
   "cell_type": "code",
   "execution_count": 134,
   "metadata": {},
   "outputs": [],
   "source": [
    "final_regressor_label= df_models.iloc[0,0]"
   ]
  },
  {
   "cell_type": "code",
   "execution_count": 135,
   "metadata": {},
   "outputs": [],
   "source": [
    "for key in regressors:\n",
    "    regressor = regressors[key]\n",
    "    if key == df_models.iloc[0,0]:\n",
    "        final_regressor= regressor\n",
    "        "
   ]
  },
  {
   "cell_type": "code",
   "execution_count": 136,
   "metadata": {},
   "outputs": [],
   "source": [
    "model = lr.fit(X_train, y_train)\n",
    "y_pred = model.predict(X_test)\n",
    "\n",
    "test=pd.DataFrame({'Actual value': y_test,'Predicted value': y_pred}).sort_values('Actual value').reset_index()\n"
   ]
  },
  {
   "cell_type": "code",
   "execution_count": 137,
   "metadata": {},
   "outputs": [
    {
     "data": {
      "text/plain": [
       "<matplotlib.legend.Legend at 0x7fed9d019450>"
      ]
     },
     "execution_count": 137,
     "metadata": {},
     "output_type": "execute_result"
    },
    {
     "data": {
      "image/png": "[encoded data removed]",
      "text/plain": [
       "<Figure size 720x432 with 1 Axes>"
      ]
     },
     "metadata": {
      "needs_background": "light"
     },
     "output_type": "display_data"
    }
   ],
   "source": [
    "plt.figure(figsize=(10, 6))\n",
    "\n",
    "plt.title(\"Linear Regression: Actual vs Predicted\")\n",
    "\n",
    "plt.scatter(test.index, test['Actual value'], label='Actual')\n",
    "\n",
    "plt.scatter(test.index, test['Predicted value'], label='Predicted')\n",
    "\n",
    "plt.xlabel(\"Sample Prediction #\")\n",
    "\n",
    "plt.ylabel(\"Compressive strength 28days MPa\")\n",
    "\n",
    "plt.legend(['Actual value','Predicted value'])"
   ]
  },
  {
   "cell_type": "code",
   "execution_count": 138,
   "metadata": {},
   "outputs": [],
   "source": [
    "model = final_regressor.fit(X_train, y_train)\n",
    "y_pred = model.predict(X_test)\n",
    "\n",
    "test=pd.DataFrame({'Actual value': y_test,'Predicted value': y_pred}).sort_values('Actual value').reset_index()"
   ]
  },
  {
   "cell_type": "code",
   "execution_count": 139,
   "metadata": {},
   "outputs": [
    {
     "data": {
      "text/plain": [
       "<matplotlib.legend.Legend at 0x7fed9d47ccd0>"
      ]
     },
     "execution_count": 139,
     "metadata": {},
     "output_type": "execute_result"
    },
    {
     "data": {
      "image/png": "[encoded data removed]",
      "text/plain": [
       "<Figure size 720x432 with 1 Axes>"
      ]
     },
     "metadata": {
      "needs_background": "light"
     },
     "output_type": "display_data"
    }
   ],
   "source": [
    "plt.figure(figsize=(10, 6))\n",
    "\n",
    "plt.title( str(final_regressor_label)+\": Actual vs Predicted\")\n",
    "\n",
    "plt.scatter(test.index, test['Actual value'], label='Actual')\n",
    "\n",
    "plt.scatter(test.index, test['Predicted value'], label='Predicted')\n",
    "\n",
    "plt.xlabel(\"Sample Prediction #\")\n",
    "\n",
    "plt.ylabel(\"Compressive strength 28days MPa\")\n",
    "\n",
    "plt.legend(['Actual value','Predicted value'])"
   ]
  },
  {
   "cell_type": "code",
   "execution_count": 140,
   "metadata": {},
   "outputs": [],
   "source": [
    "## Performing 100 runs as a final check using all the data\n",
    "\n",
    "final_check_lr=pd.DataFrame(columns=['Run #', 'R2', 'RMSE'])\n",
    "\n",
    "for run in range(100):\n",
    "    X_train, X_test, y_train, y_test = train_test_split(X, y, test_size = 0.2)\n",
    "    \n",
    "    run_num=run+1\n",
    "    lr=LinearRegression()\n",
    "    regressor = lr\n",
    "    model = lr.fit(X_train, y_train)\n",
    "    y_pred = model.predict(X_test)\n",
    "\n",
    "    scores = cross_val_score(model, \n",
    "                             X, \n",
    "                             y,\n",
    "                             scoring=\"r2\", \n",
    "                             cv=10)\n",
    "\n",
    "    row = {'Run #': run_num,\n",
    "           'R2' : regressor.score(X_test, y_test),\n",
    "           'RMSE': mean_squared_error(y_test, y_pred, squared=False)}\n",
    "    \n",
    "    final_check_lr = final_check_lr.append(row, ignore_index=True)\n"
   ]
  },
  {
   "cell_type": "code",
   "execution_count": 141,
   "metadata": {},
   "outputs": [],
   "source": [
    "## Performing 100 runs as a final check using all the data\n",
    "\n",
    "final_check_final_regressor=pd.DataFrame(columns=['Run #', 'R2', 'RMSE'])\n",
    "\n",
    "for run in range(100):\n",
    "    X_train, X_test, y_train, y_test = train_test_split(X, y, test_size = 0.2)\n",
    "    \n",
    "    run_num=run+1\n",
    "    regressor = final_regressor\n",
    "    model = final_regressor.fit(X_train, y_train)\n",
    "    y_pred = model.predict(X_test)\n",
    "\n",
    "    scores = cross_val_score(model, \n",
    "                             X, \n",
    "                             y,\n",
    "                             scoring=\"r2\", \n",
    "                             cv=10)\n",
    "\n",
    "    row = {'Run #': run_num,\n",
    "           'R2' : regressor.score(X_test, y_test),\n",
    "           'RMSE': mean_squared_error(y_test, y_pred, squared=False)}\n",
    "    \n",
    "    final_check_final_regressor = final_check_final_regressor.append(row, ignore_index=True)\n"
   ]
  },
  {
   "cell_type": "code",
   "execution_count": 142,
   "metadata": {},
   "outputs": [
    {
     "name": "stdout",
     "output_type": "stream",
     "text": [
      "\n",
      "\n",
      "After 100 runs:\n",
      "\n",
      "Linear Regression R2:\n",
      "\n",
      "Median= 0.823\n",
      "Average = 0.812\n",
      "\n",
      "\n",
      "Linear Regression RMSE:\n",
      "\n",
      "Median = 6.862\n",
      "Average = 6.808 MPa\n",
      "\n",
      "\n",
      "After 100 runs:\n",
      "\n",
      "Stacking R2:\n",
      "\n",
      "Median = 0.827\n",
      "Average = 0.816\n",
      "\n",
      "\n",
      "Stacking RMSE:\n",
      "\n",
      "Median = 6.797\n",
      "Average = 6.868 MPa\n",
      "\n",
      "\n",
      "\n"
     ]
    }
   ],
   "source": [
    "print(f'''\n",
    "\n",
    "After 100 runs:\n",
    "\n",
    "Linear Regression R2:\n",
    "\n",
    "Median= {round(final_check_lr['R2'].median(),3)}\n",
    "Average = {round(final_check_lr['R2'].mean(),3)}\n",
    "\n",
    "\n",
    "Linear Regression RMSE:\n",
    "\n",
    "Median = {round(final_check_lr['RMSE'].median(),3)}\n",
    "Average = {round(final_check_lr['RMSE'].mean(),3)} MPa\n",
    "\n",
    "\n",
    "After 100 runs:\n",
    "\n",
    "{final_regressor_label} R2:\n",
    "\n",
    "Median = {round(final_check_final_regressor['R2'].median(),3)}\n",
    "Average = {round(final_check_final_regressor['R2'].mean(),3)}\n",
    "\n",
    "\n",
    "{final_regressor_label} RMSE:\n",
    "\n",
    "Median = {round(final_check_final_regressor['RMSE'].median(),3)}\n",
    "Average = {round(final_check_final_regressor['RMSE'].mean(),3)} MPa\n",
    "\n",
    "\n",
    "''')"
   ]
  },
  {
   "cell_type": "code",
   "execution_count": 146,
   "metadata": {},
   "outputs": [
    {
     "data": {
      "text/plain": [
       "Text(0, 0.5, '# of runs')"
      ]
     },
     "execution_count": 146,
     "metadata": {},
     "output_type": "execute_result"
    },
    {
     "data": {
      "image/png": "[encoded data removed]",
      "text/plain": [
       "<Figure size 1152x576 with 1 Axes>"
      ]
     },
     "metadata": {
      "needs_background": "light"
     },
     "output_type": "display_data"
    }
   ],
   "source": [
    "plt.figure(figsize=(16,8))\n",
    "\n",
    "sns.distplot(final_check_lr[\"R2\"],color='blue',bins=15, kde=False)\n",
    "\n",
    "sns.distplot(final_check_final_regressor[\"R2\"],color='red',bins=15, kde=False)\n",
    "\n",
    "plt.legend(['Linear Regression',str(final_regressor_label)])\n",
    "\n",
    "\n",
    "plt.axvline(x=final_check_lr[\"R2\"].median(),color='blue',ls='--', lw=0.5)\n",
    "\n",
    "plt.axvline(x=final_check_final_regressor[\"R2\"].median(),color='red',ls='--', lw=0.5)\n",
    "\n",
    "\n",
    "plt.title('R2: Linear Regression vs '+final_regressor_label +' (100 runs) ')\n",
    "\n",
    "plt.ylabel('# of runs')\n"
   ]
  },
  {
   "cell_type": "code",
   "execution_count": 153,
   "metadata": {},
   "outputs": [
    {
     "data": {
      "text/plain": [
       "Text(0, 0.5, '# of runs')"
      ]
     },
     "execution_count": 153,
     "metadata": {},
     "output_type": "execute_result"
    },
    {
     "data": {
      "image/png": "[encoded data removed]",
      "text/plain": [
       "<Figure size 1152x576 with 1 Axes>"
      ]
     },
     "metadata": {
      "needs_background": "light"
     },
     "output_type": "display_data"
    }
   ],
   "source": [
    "plt.figure(figsize=(16,8))\n",
    "\n",
    "sns.distplot(final_check_lr[\"RMSE\"],color='blue',bins=15,hist=True, kde=False)\n",
    "\n",
    "sns.distplot(final_check_final_regressor[\"RMSE\"],color='red',bins=15,hist=True, kde=False)\n",
    "\n",
    "\n",
    "\n",
    "plt.axvline(x=final_check_lr[\"RMSE\"].median(),color='blue',ls='--', lw=0.5)\n",
    "\n",
    "plt.axvline(x=final_check_final_regressor[\"RMSE\"].median(),color='red',ls='--', lw=0.5)\n",
    "\n",
    "plt.legend(['Linear Regression',str(final_regressor_label)])\n",
    "\n",
    "\n",
    "plt.title('RMSE: Linear Regression vs '+final_regressor_label+' (100 runs) ')\n",
    "\n",
    "plt.ylabel('# of runs')\n"
   ]
  },
  {
   "cell_type": "markdown",
   "metadata": {},
   "source": [
    "### 8. Appendix <a class=\"anchor\" id=\"app\"></a>"
   ]
  },
  {
   "cell_type": "markdown",
   "metadata": {},
   "source": [
    "Below shows why non-linear is not appropriate for this small of a dataset, it's too sensitive to overfitting and needs more samples for a better learning curve"
   ]
  },
  {
   "cell_type": "code",
   "execution_count": 155,
   "metadata": {},
   "outputs": [
    {
     "data": {
      "image/png": "[encoded data removed]",
      "text/plain": [
       "<Figure size 720x1080 with 6 Axes>"
      ]
     },
     "metadata": {
      "needs_background": "light"
     },
     "output_type": "display_data"
    }
   ],
   "source": [
    "def plot_learning_curve(\n",
    "    estimator,\n",
    "    title,\n",
    "    X,\n",
    "    y,\n",
    "    axes=None,\n",
    "    ylim=None,\n",
    "    cv=None,\n",
    "    n_jobs=None,\n",
    "    train_sizes=np.linspace(0.1, 1.0, 5),\n",
    "):\n",
    "    \"\"\"\n",
    "    Generate 3 plots: the test and training learning curve, the training\n",
    "    samples vs fit times curve, the fit times vs score curve.\n",
    "\n",
    "  \n",
    "    \"\"\"\n",
    "    if axes is None:\n",
    "        _, axes = plt.subplots(1, 3, figsize=(20, 5))\n",
    "\n",
    "    axes[0].set_title(title)\n",
    "    if ylim is not None:\n",
    "        axes[0].set_ylim(*ylim)\n",
    "    axes[0].set_xlabel(\"Training examples\")\n",
    "    axes[0].set_ylabel(\"Score\")\n",
    "\n",
    "    train_sizes, train_scores, test_scores, fit_times, _ = learning_curve(\n",
    "        estimator,\n",
    "        X,\n",
    "        y,\n",
    "        cv=cv,\n",
    "        n_jobs=n_jobs,\n",
    "        train_sizes=train_sizes,\n",
    "        return_times=True,\n",
    "    )\n",
    "    train_scores_mean = np.mean(train_scores, axis=1)\n",
    "    train_scores_std = np.std(train_scores, axis=1)\n",
    "    test_scores_mean = np.mean(test_scores, axis=1)\n",
    "    test_scores_std = np.std(test_scores, axis=1)\n",
    "    fit_times_mean = np.mean(fit_times, axis=1)\n",
    "    fit_times_std = np.std(fit_times, axis=1)\n",
    "\n",
    "    # Plot learning curve\n",
    "    axes[0].grid()\n",
    "    axes[0].fill_between(\n",
    "        train_sizes,\n",
    "        train_scores_mean - train_scores_std,\n",
    "        train_scores_mean + train_scores_std,\n",
    "        alpha=0.1,\n",
    "        color=\"r\",\n",
    "    )\n",
    "    axes[0].fill_between(\n",
    "        train_sizes,\n",
    "        test_scores_mean - test_scores_std,\n",
    "        test_scores_mean + test_scores_std,\n",
    "        alpha=0.1,\n",
    "        color=\"g\",\n",
    "    )\n",
    "    axes[0].plot(\n",
    "        train_sizes, train_scores_mean, \"o-\", color=\"r\", label=\"Training score\"\n",
    "    )\n",
    "    axes[0].plot(\n",
    "        train_sizes, test_scores_mean, \"o-\", color=\"g\", label=\"Cross-validation score\"\n",
    "    )\n",
    "    axes[0].legend(loc=\"best\")\n",
    "\n",
    "    # Plot n_samples vs fit_times\n",
    "    axes[1].grid()\n",
    "    axes[1].plot(train_sizes, fit_times_mean, \"o-\")\n",
    "    axes[1].fill_between(\n",
    "        train_sizes,\n",
    "        fit_times_mean - fit_times_std,\n",
    "        fit_times_mean + fit_times_std,\n",
    "        alpha=0.1,\n",
    "    )\n",
    "    axes[1].set_xlabel(\"Training examples\")\n",
    "    axes[1].set_ylabel(\"fit_times\")\n",
    "    axes[1].set_title(\"Scalability of the model\")\n",
    "\n",
    "    # Plot fit_time vs score\n",
    "    fit_time_argsort = fit_times_mean.argsort()\n",
    "    fit_time_sorted = fit_times_mean[fit_time_argsort]\n",
    "    test_scores_mean_sorted = test_scores_mean[fit_time_argsort]\n",
    "    test_scores_std_sorted = test_scores_std[fit_time_argsort]\n",
    "    axes[2].grid()\n",
    "    axes[2].plot(fit_time_sorted, test_scores_mean_sorted, \"o-\")\n",
    "    axes[2].fill_between(\n",
    "        fit_time_sorted,\n",
    "        test_scores_mean_sorted - test_scores_std_sorted,\n",
    "        test_scores_mean_sorted + test_scores_std_sorted,\n",
    "        alpha=0.1,\n",
    "    )\n",
    "    axes[2].set_xlabel(\"fit_times\")\n",
    "    axes[2].set_ylabel(\"Score\")\n",
    "    axes[2].set_title(\"Performance of the model\")\n",
    "\n",
    "    return plt\n",
    "\n",
    "\n",
    "fig, axes = plt.subplots(3, 2, figsize=(10, 15))\n",
    "\n",
    "\n",
    "title = \"Learning Curves (Linear Regression)\"\n",
    "# Cross validation with 50 iterations to get smoother mean test and train\n",
    "# score curves, each time with 20% data randomly selected as a validation set.\n",
    "cv = ShuffleSplit(n_splits=50, test_size=0.2, random_state=0)\n",
    "\n",
    "estimator = LinearRegression()\n",
    "plot_learning_curve(\n",
    "    estimator, title, X, y, axes=axes[:, 0], ylim=(0, 1.01), cv=cv, n_jobs=4\n",
    ")\n",
    "\n",
    "title = \"Learning Curves (Decision Tree)\"\n",
    "cv = ShuffleSplit(n_splits=50, test_size=0.2, random_state=0)\n",
    "estimator = DecisionTreeRegressor()\n",
    "plot_learning_curve(\n",
    "    estimator, title, X, y, axes=axes[:, 1], ylim=(0, 1.01), cv=cv, n_jobs=4\n",
    ")\n",
    "\n",
    "plt.show()"
   ]
  },
  {
   "cell_type": "code",
   "execution_count": null,
   "metadata": {},
   "outputs": [],
   "source": []
  }
 ],
 "metadata": {
  "kernelspec": {
   "display_name": "Python 3 (ipykernel)",
   "language": "python",
   "name": "python3"
  },
  "language_info": {
   "codemirror_mode": {
    "name": "ipython",
    "version": 3
   },
   "file_extension": ".py",
   "mimetype": "text/x-python",
   "name": "python",
   "nbconvert_exporter": "python",
   "pygments_lexer": "ipython3",
   "version": "3.9.12"
  }
 },
 "nbformat": 4,
 "nbformat_minor": 2
}
