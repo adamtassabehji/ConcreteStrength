{
 "cells": [
  {
   "cell_type": "markdown",
   "metadata": {},
   "source": [
    "# Concrete Prediction Model Prototype #2"
   ]
  },
  {
   "cell_type": "markdown",
   "metadata": {},
   "source": [
    "**Purpose:** \n",
    "The aim of this notebook is to develop a supervised regression model predicting Compressive strength 28days MPa. \n",
    "\n",
    "**Data:** This analysis is based on a csv file containing testing data for 202 concrete samples. There were a total of 98 columns excluding the two target variables (Compressive strength 7days/28days MPa).\n",
    "\n",
    "**Note:** \n",
    "Due to the sensitivity/privacy of this engagement, exploratory data analysis and the final features used for the project have been excluded.\n",
    "\n",
    "**Author:** \n",
    "Adam Tassabehji\n",
    "\n",
    "If you have any questions please do not hesitate to contact me at atassabehji@gmail.com\n",
    "\n"
   ]
  },
  {
   "cell_type": "markdown",
   "metadata": {},
   "source": [
    "### Table of Contents\n",
    "\n",
    "* [1. Importing Data and Packages](#one)\n",
    "* [2. Exploratory Data Analysis](#two)\n",
    "* [3. Data Cleaning](#three)\n",
    "* [4. Feature Engineering](#four)\n",
    "* [5. Feature Selection](#five)\n",
    "* [6. Modelling](#six)\n",
    "* [7. Hypertuning](#seven)\n",
    "* [8. Final Results](#eight)\n"
   ]
  },
  {
   "cell_type": "markdown",
   "metadata": {},
   "source": [
    "### 1. Importing Data and Packages  <a class=\"anchor\" id=\"one\"></a>"
   ]
  },
  {
   "cell_type": "code",
   "execution_count": 466,
   "metadata": {},
   "outputs": [],
   "source": [
    "import pandas as pd\n",
    "import numpy as np\n",
    "from numpy import mean,std\n",
    "\n",
    "from matplotlib import pyplot\n",
    "import matplotlib.pyplot as plt\n",
    "import seaborn as sns\n",
    "import plotly.express as px\n",
    "\n",
    "from sklearn.model_selection import train_test_split,RepeatedStratifiedKFold,RepeatedKFold,learning_curve\n",
    "from sklearn.model_selection import GridSearchCV, RandomizedSearchCV,cross_val_score,ShuffleSplit\n",
    "from sklearn.preprocessing import StandardScaler, PolynomialFeatures\n",
    "from sklearn.metrics import mean_squared_error,accuracy_score,r2_score\n",
    "import itertools\n",
    "\n",
    "\n",
    "from category_encoders import TargetEncoder\n",
    "from sklearn.impute import KNNImputer\n",
    "from mlxtend.feature_selection import SequentialFeatureSelector as SFS\n",
    "from sklearn.feature_selection import SelectKBest,f_regression\n",
    "from mlxtend.plotting import plot_sequential_feature_selection as plot_sfs\n",
    "\n",
    "import statsmodels.formula.api as smf\n",
    "import statsmodels.api as sm\n",
    "from sklearn.pipeline import Pipeline\n",
    "from sklearn import linear_model\n",
    "from sklearn.tree import DecisionTreeRegressor\n",
    "from sklearn.linear_model import Ridge,HuberRegressor, LinearRegression,LassoLarsCV\n",
    "from sklearn.linear_model import LinearRegression,Ridge,Lars,TheilSenRegressor,PassiveAggressiveRegressor\n",
    "from sklearn.linear_model import ARDRegression,BayesianRidge,ElasticNet\n",
    "from sklearn.ensemble import StackingRegressor,VotingRegressor\n",
    "from sklearn.neighbors import KNeighborsRegressor\n"
   ]
  },
  {
   "cell_type": "code",
   "execution_count": 467,
   "metadata": {},
   "outputs": [],
   "source": [
    "#np.random.seed(0)"
   ]
  },
  {
   "cell_type": "code",
   "execution_count": 468,
   "metadata": {},
   "outputs": [],
   "source": [
    "## Reading the data file\n",
    "pd.set_option('display.max_columns', None)\n",
    "pd.set_option('display.max_rows', 50)\n",
    "\n",
    "data=pd.read_excel('Data for trial (09-06-22).xlsx',index_col=0,na_values='-')"
   ]
  },
  {
   "cell_type": "markdown",
   "metadata": {},
   "source": [
    "### 2. Exploratory Data Analysis (Private Notebook)  <a class=\"anchor\" id=\"two\"></a>"
   ]
  },
  {
   "cell_type": "code",
   "execution_count": 469,
   "metadata": {},
   "outputs": [
    {
     "name": "stdout",
     "output_type": "stream",
     "text": [
      "There are a total of 98 columns and 202 rows\n"
     ]
    }
   ],
   "source": [
    "print(f'''There are a total of {data.shape[1]} columns and {data.shape[0]} rows''')"
   ]
  },
  {
   "cell_type": "markdown",
   "metadata": {},
   "source": [
    "### 3. Data Cleaning  <a class=\"anchor\" id=\"three\"></a>"
   ]
  },
  {
   "cell_type": "markdown",
   "metadata": {},
   "source": [
    "**Identifying the Target Variable**"
   ]
  },
  {
   "cell_type": "code",
   "execution_count": 473,
   "metadata": {},
   "outputs": [],
   "source": [
    "## Renaming for easier identification\n",
    "data = data.rename(columns={'Concrete28 days Compressive Strength(MPa)': 'Target'})\n",
    "data.columns=data.columns.str.replace(' ','_').str.replace('%','_')"
   ]
  },
  {
   "cell_type": "markdown",
   "metadata": {},
   "source": [
    "**Dropping rows missing the target variable**"
   ]
  },
  {
   "cell_type": "code",
   "execution_count": 474,
   "metadata": {},
   "outputs": [],
   "source": [
    "## We can't do any predictions for samples missing this information\n",
    "data=data[data['Target'].notna()]"
   ]
  },
  {
   "cell_type": "code",
   "execution_count": 475,
   "metadata": {},
   "outputs": [
    {
     "name": "stdout",
     "output_type": "stream",
     "text": [
      "There are a total of 98 columns and 199 rows\n"
     ]
    }
   ],
   "source": [
    "print(f'''There are a total of {data.shape[1]} columns and {data.shape[0]} rows''')"
   ]
  },
  {
   "cell_type": "markdown",
   "metadata": {},
   "source": [
    "**Dropping Columns that have more than 35% of missing values**"
   ]
  },
  {
   "cell_type": "code",
   "execution_count": 479,
   "metadata": {},
   "outputs": [],
   "source": [
    "perc = 35.0 \n",
    "min_count =  int(((100-perc)/100)*data.shape[0] + 1)\n",
    "data = data.dropna( axis=1, thresh=min_count)"
   ]
  },
  {
   "cell_type": "code",
   "execution_count": 480,
   "metadata": {},
   "outputs": [
    {
     "name": "stdout",
     "output_type": "stream",
     "text": [
      "There are a total of 31 columns and 199 rows\n"
     ]
    }
   ],
   "source": [
    "print(f'''There are a total of {data.shape[1]} columns and {data.shape[0]} rows''')"
   ]
  },
  {
   "cell_type": "markdown",
   "metadata": {},
   "source": [
    "**Dealing with Outliers**"
   ]
  },
  {
   "cell_type": "code",
   "execution_count": 481,
   "metadata": {},
   "outputs": [],
   "source": [
    "## Replacing them with the 3% and 97% quantiles\n",
    "\n",
    "cols=data.columns[data.columns!='Target']\n",
    "\n",
    "for col in cols:\n",
    "    lower=data[col].quantile(0.03)\n",
    "    upper=data[col].quantile(0.97)\n",
    "    data[col]=np.where(data[col] <lower, lower,data[col])\n",
    "    data[col]=np.where(data[col] >upper, upper,data[col])"
   ]
  },
  {
   "cell_type": "markdown",
   "metadata": {},
   "source": [
    "**Imputing Missing Values for Numerical (KNN)**"
   ]
  },
  {
   "cell_type": "markdown",
   "metadata": {},
   "source": [
    "- This imputer utilizes the k-Nearest Neighbors method to replace the missing values in the datasets with the mean value from the parameter ‘n_neighbors’ nearest neighbors found. By default, it uses a Euclidean distance metric to impute the missing values. \n",
    "\n",
    "- In Layman's terms, for each row missing a certain value it identifies the $k$ most similar rows and imputes a value that fits."
   ]
  },
  {
   "cell_type": "code",
   "execution_count": 482,
   "metadata": {},
   "outputs": [],
   "source": [
    "data=data.reset_index(drop=True)\n",
    "X=data.drop(['Target','Concrete7_days_Compressive_Strength(MPa)'],axis=1)\n",
    "y=data['Target']"
   ]
  },
  {
   "cell_type": "code",
   "execution_count": 483,
   "metadata": {},
   "outputs": [],
   "source": [
    "## Scaling or normalizing the data enables more accurate imputation\n",
    "scaler = StandardScaler()\n",
    "scaler.fit(X)\n",
    "X=pd.DataFrame(scaler.transform(X),index=X.index, columns=X.columns)"
   ]
  },
  {
   "cell_type": "code",
   "execution_count": 484,
   "metadata": {},
   "outputs": [
    {
     "name": "stdout",
     "output_type": "stream",
     "text": [
      ">1 0.733 (0.142)\n",
      ">2 0.708 (0.181)\n",
      ">3 0.710 (0.194)\n",
      ">4 0.711 (0.194)\n",
      ">5 0.719 (0.188)\n",
      ">6 0.719 (0.182)\n",
      ">7 0.730 (0.142)\n",
      ">8 0.737 (0.130)\n",
      ">9 0.738 (0.128)\n",
      ">10 0.738 (0.124)\n",
      ">11 0.737 (0.123)\n",
      ">12 0.735 (0.126)\n",
      ">13 0.733 (0.129)\n",
      ">14 0.732 (0.130)\n",
      ">15 0.731 (0.130)\n",
      ">16 0.729 (0.130)\n",
      ">17 0.729 (0.131)\n",
      ">18 0.729 (0.130)\n",
      ">19 0.729 (0.132)\n"
     ]
    },
    {
     "data": {
      "image/png": "[encoded data removed]",
      "text/plain": [
       "<Figure size 432x288 with 1 Axes>"
      ]
     },
     "metadata": {
      "needs_background": "light"
     },
     "output_type": "display_data"
    }
   ],
   "source": [
    "## Identifying optimal k\n",
    "results = list()\n",
    "knumbers = range(1,20)\n",
    "final_results= pd.DataFrame(columns=[\"k\",\"mean_r2_score\"])\n",
    "for k in knumbers:\n",
    "    # create the modeling pipeline\n",
    "    pipeline = Pipeline(steps=[('i', KNNImputer(n_neighbors=int(k))), ('m', LinearRegression())])\n",
    "    # evaluate the model\n",
    "    cv = RepeatedKFold(n_splits=10, n_repeats=3, random_state=1)\n",
    "    n_scores = cross_val_score(pipeline, X, y, scoring='r2', cv=cv, n_jobs=-1, error_score='raise')\n",
    "    # store results\n",
    "    results.append(n_scores)\n",
    "    print('>%s %.3f (%.3f)' % (k, mean(n_scores), std(n_scores)))\n",
    "    row = {'k': k,\n",
    "           'mean_r2_score': mean(n_scores)\n",
    "    }\n",
    "\n",
    "    final_results = final_results.append(row, ignore_index=True)\n",
    "\n",
    "# plot model performance for comparison\n",
    "pyplot.boxplot(results, labels=knumbers, showmeans=True)\n",
    "pyplot.show()"
   ]
  },
  {
   "cell_type": "code",
   "execution_count": 485,
   "metadata": {},
   "outputs": [],
   "source": [
    "k=final_results['mean_r2_score'].idxmax()+1"
   ]
  },
  {
   "cell_type": "code",
   "execution_count": 486,
   "metadata": {},
   "outputs": [],
   "source": [
    "## Performing the imputation\n",
    "imputer = KNNImputer(n_neighbors=k)\n",
    "X = pd.DataFrame(imputer.fit_transform(X),columns = X.columns).astype(float)"
   ]
  },
  {
   "cell_type": "markdown",
   "metadata": {},
   "source": [
    "### 4. Feature Engineering  <a class=\"anchor\" id=\"four\"></a>"
   ]
  },
  {
   "cell_type": "markdown",
   "metadata": {},
   "source": [
    "**Note:**\n",
    "The final model uses technical variables assembled by the client's civil engineers\n",
    "\n",
    "Creating new variables:\n",
    "\n",
    "- Every variable multiplied by every other variable\n",
    "- Every variable divided by every other variable"
   ]
  },
  {
   "cell_type": "code",
   "execution_count": 487,
   "metadata": {},
   "outputs": [
    {
     "name": "stderr",
     "output_type": "stream",
     "text": [
      "/Users/adamtassabehji/opt/anaconda3/lib/python3.7/site-packages/ipykernel_launcher.py:3: PerformanceWarning: DataFrame is highly fragmented.  This is usually the result of calling `frame.insert` many times, which has poor performance.  Consider joining all columns at once using pd.concat(axis=1) instead.  To get a de-fragmented frame, use `newframe = frame.copy()`\n",
      "  This is separate from the ipykernel package so we can avoid doing imports until\n",
      "/Users/adamtassabehji/opt/anaconda3/lib/python3.7/site-packages/ipykernel_launcher.py:2: PerformanceWarning: DataFrame is highly fragmented.  This is usually the result of calling `frame.insert` many times, which has poor performance.  Consider joining all columns at once using pd.concat(axis=1) instead.  To get a de-fragmented frame, use `newframe = frame.copy()`\n",
      "  \n"
     ]
    }
   ],
   "source": [
    "for c1,c2 in sorted(set([tuple(sorted(s)) for s in itertools.permutations(X.columns,2)])):\n",
    "    X['{0}_multiplied_{1}'.format(c1,c2)] = X[c1]*X[c2]\n",
    "    X['{0}_divided_{1}'.format(c1,c2)] = X[c1]/X[c2]\n",
    "    X['{1}_divided_{0}'.format(c2,c1)] = X[c2]/X[c1]\n",
    " \n",
    "X=X.fillna(0)"
   ]
  },
  {
   "cell_type": "code",
   "execution_count": 488,
   "metadata": {},
   "outputs": [
    {
     "name": "stdout",
     "output_type": "stream",
     "text": [
      "Total number of features: 841\n"
     ]
    }
   ],
   "source": [
    "print(f'Total number of features: {len(X.columns)}')"
   ]
  },
  {
   "cell_type": "markdown",
   "metadata": {},
   "source": [
    "### 5. Feature Selection  <a class=\"anchor\" id=\"five\"></a>"
   ]
  },
  {
   "cell_type": "markdown",
   "metadata": {},
   "source": [
    "**Stepwise Forward Selection**"
   ]
  },
  {
   "cell_type": "markdown",
   "metadata": {},
   "source": [
    "Forward selection is a type of stepwise regression which begins with an empty model and adds in variables one by one. In each forward step, you add the one variable that gives the single best improvement to your model. This proccess will identify and selecting the combination of variables with the highest predictive power. "
   ]
  },
  {
   "cell_type": "code",
   "execution_count": 489,
   "metadata": {},
   "outputs": [
    {
     "data": {
      "text/plain": [
       "SequentialFeatureSelector(cv=4, estimator=LinearRegression(), floating=True,\n",
       "                          k_features=(2, 25), scoring='r2')"
      ]
     },
     "execution_count": 489,
     "metadata": {},
     "output_type": "execute_result"
    }
   ],
   "source": [
    "sfs1 = SFS(LinearRegression(),\n",
    "           k_features=(2,25),\n",
    "           forward=True,\n",
    "           floating=True,\n",
    "           cv=4,\n",
    "          scoring='r2')\n",
    "sfs1.fit(X, y)"
   ]
  },
  {
   "cell_type": "code",
   "execution_count": 490,
   "metadata": {},
   "outputs": [
    {
     "data": {
      "image/png": "[encoded data removed]",
      "text/plain": [
       "<Figure size 1008x288 with 1 Axes>"
      ]
     },
     "metadata": {
      "needs_background": "light"
     },
     "output_type": "display_data"
    }
   ],
   "source": [
    "fig = plot_sfs(sfs1.get_metric_dict(), kind='std_err',figsize=(14, 4))\n",
    "\n",
    "\n",
    "plt.title('Sequential Forward Selection (w. StdErr)')\n",
    "plt.grid()\n",
    "plt.show()"
   ]
  },
  {
   "cell_type": "code",
   "execution_count": 491,
   "metadata": {},
   "outputs": [
    {
     "name": "stdout",
     "output_type": "stream",
     "text": [
      "25 Features and R2 Score: 0.8621495435978149\n"
     ]
    }
   ],
   "source": [
    "print(f'{len(sfs1.k_feature_names_)} Features and R2 Score: {sfs1.k_score_}')"
   ]
  },
  {
   "cell_type": "code",
   "execution_count": 492,
   "metadata": {},
   "outputs": [
    {
     "data": {
      "text/plain": [
       "['Air_EntrainerQuantity_(kg/m3)_divided_Silica_FumeQuantity_(kg/m3)',\n",
       " 'CementFineness(m2/kg)_divided_Coarse_Aggregate_1Loss_Angeles_Abrasion_Value_(ASTM_C131)(_)',\n",
       " 'CementFineness(m2/kg)_multiplied_Coarse_Aggregate_1Specific_Gravity_SSD____________(ASTM_C127)-',\n",
       " 'CementQuantity_(kg/m3)_divided_Fine/CoarseBy_mass-',\n",
       " 'CementQuantity_(kg/m3)_divided_Natural_PozzolanQuantity_(kg/m3)',\n",
       " 'Coarse_Aggregate_1Absorption_(ASTM_C127)(_)_multiplied_RetarderQuantity_(kg/m3)',\n",
       " 'Coarse_Aggregate_1Absorption_(ASTM_C127)(_)_divided_RetarderQuantity_(kg/m3)',\n",
       " 'Coarse_Aggregate_1Clay_lumps_and_friable_particles_(ASTM_C142)(_)_multiplied_Coarse_Aggregate_1Maximum_Aggregate_Size(mm)',\n",
       " 'Coarse_Aggregate_1Clay_lumps_and_friable_particles_(ASTM_C142)(_)_multiplied_Fly_AshQuantity_(kg/m3)',\n",
       " 'Coarse_Aggregate_1Clay_lumps_and_friable_particles_(ASTM_C142)(_)_divided_Natural_PozzolanQuantity_(kg/m3)',\n",
       " 'Coarse_Aggregate_1Material_finer_than_0.075_mm_(ASTM_C117)(_)_multiplied_High_Range_Water_ReducerQuantity_(kg/m3)',\n",
       " 'Coarse_Aggregate_1Material_finer_than_0.075_mm_(ASTM_C117)(_)_divided_High_Range_Water_ReducerQuantity_(kg/m3)',\n",
       " 'Coarse_Aggregate_1Maximum_Aggregate_Size(mm)_multiplied_Natural_PozzolanQuantity_(kg/m3)',\n",
       " 'Coarse_Aggregate_1Quantity_SSD(kg/m3)_divided_Fly_AshQuantity_(kg/m3)',\n",
       " 'Coarse_Aggregate_1Soundness___(ASTM_C88)_(Precise_the_solution_used)(_)_multiplied_Fine_Aggregate_1Soundness___(ASTM_C88)_(Precise_the_solution_used)(_)',\n",
       " 'Coarse_Aggregate_1Specific_Gravity_SSD____________(ASTM_C127)-_multiplied_Fly_AshQuantity_(kg/m3)',\n",
       " 'Coarse_Aggregate_2_Quantity_SSD(kg/m3)_divided_Fly_AshQuantity_(kg/m3)',\n",
       " 'Fine/CoarseBy_mass-_multiplied_Water/CementBy_mass-',\n",
       " 'Fine_Aggregate_1Absorption____________(ASTM_C128)(_)_divided_Fine_Aggregate_1Clay_lumps_and_friable_particles_(ASTM_C142)(_)',\n",
       " 'Fine_Aggregate_1Absorption____________(ASTM_C128)(_)_multiplied_RetarderQuantity_(kg/m3)',\n",
       " 'Fine_Aggregate_1Material_finer_than_0.075_mm_(ASTM_C117)(_)_divided_WaterQuantity_(kg/m3)',\n",
       " 'Fine_Aggregate_1Soundness___(ASTM_C88)_(Precise_the_solution_used)(_)_divided_Natural_PozzolanQuantity_(kg/m3)',\n",
       " 'High_Range_Water_ReducerQuantity_(kg/m3)_divided_Natural_PozzolanQuantity_(kg/m3)',\n",
       " 'High_Range_Water_ReducerQuantity_(kg/m3)_multiplied_Water/CementBy_mass-',\n",
       " 'Natural_PozzolanQuantity_(kg/m3)_divided_Water/CementBy_mass-']"
      ]
     },
     "execution_count": 492,
     "metadata": {},
     "output_type": "execute_result"
    }
   ],
   "source": [
    "## These are the variables we will select for the next stage\n",
    "predictors=list(sfs1.k_feature_names_)\n",
    "predictors"
   ]
  },
  {
   "cell_type": "code",
   "execution_count": 493,
   "metadata": {},
   "outputs": [],
   "source": [
    "X=X[predictors]"
   ]
  },
  {
   "cell_type": "code",
   "execution_count": 494,
   "metadata": {},
   "outputs": [
    {
     "name": "stderr",
     "output_type": "stream",
     "text": [
      "/Users/adamtassabehji/opt/anaconda3/lib/python3.7/site-packages/statsmodels/tsa/tsatools.py:142: FutureWarning: In a future version of pandas all arguments of concat except for the argument 'objs' will be keyword-only\n",
      "  x = pd.concat(x[::order], 1)\n"
     ]
    },
    {
     "data": {
      "text/html": [
       "<table class=\"simpletable\">\n",
       "<caption>OLS Regression Results</caption>\n",
       "<tr>\n",
       "  <th>Dep. Variable:</th>         <td>Target</td>      <th>  R-squared:         </th> <td>   0.899</td>\n",
       "</tr>\n",
       "<tr>\n",
       "  <th>Model:</th>                   <td>OLS</td>       <th>  Adj. R-squared:    </th> <td>   0.884</td>\n",
       "</tr>\n",
       "<tr>\n",
       "  <th>Method:</th>             <td>Least Squares</td>  <th>  F-statistic:       </th> <td>   61.32</td>\n",
       "</tr>\n",
       "<tr>\n",
       "  <th>Date:</th>             <td>Sun, 12 Jun 2022</td> <th>  Prob (F-statistic):</th> <td>9.64e-73</td>\n",
       "</tr>\n",
       "<tr>\n",
       "  <th>Time:</th>                 <td>15:06:46</td>     <th>  Log-Likelihood:    </th> <td> -598.84</td>\n",
       "</tr>\n",
       "<tr>\n",
       "  <th>No. Observations:</th>      <td>   199</td>      <th>  AIC:               </th> <td>   1250.</td>\n",
       "</tr>\n",
       "<tr>\n",
       "  <th>Df Residuals:</th>          <td>   173</td>      <th>  BIC:               </th> <td>   1335.</td>\n",
       "</tr>\n",
       "<tr>\n",
       "  <th>Df Model:</th>              <td>    25</td>      <th>                     </th>     <td> </td>   \n",
       "</tr>\n",
       "<tr>\n",
       "  <th>Covariance Type:</th>      <td>nonrobust</td>    <th>                     </th>     <td> </td>   \n",
       "</tr>\n",
       "</table>\n",
       "<table class=\"simpletable\">\n",
       "<tr>\n",
       "                                                                              <td></td>                                                                                <th>coef</th>     <th>std err</th>      <th>t</th>      <th>P>|t|</th>  <th>[0.025</th>    <th>0.975]</th>  \n",
       "</tr>\n",
       "<tr>\n",
       "  <th>const</th>                                                                                                                                                    <td>   54.0876</td> <td>    0.638</td> <td>   84.757</td> <td> 0.000</td> <td>   52.828</td> <td>   55.347</td>\n",
       "</tr>\n",
       "<tr>\n",
       "  <th>Air_EntrainerQuantity_(kg/m3)_divided_Silica_FumeQuantity_(kg/m3)</th>                                                                                        <td>   -1.1257</td> <td>    0.102</td> <td>  -11.006</td> <td> 0.000</td> <td>   -1.328</td> <td>   -0.924</td>\n",
       "</tr>\n",
       "<tr>\n",
       "  <th>CementFineness(m2/kg)_divided_Coarse_Aggregate_1Loss_Angeles_Abrasion_Value_(ASTM_C131)(_)</th>                                                               <td>   -0.0428</td> <td>    0.021</td> <td>   -2.051</td> <td> 0.042</td> <td>   -0.084</td> <td>   -0.002</td>\n",
       "</tr>\n",
       "<tr>\n",
       "  <th>CementFineness(m2/kg)_multiplied_Coarse_Aggregate_1Specific_Gravity_SSD____________(ASTM_C127)-</th>                                                          <td>    1.1012</td> <td>    0.413</td> <td>    2.669</td> <td> 0.008</td> <td>    0.287</td> <td>    1.916</td>\n",
       "</tr>\n",
       "<tr>\n",
       "  <th>CementQuantity_(kg/m3)_divided_Fine/CoarseBy_mass-</th>                                                                                                       <td>   -0.0619</td> <td>    0.034</td> <td>   -1.798</td> <td> 0.074</td> <td>   -0.130</td> <td>    0.006</td>\n",
       "</tr>\n",
       "<tr>\n",
       "  <th>CementQuantity_(kg/m3)_divided_Natural_PozzolanQuantity_(kg/m3)</th>                                                                                          <td>    0.2742</td> <td>    0.161</td> <td>    1.699</td> <td> 0.091</td> <td>   -0.044</td> <td>    0.593</td>\n",
       "</tr>\n",
       "<tr>\n",
       "  <th>Coarse_Aggregate_1Absorption_(ASTM_C127)(_)_multiplied_RetarderQuantity_(kg/m3)</th>                                                                          <td>    7.7687</td> <td>    2.271</td> <td>    3.421</td> <td> 0.001</td> <td>    3.286</td> <td>   12.251</td>\n",
       "</tr>\n",
       "<tr>\n",
       "  <th>Coarse_Aggregate_1Absorption_(ASTM_C127)(_)_divided_RetarderQuantity_(kg/m3)</th>                                                                             <td>   -1.3379</td> <td>    0.240</td> <td>   -5.580</td> <td> 0.000</td> <td>   -1.811</td> <td>   -0.865</td>\n",
       "</tr>\n",
       "<tr>\n",
       "  <th>Coarse_Aggregate_1Clay_lumps_and_friable_particles_(ASTM_C142)(_)_multiplied_Coarse_Aggregate_1Maximum_Aggregate_Size(mm)</th>                                <td>    3.1295</td> <td>    0.452</td> <td>    6.916</td> <td> 0.000</td> <td>    2.236</td> <td>    4.023</td>\n",
       "</tr>\n",
       "<tr>\n",
       "  <th>Coarse_Aggregate_1Clay_lumps_and_friable_particles_(ASTM_C142)(_)_multiplied_Fly_AshQuantity_(kg/m3)</th>                                                     <td>   -1.4635</td> <td>    0.499</td> <td>   -2.936</td> <td> 0.004</td> <td>   -2.447</td> <td>   -0.480</td>\n",
       "</tr>\n",
       "<tr>\n",
       "  <th>Coarse_Aggregate_1Clay_lumps_and_friable_particles_(ASTM_C142)(_)_divided_Natural_PozzolanQuantity_(kg/m3)</th>                                               <td>    0.0225</td> <td>    0.022</td> <td>    1.024</td> <td> 0.307</td> <td>   -0.021</td> <td>    0.066</td>\n",
       "</tr>\n",
       "<tr>\n",
       "  <th>Coarse_Aggregate_1Material_finer_than_0.075_mm_(ASTM_C117)(_)_multiplied_High_Range_Water_ReducerQuantity_(kg/m3)</th>                                        <td>    2.1968</td> <td>    0.542</td> <td>    4.054</td> <td> 0.000</td> <td>    1.127</td> <td>    3.266</td>\n",
       "</tr>\n",
       "<tr>\n",
       "  <th>Coarse_Aggregate_1Material_finer_than_0.075_mm_(ASTM_C117)(_)_divided_High_Range_Water_ReducerQuantity_(kg/m3)</th>                                           <td>   -0.3378</td> <td>    0.098</td> <td>   -3.459</td> <td> 0.001</td> <td>   -0.531</td> <td>   -0.145</td>\n",
       "</tr>\n",
       "<tr>\n",
       "  <th>Coarse_Aggregate_1Maximum_Aggregate_Size(mm)_multiplied_Natural_PozzolanQuantity_(kg/m3)</th>                                                                 <td>    9.5341</td> <td>    1.917</td> <td>    4.973</td> <td> 0.000</td> <td>    5.750</td> <td>   13.318</td>\n",
       "</tr>\n",
       "<tr>\n",
       "  <th>Coarse_Aggregate_1Quantity_SSD(kg/m3)_divided_Fly_AshQuantity_(kg/m3)</th>                                                                                    <td>   -0.0052</td> <td>    0.004</td> <td>   -1.313</td> <td> 0.191</td> <td>   -0.013</td> <td>    0.003</td>\n",
       "</tr>\n",
       "<tr>\n",
       "  <th>Coarse_Aggregate_1Soundness___(ASTM_C88)_(Precise_the_solution_used)(_)_multiplied_Fine_Aggregate_1Soundness___(ASTM_C88)_(Precise_the_solution_used)(_)</th> <td>    1.3288</td> <td>    0.814</td> <td>    1.633</td> <td> 0.104</td> <td>   -0.277</td> <td>    2.935</td>\n",
       "</tr>\n",
       "<tr>\n",
       "  <th>Coarse_Aggregate_1Specific_Gravity_SSD____________(ASTM_C127)-_multiplied_Fly_AshQuantity_(kg/m3)</th>                                                        <td>    0.7448</td> <td>    0.687</td> <td>    1.085</td> <td> 0.280</td> <td>   -0.611</td> <td>    2.100</td>\n",
       "</tr>\n",
       "<tr>\n",
       "  <th>Coarse_Aggregate_2_Quantity_SSD(kg/m3)_divided_Fly_AshQuantity_(kg/m3)</th>                                                                                   <td>   -2.8548</td> <td>    0.444</td> <td>   -6.425</td> <td> 0.000</td> <td>   -3.732</td> <td>   -1.978</td>\n",
       "</tr>\n",
       "<tr>\n",
       "  <th>Fine/CoarseBy_mass-_multiplied_Water/CementBy_mass-</th>                                                                                                      <td>    0.8344</td> <td>    0.478</td> <td>    1.744</td> <td> 0.083</td> <td>   -0.110</td> <td>    1.779</td>\n",
       "</tr>\n",
       "<tr>\n",
       "  <th>Fine_Aggregate_1Absorption____________(ASTM_C128)(_)_divided_Fine_Aggregate_1Clay_lumps_and_friable_particles_(ASTM_C142)(_)</th>                             <td>    0.0830</td> <td>    0.094</td> <td>    0.882</td> <td> 0.379</td> <td>   -0.103</td> <td>    0.269</td>\n",
       "</tr>\n",
       "<tr>\n",
       "  <th>Fine_Aggregate_1Absorption____________(ASTM_C128)(_)_multiplied_RetarderQuantity_(kg/m3)</th>                                                                 <td>   -4.3814</td> <td>    1.813</td> <td>   -2.417</td> <td> 0.017</td> <td>   -7.959</td> <td>   -0.804</td>\n",
       "</tr>\n",
       "<tr>\n",
       "  <th>Fine_Aggregate_1Material_finer_than_0.075_mm_(ASTM_C117)(_)_divided_WaterQuantity_(kg/m3)</th>                                                                <td>    0.1372</td> <td>    0.061</td> <td>    2.255</td> <td> 0.025</td> <td>    0.017</td> <td>    0.257</td>\n",
       "</tr>\n",
       "<tr>\n",
       "  <th>Fine_Aggregate_1Soundness___(ASTM_C88)_(Precise_the_solution_used)(_)_divided_Natural_PozzolanQuantity_(kg/m3)</th>                                           <td>    0.1338</td> <td>    0.036</td> <td>    3.737</td> <td> 0.000</td> <td>    0.063</td> <td>    0.205</td>\n",
       "</tr>\n",
       "<tr>\n",
       "  <th>High_Range_Water_ReducerQuantity_(kg/m3)_divided_Natural_PozzolanQuantity_(kg/m3)</th>                                                                        <td>   -0.3779</td> <td>    0.203</td> <td>   -1.859</td> <td> 0.065</td> <td>   -0.779</td> <td>    0.023</td>\n",
       "</tr>\n",
       "<tr>\n",
       "  <th>High_Range_Water_ReducerQuantity_(kg/m3)_multiplied_Water/CementBy_mass-</th>                                                                                 <td>   -0.8254</td> <td>    0.497</td> <td>   -1.660</td> <td> 0.099</td> <td>   -1.807</td> <td>    0.156</td>\n",
       "</tr>\n",
       "<tr>\n",
       "  <th>Natural_PozzolanQuantity_(kg/m3)_divided_Water/CementBy_mass-</th>                                                                                            <td>    2.4041</td> <td>    0.131</td> <td>   18.331</td> <td> 0.000</td> <td>    2.145</td> <td>    2.663</td>\n",
       "</tr>\n",
       "</table>\n",
       "<table class=\"simpletable\">\n",
       "<tr>\n",
       "  <th>Omnibus:</th>       <td> 5.982</td> <th>  Durbin-Watson:     </th> <td>   1.964</td>\n",
       "</tr>\n",
       "<tr>\n",
       "  <th>Prob(Omnibus):</th> <td> 0.050</td> <th>  Jarque-Bera (JB):  </th> <td>   9.319</td>\n",
       "</tr>\n",
       "<tr>\n",
       "  <th>Skew:</th>          <td>-0.010</td> <th>  Prob(JB):          </th> <td> 0.00947</td>\n",
       "</tr>\n",
       "<tr>\n",
       "  <th>Kurtosis:</th>      <td> 4.060</td> <th>  Cond. No.          </th> <td>    810.</td>\n",
       "</tr>\n",
       "</table><br/><br/>Notes:<br/>[1] Standard Errors assume that the covariance matrix of the errors is correctly specified."
      ],
      "text/plain": [
       "<class 'statsmodels.iolib.summary.Summary'>\n",
       "\"\"\"\n",
       "                            OLS Regression Results                            \n",
       "==============================================================================\n",
       "Dep. Variable:                 Target   R-squared:                       0.899\n",
       "Model:                            OLS   Adj. R-squared:                  0.884\n",
       "Method:                 Least Squares   F-statistic:                     61.32\n",
       "Date:                Sun, 12 Jun 2022   Prob (F-statistic):           9.64e-73\n",
       "Time:                        15:06:46   Log-Likelihood:                -598.84\n",
       "No. Observations:                 199   AIC:                             1250.\n",
       "Df Residuals:                     173   BIC:                             1335.\n",
       "Df Model:                          25                                         \n",
       "Covariance Type:            nonrobust                                         \n",
       "============================================================================================================================================================================================================================\n",
       "                                                                                                                                                               coef    std err          t      P>|t|      [0.025      0.975]\n",
       "----------------------------------------------------------------------------------------------------------------------------------------------------------------------------------------------------------------------------\n",
       "const                                                                                                                                                       54.0876      0.638     84.757      0.000      52.828      55.347\n",
       "Air_EntrainerQuantity_(kg/m3)_divided_Silica_FumeQuantity_(kg/m3)                                                                                           -1.1257      0.102    -11.006      0.000      -1.328      -0.924\n",
       "CementFineness(m2/kg)_divided_Coarse_Aggregate_1Loss_Angeles_Abrasion_Value_(ASTM_C131)(_)                                                                  -0.0428      0.021     -2.051      0.042      -0.084      -0.002\n",
       "CementFineness(m2/kg)_multiplied_Coarse_Aggregate_1Specific_Gravity_SSD____________(ASTM_C127)-                                                              1.1012      0.413      2.669      0.008       0.287       1.916\n",
       "CementQuantity_(kg/m3)_divided_Fine/CoarseBy_mass-                                                                                                          -0.0619      0.034     -1.798      0.074      -0.130       0.006\n",
       "CementQuantity_(kg/m3)_divided_Natural_PozzolanQuantity_(kg/m3)                                                                                              0.2742      0.161      1.699      0.091      -0.044       0.593\n",
       "Coarse_Aggregate_1Absorption_(ASTM_C127)(_)_multiplied_RetarderQuantity_(kg/m3)                                                                              7.7687      2.271      3.421      0.001       3.286      12.251\n",
       "Coarse_Aggregate_1Absorption_(ASTM_C127)(_)_divided_RetarderQuantity_(kg/m3)                                                                                -1.3379      0.240     -5.580      0.000      -1.811      -0.865\n",
       "Coarse_Aggregate_1Clay_lumps_and_friable_particles_(ASTM_C142)(_)_multiplied_Coarse_Aggregate_1Maximum_Aggregate_Size(mm)                                    3.1295      0.452      6.916      0.000       2.236       4.023\n",
       "Coarse_Aggregate_1Clay_lumps_and_friable_particles_(ASTM_C142)(_)_multiplied_Fly_AshQuantity_(kg/m3)                                                        -1.4635      0.499     -2.936      0.004      -2.447      -0.480\n",
       "Coarse_Aggregate_1Clay_lumps_and_friable_particles_(ASTM_C142)(_)_divided_Natural_PozzolanQuantity_(kg/m3)                                                   0.0225      0.022      1.024      0.307      -0.021       0.066\n",
       "Coarse_Aggregate_1Material_finer_than_0.075_mm_(ASTM_C117)(_)_multiplied_High_Range_Water_ReducerQuantity_(kg/m3)                                            2.1968      0.542      4.054      0.000       1.127       3.266\n",
       "Coarse_Aggregate_1Material_finer_than_0.075_mm_(ASTM_C117)(_)_divided_High_Range_Water_ReducerQuantity_(kg/m3)                                              -0.3378      0.098     -3.459      0.001      -0.531      -0.145\n",
       "Coarse_Aggregate_1Maximum_Aggregate_Size(mm)_multiplied_Natural_PozzolanQuantity_(kg/m3)                                                                     9.5341      1.917      4.973      0.000       5.750      13.318\n",
       "Coarse_Aggregate_1Quantity_SSD(kg/m3)_divided_Fly_AshQuantity_(kg/m3)                                                                                       -0.0052      0.004     -1.313      0.191      -0.013       0.003\n",
       "Coarse_Aggregate_1Soundness___(ASTM_C88)_(Precise_the_solution_used)(_)_multiplied_Fine_Aggregate_1Soundness___(ASTM_C88)_(Precise_the_solution_used)(_)     1.3288      0.814      1.633      0.104      -0.277       2.935\n",
       "Coarse_Aggregate_1Specific_Gravity_SSD____________(ASTM_C127)-_multiplied_Fly_AshQuantity_(kg/m3)                                                            0.7448      0.687      1.085      0.280      -0.611       2.100\n",
       "Coarse_Aggregate_2_Quantity_SSD(kg/m3)_divided_Fly_AshQuantity_(kg/m3)                                                                                      -2.8548      0.444     -6.425      0.000      -3.732      -1.978\n",
       "Fine/CoarseBy_mass-_multiplied_Water/CementBy_mass-                                                                                                          0.8344      0.478      1.744      0.083      -0.110       1.779\n",
       "Fine_Aggregate_1Absorption____________(ASTM_C128)(_)_divided_Fine_Aggregate_1Clay_lumps_and_friable_particles_(ASTM_C142)(_)                                 0.0830      0.094      0.882      0.379      -0.103       0.269\n",
       "Fine_Aggregate_1Absorption____________(ASTM_C128)(_)_multiplied_RetarderQuantity_(kg/m3)                                                                    -4.3814      1.813     -2.417      0.017      -7.959      -0.804\n",
       "Fine_Aggregate_1Material_finer_than_0.075_mm_(ASTM_C117)(_)_divided_WaterQuantity_(kg/m3)                                                                    0.1372      0.061      2.255      0.025       0.017       0.257\n",
       "Fine_Aggregate_1Soundness___(ASTM_C88)_(Precise_the_solution_used)(_)_divided_Natural_PozzolanQuantity_(kg/m3)                                               0.1338      0.036      3.737      0.000       0.063       0.205\n",
       "High_Range_Water_ReducerQuantity_(kg/m3)_divided_Natural_PozzolanQuantity_(kg/m3)                                                                           -0.3779      0.203     -1.859      0.065      -0.779       0.023\n",
       "High_Range_Water_ReducerQuantity_(kg/m3)_multiplied_Water/CementBy_mass-                                                                                    -0.8254      0.497     -1.660      0.099      -1.807       0.156\n",
       "Natural_PozzolanQuantity_(kg/m3)_divided_Water/CementBy_mass-                                                                                                2.4041      0.131     18.331      0.000       2.145       2.663\n",
       "==============================================================================\n",
       "Omnibus:                        5.982   Durbin-Watson:                   1.964\n",
       "Prob(Omnibus):                  0.050   Jarque-Bera (JB):                9.319\n",
       "Skew:                          -0.010   Prob(JB):                      0.00947\n",
       "Kurtosis:                       4.060   Cond. No.                         810.\n",
       "==============================================================================\n",
       "\n",
       "Notes:\n",
       "[1] Standard Errors assume that the covariance matrix of the errors is correctly specified.\n",
       "\"\"\""
      ]
     },
     "execution_count": 494,
     "metadata": {},
     "output_type": "execute_result"
    }
   ],
   "source": [
    "X_full_model = sm.add_constant(X)\n",
    "model = sm.OLS(y,X_full_model)\n",
    "result = model.fit()\n",
    "result.summary()"
   ]
  },
  {
   "cell_type": "code",
   "execution_count": 495,
   "metadata": {},
   "outputs": [],
   "source": [
    "X=X.drop([\n",
    "    'Fine_Aggregate_1Absorption____________(ASTM_C128)(_)_divided_Fine_Aggregate_1Clay_lumps_and_friable_particles_(ASTM_C142)(_)',\n",
    "    'Coarse_Aggregate_1Clay_lumps_and_friable_particles_(ASTM_C142)(_)_divided_Natural_PozzolanQuantity_(kg/m3)',\n",
    "    'Coarse_Aggregate_1Specific_Gravity_SSD____________(ASTM_C127)-_multiplied_Fly_AshQuantity_(kg/m3)',\n",
    "    'Coarse_Aggregate_1Quantity_SSD(kg/m3)_divided_Fly_AshQuantity_(kg/m3)'],\n",
    "axis=1)"
   ]
  },
  {
   "cell_type": "markdown",
   "metadata": {},
   "source": [
    "**As we can see below, we were able to elimate 4 features without affecting the Adjusted R squared**"
   ]
  },
  {
   "cell_type": "code",
   "execution_count": 496,
   "metadata": {},
   "outputs": [
    {
     "name": "stderr",
     "output_type": "stream",
     "text": [
      "/Users/adamtassabehji/opt/anaconda3/lib/python3.7/site-packages/statsmodels/tsa/tsatools.py:142: FutureWarning: In a future version of pandas all arguments of concat except for the argument 'objs' will be keyword-only\n",
      "  x = pd.concat(x[::order], 1)\n"
     ]
    },
    {
     "data": {
      "text/html": [
       "<table class=\"simpletable\">\n",
       "<caption>OLS Regression Results</caption>\n",
       "<tr>\n",
       "  <th>Dep. Variable:</th>         <td>Target</td>      <th>  R-squared:         </th> <td>   0.896</td>\n",
       "</tr>\n",
       "<tr>\n",
       "  <th>Model:</th>                   <td>OLS</td>       <th>  Adj. R-squared:    </th> <td>   0.884</td>\n",
       "</tr>\n",
       "<tr>\n",
       "  <th>Method:</th>             <td>Least Squares</td>  <th>  F-statistic:       </th> <td>   72.75</td>\n",
       "</tr>\n",
       "<tr>\n",
       "  <th>Date:</th>             <td>Sun, 12 Jun 2022</td> <th>  Prob (F-statistic):</th> <td>1.49e-75</td>\n",
       "</tr>\n",
       "<tr>\n",
       "  <th>Time:</th>                 <td>15:06:46</td>     <th>  Log-Likelihood:    </th> <td> -601.18</td>\n",
       "</tr>\n",
       "<tr>\n",
       "  <th>No. Observations:</th>      <td>   199</td>      <th>  AIC:               </th> <td>   1246.</td>\n",
       "</tr>\n",
       "<tr>\n",
       "  <th>Df Residuals:</th>          <td>   177</td>      <th>  BIC:               </th> <td>   1319.</td>\n",
       "</tr>\n",
       "<tr>\n",
       "  <th>Df Model:</th>              <td>    21</td>      <th>                     </th>     <td> </td>   \n",
       "</tr>\n",
       "<tr>\n",
       "  <th>Covariance Type:</th>      <td>nonrobust</td>    <th>                     </th>     <td> </td>   \n",
       "</tr>\n",
       "</table>\n",
       "<table class=\"simpletable\">\n",
       "<tr>\n",
       "                                                                              <td></td>                                                                                <th>coef</th>     <th>std err</th>      <th>t</th>      <th>P>|t|</th>  <th>[0.025</th>    <th>0.975]</th>  \n",
       "</tr>\n",
       "<tr>\n",
       "  <th>const</th>                                                                                                                                                    <td>   54.2890</td> <td>    0.615</td> <td>   88.346</td> <td> 0.000</td> <td>   53.076</td> <td>   55.502</td>\n",
       "</tr>\n",
       "<tr>\n",
       "  <th>Air_EntrainerQuantity_(kg/m3)_divided_Silica_FumeQuantity_(kg/m3)</th>                                                                                        <td>   -1.0927</td> <td>    0.095</td> <td>  -11.495</td> <td> 0.000</td> <td>   -1.280</td> <td>   -0.905</td>\n",
       "</tr>\n",
       "<tr>\n",
       "  <th>CementFineness(m2/kg)_divided_Coarse_Aggregate_1Loss_Angeles_Abrasion_Value_(ASTM_C131)(_)</th>                                                               <td>   -0.0507</td> <td>    0.020</td> <td>   -2.493</td> <td> 0.014</td> <td>   -0.091</td> <td>   -0.011</td>\n",
       "</tr>\n",
       "<tr>\n",
       "  <th>CementFineness(m2/kg)_multiplied_Coarse_Aggregate_1Specific_Gravity_SSD____________(ASTM_C127)-</th>                                                          <td>    1.3688</td> <td>    0.354</td> <td>    3.866</td> <td> 0.000</td> <td>    0.670</td> <td>    2.067</td>\n",
       "</tr>\n",
       "<tr>\n",
       "  <th>CementQuantity_(kg/m3)_divided_Fine/CoarseBy_mass-</th>                                                                                                       <td>   -0.0567</td> <td>    0.034</td> <td>   -1.681</td> <td> 0.095</td> <td>   -0.123</td> <td>    0.010</td>\n",
       "</tr>\n",
       "<tr>\n",
       "  <th>CementQuantity_(kg/m3)_divided_Natural_PozzolanQuantity_(kg/m3)</th>                                                                                          <td>    0.2339</td> <td>    0.160</td> <td>    1.462</td> <td> 0.145</td> <td>   -0.082</td> <td>    0.549</td>\n",
       "</tr>\n",
       "<tr>\n",
       "  <th>Coarse_Aggregate_1Absorption_(ASTM_C127)(_)_multiplied_RetarderQuantity_(kg/m3)</th>                                                                          <td>    7.5755</td> <td>    2.217</td> <td>    3.417</td> <td> 0.001</td> <td>    3.200</td> <td>   11.951</td>\n",
       "</tr>\n",
       "<tr>\n",
       "  <th>Coarse_Aggregate_1Absorption_(ASTM_C127)(_)_divided_RetarderQuantity_(kg/m3)</th>                                                                             <td>   -1.3161</td> <td>    0.237</td> <td>   -5.562</td> <td> 0.000</td> <td>   -1.783</td> <td>   -0.849</td>\n",
       "</tr>\n",
       "<tr>\n",
       "  <th>Coarse_Aggregate_1Clay_lumps_and_friable_particles_(ASTM_C142)(_)_multiplied_Coarse_Aggregate_1Maximum_Aggregate_Size(mm)</th>                                <td>    3.1223</td> <td>    0.451</td> <td>    6.925</td> <td> 0.000</td> <td>    2.233</td> <td>    4.012</td>\n",
       "</tr>\n",
       "<tr>\n",
       "  <th>Coarse_Aggregate_1Clay_lumps_and_friable_particles_(ASTM_C142)(_)_multiplied_Fly_AshQuantity_(kg/m3)</th>                                                     <td>   -1.3950</td> <td>    0.496</td> <td>   -2.810</td> <td> 0.006</td> <td>   -2.375</td> <td>   -0.415</td>\n",
       "</tr>\n",
       "<tr>\n",
       "  <th>Coarse_Aggregate_1Material_finer_than_0.075_mm_(ASTM_C117)(_)_multiplied_High_Range_Water_ReducerQuantity_(kg/m3)</th>                                        <td>    2.2887</td> <td>    0.535</td> <td>    4.281</td> <td> 0.000</td> <td>    1.234</td> <td>    3.344</td>\n",
       "</tr>\n",
       "<tr>\n",
       "  <th>Coarse_Aggregate_1Material_finer_than_0.075_mm_(ASTM_C117)(_)_divided_High_Range_Water_ReducerQuantity_(kg/m3)</th>                                           <td>   -0.3337</td> <td>    0.097</td> <td>   -3.428</td> <td> 0.001</td> <td>   -0.526</td> <td>   -0.142</td>\n",
       "</tr>\n",
       "<tr>\n",
       "  <th>Coarse_Aggregate_1Maximum_Aggregate_Size(mm)_multiplied_Natural_PozzolanQuantity_(kg/m3)</th>                                                                 <td>   10.1330</td> <td>    1.786</td> <td>    5.672</td> <td> 0.000</td> <td>    6.607</td> <td>   13.659</td>\n",
       "</tr>\n",
       "<tr>\n",
       "  <th>Coarse_Aggregate_1Soundness___(ASTM_C88)_(Precise_the_solution_used)(_)_multiplied_Fine_Aggregate_1Soundness___(ASTM_C88)_(Precise_the_solution_used)(_)</th> <td>    1.3801</td> <td>    0.812</td> <td>    1.700</td> <td> 0.091</td> <td>   -0.222</td> <td>    2.982</td>\n",
       "</tr>\n",
       "<tr>\n",
       "  <th>Coarse_Aggregate_2_Quantity_SSD(kg/m3)_divided_Fly_AshQuantity_(kg/m3)</th>                                                                                   <td>   -3.1178</td> <td>    0.345</td> <td>   -9.034</td> <td> 0.000</td> <td>   -3.799</td> <td>   -2.437</td>\n",
       "</tr>\n",
       "<tr>\n",
       "  <th>Fine/CoarseBy_mass-_multiplied_Water/CementBy_mass-</th>                                                                                                      <td>    0.8137</td> <td>    0.470</td> <td>    1.732</td> <td> 0.085</td> <td>   -0.113</td> <td>    1.741</td>\n",
       "</tr>\n",
       "<tr>\n",
       "  <th>Fine_Aggregate_1Absorption____________(ASTM_C128)(_)_multiplied_RetarderQuantity_(kg/m3)</th>                                                                 <td>   -4.1594</td> <td>    1.775</td> <td>   -2.344</td> <td> 0.020</td> <td>   -7.662</td> <td>   -0.657</td>\n",
       "</tr>\n",
       "<tr>\n",
       "  <th>Fine_Aggregate_1Material_finer_than_0.075_mm_(ASTM_C117)(_)_divided_WaterQuantity_(kg/m3)</th>                                                                <td>    0.1264</td> <td>    0.060</td> <td>    2.104</td> <td> 0.037</td> <td>    0.008</td> <td>    0.245</td>\n",
       "</tr>\n",
       "<tr>\n",
       "  <th>Fine_Aggregate_1Soundness___(ASTM_C88)_(Precise_the_solution_used)(_)_divided_Natural_PozzolanQuantity_(kg/m3)</th>                                           <td>    0.1313</td> <td>    0.034</td> <td>    3.854</td> <td> 0.000</td> <td>    0.064</td> <td>    0.199</td>\n",
       "</tr>\n",
       "<tr>\n",
       "  <th>High_Range_Water_ReducerQuantity_(kg/m3)_divided_Natural_PozzolanQuantity_(kg/m3)</th>                                                                        <td>   -0.3040</td> <td>    0.193</td> <td>   -1.574</td> <td> 0.117</td> <td>   -0.685</td> <td>    0.077</td>\n",
       "</tr>\n",
       "<tr>\n",
       "  <th>High_Range_Water_ReducerQuantity_(kg/m3)_multiplied_Water/CementBy_mass-</th>                                                                                 <td>   -0.8740</td> <td>    0.491</td> <td>   -1.781</td> <td> 0.077</td> <td>   -1.842</td> <td>    0.094</td>\n",
       "</tr>\n",
       "<tr>\n",
       "  <th>Natural_PozzolanQuantity_(kg/m3)_divided_Water/CementBy_mass-</th>                                                                                            <td>    2.4253</td> <td>    0.128</td> <td>   18.881</td> <td> 0.000</td> <td>    2.172</td> <td>    2.679</td>\n",
       "</tr>\n",
       "</table>\n",
       "<table class=\"simpletable\">\n",
       "<tr>\n",
       "  <th>Omnibus:</th>       <td> 5.375</td> <th>  Durbin-Watson:     </th> <td>   1.974</td>\n",
       "</tr>\n",
       "<tr>\n",
       "  <th>Prob(Omnibus):</th> <td> 0.068</td> <th>  Jarque-Bera (JB):  </th> <td>   7.857</td>\n",
       "</tr>\n",
       "<tr>\n",
       "  <th>Skew:</th>          <td> 0.027</td> <th>  Prob(JB):          </th> <td>  0.0197</td>\n",
       "</tr>\n",
       "<tr>\n",
       "  <th>Kurtosis:</th>      <td> 3.972</td> <th>  Cond. No.          </th> <td>    156.</td>\n",
       "</tr>\n",
       "</table><br/><br/>Notes:<br/>[1] Standard Errors assume that the covariance matrix of the errors is correctly specified."
      ],
      "text/plain": [
       "<class 'statsmodels.iolib.summary.Summary'>\n",
       "\"\"\"\n",
       "                            OLS Regression Results                            \n",
       "==============================================================================\n",
       "Dep. Variable:                 Target   R-squared:                       0.896\n",
       "Model:                            OLS   Adj. R-squared:                  0.884\n",
       "Method:                 Least Squares   F-statistic:                     72.75\n",
       "Date:                Sun, 12 Jun 2022   Prob (F-statistic):           1.49e-75\n",
       "Time:                        15:06:46   Log-Likelihood:                -601.18\n",
       "No. Observations:                 199   AIC:                             1246.\n",
       "Df Residuals:                     177   BIC:                             1319.\n",
       "Df Model:                          21                                         \n",
       "Covariance Type:            nonrobust                                         \n",
       "============================================================================================================================================================================================================================\n",
       "                                                                                                                                                               coef    std err          t      P>|t|      [0.025      0.975]\n",
       "----------------------------------------------------------------------------------------------------------------------------------------------------------------------------------------------------------------------------\n",
       "const                                                                                                                                                       54.2890      0.615     88.346      0.000      53.076      55.502\n",
       "Air_EntrainerQuantity_(kg/m3)_divided_Silica_FumeQuantity_(kg/m3)                                                                                           -1.0927      0.095    -11.495      0.000      -1.280      -0.905\n",
       "CementFineness(m2/kg)_divided_Coarse_Aggregate_1Loss_Angeles_Abrasion_Value_(ASTM_C131)(_)                                                                  -0.0507      0.020     -2.493      0.014      -0.091      -0.011\n",
       "CementFineness(m2/kg)_multiplied_Coarse_Aggregate_1Specific_Gravity_SSD____________(ASTM_C127)-                                                              1.3688      0.354      3.866      0.000       0.670       2.067\n",
       "CementQuantity_(kg/m3)_divided_Fine/CoarseBy_mass-                                                                                                          -0.0567      0.034     -1.681      0.095      -0.123       0.010\n",
       "CementQuantity_(kg/m3)_divided_Natural_PozzolanQuantity_(kg/m3)                                                                                              0.2339      0.160      1.462      0.145      -0.082       0.549\n",
       "Coarse_Aggregate_1Absorption_(ASTM_C127)(_)_multiplied_RetarderQuantity_(kg/m3)                                                                              7.5755      2.217      3.417      0.001       3.200      11.951\n",
       "Coarse_Aggregate_1Absorption_(ASTM_C127)(_)_divided_RetarderQuantity_(kg/m3)                                                                                -1.3161      0.237     -5.562      0.000      -1.783      -0.849\n",
       "Coarse_Aggregate_1Clay_lumps_and_friable_particles_(ASTM_C142)(_)_multiplied_Coarse_Aggregate_1Maximum_Aggregate_Size(mm)                                    3.1223      0.451      6.925      0.000       2.233       4.012\n",
       "Coarse_Aggregate_1Clay_lumps_and_friable_particles_(ASTM_C142)(_)_multiplied_Fly_AshQuantity_(kg/m3)                                                        -1.3950      0.496     -2.810      0.006      -2.375      -0.415\n",
       "Coarse_Aggregate_1Material_finer_than_0.075_mm_(ASTM_C117)(_)_multiplied_High_Range_Water_ReducerQuantity_(kg/m3)                                            2.2887      0.535      4.281      0.000       1.234       3.344\n",
       "Coarse_Aggregate_1Material_finer_than_0.075_mm_(ASTM_C117)(_)_divided_High_Range_Water_ReducerQuantity_(kg/m3)                                              -0.3337      0.097     -3.428      0.001      -0.526      -0.142\n",
       "Coarse_Aggregate_1Maximum_Aggregate_Size(mm)_multiplied_Natural_PozzolanQuantity_(kg/m3)                                                                    10.1330      1.786      5.672      0.000       6.607      13.659\n",
       "Coarse_Aggregate_1Soundness___(ASTM_C88)_(Precise_the_solution_used)(_)_multiplied_Fine_Aggregate_1Soundness___(ASTM_C88)_(Precise_the_solution_used)(_)     1.3801      0.812      1.700      0.091      -0.222       2.982\n",
       "Coarse_Aggregate_2_Quantity_SSD(kg/m3)_divided_Fly_AshQuantity_(kg/m3)                                                                                      -3.1178      0.345     -9.034      0.000      -3.799      -2.437\n",
       "Fine/CoarseBy_mass-_multiplied_Water/CementBy_mass-                                                                                                          0.8137      0.470      1.732      0.085      -0.113       1.741\n",
       "Fine_Aggregate_1Absorption____________(ASTM_C128)(_)_multiplied_RetarderQuantity_(kg/m3)                                                                    -4.1594      1.775     -2.344      0.020      -7.662      -0.657\n",
       "Fine_Aggregate_1Material_finer_than_0.075_mm_(ASTM_C117)(_)_divided_WaterQuantity_(kg/m3)                                                                    0.1264      0.060      2.104      0.037       0.008       0.245\n",
       "Fine_Aggregate_1Soundness___(ASTM_C88)_(Precise_the_solution_used)(_)_divided_Natural_PozzolanQuantity_(kg/m3)                                               0.1313      0.034      3.854      0.000       0.064       0.199\n",
       "High_Range_Water_ReducerQuantity_(kg/m3)_divided_Natural_PozzolanQuantity_(kg/m3)                                                                           -0.3040      0.193     -1.574      0.117      -0.685       0.077\n",
       "High_Range_Water_ReducerQuantity_(kg/m3)_multiplied_Water/CementBy_mass-                                                                                    -0.8740      0.491     -1.781      0.077      -1.842       0.094\n",
       "Natural_PozzolanQuantity_(kg/m3)_divided_Water/CementBy_mass-                                                                                                2.4253      0.128     18.881      0.000       2.172       2.679\n",
       "==============================================================================\n",
       "Omnibus:                        5.375   Durbin-Watson:                   1.974\n",
       "Prob(Omnibus):                  0.068   Jarque-Bera (JB):                7.857\n",
       "Skew:                           0.027   Prob(JB):                       0.0197\n",
       "Kurtosis:                       3.972   Cond. No.                         156.\n",
       "==============================================================================\n",
       "\n",
       "Notes:\n",
       "[1] Standard Errors assume that the covariance matrix of the errors is correctly specified.\n",
       "\"\"\""
      ]
     },
     "execution_count": 496,
     "metadata": {},
     "output_type": "execute_result"
    }
   ],
   "source": [
    "X_full_model = sm.add_constant(X)\n",
    "model = sm.OLS(y,X_full_model)\n",
    "result = model.fit()\n",
    "result.summary()"
   ]
  },
  {
   "cell_type": "markdown",
   "metadata": {},
   "source": [
    "## 6. Modelling<a class=\"anchor\" id=\"six\"></a>"
   ]
  },
  {
   "cell_type": "markdown",
   "metadata": {},
   "source": [
    "**Comparison of Models**\n",
    "\n",
    "In this portion of the notebook, we will implement a varity of different machine learning algorithms \n"
   ]
  },
  {
   "cell_type": "markdown",
   "metadata": {},
   "source": [
    "\n",
    "**LinearRegression (OLS)** fits a linear model with coefficients  to minimize the residual sum of squares between the observed targets in the dataset, and the targets predicted by the linear approximation.\n",
    "\n",
    "**Ridge regression** addresses some of the problems of Ordinary Least Squares (OLS) by imposing a penalty on the size of the coefficients. The ridge coefficients minimize a penalized residual sum of squares\n",
    "\n",
    "**The HuberRegressor** is different to Ridge because it applies a linear loss to samples that are classified as outliers. \n",
    "\n",
    "**Stacking**: Uses several model outputs to build a final model for prediction\n",
    "\n",
    "**Voting**: Uses several model outputs and decides a final prediction based on a majority vote\n",
    "\n",
    "**Cross-validation** is a procedure used to evaluate machine learning models on a limited data sample. It's popular method because it generally results in a less biased or less optimistic estimate of the model skill than other methods, such as a simple train/test split.\n",
    "\n",
    "**K-Fold CV** is where a given data set is split into a K number of sections/folds where each fold is used as a testing set at some point. Lets take the scenario of 5-Fold cross validation(K=5). Here, the data set is split into 5 folds. In the first iteration, the first fold is used to test the model and the rest are used to train the model. In the second iteration, 2nd fold is used as the testing set while the rest serve as the training set. This process is repeated until each fold of the 5 folds have been used as the testing set.\n",
    "\n",
    "**K-Fold CV will be used to assess model performance** "
   ]
  },
  {
   "cell_type": "code",
   "execution_count": 517,
   "metadata": {},
   "outputs": [],
   "source": [
    "n=np.random.choice(range(1,1000))\n",
    "\n",
    "def get_voting():\n",
    "    models = list()\n",
    "    models.append(('LR', LinearRegression()))\n",
    "    models.append(('RID', Ridge()))\n",
    "    models.append(('HUBER', HuberRegressor(max_iter=100000)))\n",
    "    ensemble = VotingRegressor(estimators=models)\n",
    "    return ensemble\n",
    "\n",
    "def get_stacking():\n",
    "    level0 = list()\n",
    "    level0.append(('LR', LinearRegression()))\n",
    "    level0.append(('RID', Ridge()))\n",
    "    level0.append(('HUBER', HuberRegressor(max_iter=100000)))\n",
    "    # define meta learner model\n",
    "    level1 = LinearRegression()\n",
    "    # define the stacking ensemble\n",
    "    model = StackingRegressor(estimators=level0, final_estimator=level1, cv=5)\n",
    "    return model\n",
    "\n",
    "def get_models():\n",
    "    models = dict()\n",
    "    models['LR'] = LinearRegression()\n",
    "    models['RID'] = Ridge()\n",
    "    models['HUBER'] = HuberRegressor(max_iter=100000)\n",
    "    models['STACK'] = get_stacking()\n",
    "    models['VOTE'] = get_voting()\n",
    "    return models\n",
    " \n",
    "def evaluate_model(model, X, y):\n",
    "    cv = RepeatedKFold(n_splits=5, n_repeats=5,random_state=n)\n",
    "    scores = cross_val_score(model, X, y, scoring='r2', cv=cv, n_jobs=-1, error_score='raise')\n",
    "    return scores\n"
   ]
  },
  {
   "cell_type": "code",
   "execution_count": 519,
   "metadata": {},
   "outputs": [
    {
     "name": "stdout",
     "output_type": "stream",
     "text": [
      ">LR 0.865 (0.026)\n",
      ">RID 0.864 (0.026)\n",
      ">HUBER 0.864 (0.026)\n",
      ">STACK 0.860 (0.026)\n",
      ">VOTE 0.865 (0.026)\n"
     ]
    },
    {
     "data": {
      "image/png": "[encoded data removed]",
      "text/plain": [
       "<Figure size 1152x576 with 1 Axes>"
      ]
     },
     "metadata": {
      "needs_background": "light"
     },
     "output_type": "display_data"
    }
   ],
   "source": [
    "models = get_models()\n",
    "\n",
    "results, names = list(), list()\n",
    "df_models=pd.DataFrame(columns=['Model','Mean_R2','STDev_R2','Median_R2'])\n",
    "for name, model in models.items():\n",
    "    scores = evaluate_model(model, X, y)\n",
    "    results.append(scores)\n",
    "    names.append(name)\n",
    "    print('>%s %.3f (%.3f)' % (name, mean(scores), std(scores)))\n",
    "    \n",
    "    row = {'Model': name,\n",
    "           'Mean_R2': mean(scores),\n",
    "           'STDev_R2': std(scores),\n",
    "           'Median_R2': np.median(scores),\n",
    "    }\n",
    "\n",
    "    df_models = df_models.append(row, ignore_index=True)\n",
    "    \n",
    "fig= plt.figure(figsize=(16,8))\n",
    "\n",
    "plt.title('Model Comparison: Cross Validated Performace')\n",
    "\n",
    "plt.xlabel('Model')\n",
    "plt.ylabel('R2')\n",
    "\n",
    "pyplot.boxplot(results, labels=names, showmeans=True)\n",
    "pyplot.show()"
   ]
  },
  {
   "cell_type": "markdown",
   "metadata": {},
   "source": [
    "## 7. Hypertuning  <a class=\"anchor\" id=\"seven\"></a>"
   ]
  },
  {
   "cell_type": "markdown",
   "metadata": {},
   "source": [
    "**Hypertuning** is the process of changing the algorithms standard parameters in order to optimize performance. This can be done using GridSearchCV, which builds multiple models using different combinations and implements cross validation**"
   ]
  },
  {
   "cell_type": "markdown",
   "metadata": {},
   "source": [
    "**Ridge**"
   ]
  },
  {
   "cell_type": "code",
   "execution_count": 520,
   "metadata": {},
   "outputs": [],
   "source": [
    "param_grid = {\n",
    "    'tol':[500,150,100,50,10,5,2,1,0.01,0.001],\n",
    "    'alpha':[0.01,0,25,0.5,0.75,1,1.5,2,4,5],\n",
    "    'max_iter':[5,10,25,50,100]\n",
    "    \n",
    "}\n",
    "\n",
    "\n",
    "rid1 = Ridge()\n",
    "\n",
    "rid1grid_search = GridSearchCV(estimator = rid1,param_grid = param_grid, cv = 5 , scoring='r2', \n",
    "                              n_jobs = -1, verbose = 2)"
   ]
  },
  {
   "cell_type": "code",
   "execution_count": 521,
   "metadata": {},
   "outputs": [
    {
     "name": "stdout",
     "output_type": "stream",
     "text": [
      "Fitting 5 folds for each of 500 candidates, totalling 2500 fits\n"
     ]
    },
    {
     "name": "stderr",
     "output_type": "stream",
     "text": [
      "[Parallel(n_jobs=-1)]: Using backend LokyBackend with 4 concurrent workers.\n",
      "[Parallel(n_jobs=-1)]: Done 128 tasks      | elapsed:    0.8s\n",
      "[Parallel(n_jobs=-1)]: Done 2040 tasks      | elapsed:   14.2s\n",
      "[Parallel(n_jobs=-1)]: Done 2500 out of 2500 | elapsed:   16.7s finished\n"
     ]
    },
    {
     "data": {
      "text/plain": [
       "{'alpha': 0.5, 'max_iter': 5, 'tol': 500}"
      ]
     },
     "execution_count": 521,
     "metadata": {},
     "output_type": "execute_result"
    }
   ],
   "source": [
    "rid1grid_search.fit(X, y)\n",
    "rid1grid_search.best_params_"
   ]
  },
  {
   "cell_type": "code",
   "execution_count": 522,
   "metadata": {},
   "outputs": [
    {
     "data": {
      "text/plain": [
       "Ridge(alpha=0.5, max_iter=5, tol=500)"
      ]
     },
     "execution_count": 522,
     "metadata": {},
     "output_type": "execute_result"
    }
   ],
   "source": [
    "rid2 = Ridge()\n",
    "rid2.set_params(**rid1grid_search.best_params_)"
   ]
  },
  {
   "cell_type": "markdown",
   "metadata": {},
   "source": [
    "**HuberRegressor**"
   ]
  },
  {
   "cell_type": "code",
   "execution_count": 523,
   "metadata": {},
   "outputs": [],
   "source": [
    "param_grid = {\n",
    "    'epsilon': [1.25,1.35,1.5,1.7,2,2.35],\n",
    "    'max_iter':[50,100,150],\n",
    "    'alpha':[1,0.5,0.1,0.01,0.001,0.0001],\n",
    "    'tol':[1e-02,1e-03,1e-04,1e-05]\n",
    "\n",
    "}\n",
    "\n",
    "h1 = HuberRegressor()\n",
    "\n",
    "h1grid_search = GridSearchCV(estimator = h1,param_grid = param_grid, cv = 5 ,  scoring='r2',\n",
    "                              n_jobs = -1, verbose = 2)"
   ]
  },
  {
   "cell_type": "code",
   "execution_count": 524,
   "metadata": {},
   "outputs": [
    {
     "name": "stderr",
     "output_type": "stream",
     "text": [
      "[Parallel(n_jobs=-1)]: Using backend LokyBackend with 4 concurrent workers.\n"
     ]
    },
    {
     "name": "stdout",
     "output_type": "stream",
     "text": [
      "Fitting 5 folds for each of 432 candidates, totalling 2160 fits\n"
     ]
    },
    {
     "name": "stderr",
     "output_type": "stream",
     "text": [
      "[Parallel(n_jobs=-1)]: Done  58 tasks      | elapsed:    3.2s\n",
      "[Parallel(n_jobs=-1)]: Done 300 tasks      | elapsed:   12.9s\n",
      "[Parallel(n_jobs=-1)]: Done 706 tasks      | elapsed:   27.8s\n",
      "[Parallel(n_jobs=-1)]: Done 1272 tasks      | elapsed:   45.3s\n",
      "[Parallel(n_jobs=-1)]: Done 2002 tasks      | elapsed:  1.2min\n",
      "[Parallel(n_jobs=-1)]: Done 2160 out of 2160 | elapsed:  1.3min finished\n",
      "/Users/adamtassabehji/opt/anaconda3/lib/python3.7/site-packages/sklearn/linear_model/_huber.py:296: ConvergenceWarning: lbfgs failed to converge (status=1):\n",
      "STOP: TOTAL NO. of ITERATIONS REACHED LIMIT.\n",
      "\n",
      "Increase the number of iterations (max_iter) or scale the data as shown in:\n",
      "    https://scikit-learn.org/stable/modules/preprocessing.html\n",
      "  self.n_iter_ = _check_optimize_result(\"lbfgs\", opt_res, self.max_iter)\n"
     ]
    },
    {
     "data": {
      "text/plain": [
       "{'alpha': 0.1, 'epsilon': 2.35, 'max_iter': 150, 'tol': 0.01}"
      ]
     },
     "execution_count": 524,
     "metadata": {},
     "output_type": "execute_result"
    }
   ],
   "source": [
    "h1grid_search.fit(X, y)\n",
    "h1grid_search.best_params_"
   ]
  },
  {
   "cell_type": "code",
   "execution_count": 525,
   "metadata": {},
   "outputs": [
    {
     "data": {
      "text/plain": [
       "HuberRegressor(alpha=0.1, epsilon=2.35, max_iter=150, tol=0.01)"
      ]
     },
     "execution_count": 525,
     "metadata": {},
     "output_type": "execute_result"
    }
   ],
   "source": [
    "h2 = HuberRegressor()\n",
    "h2.set_params(**h1grid_search.best_params_)"
   ]
  },
  {
   "cell_type": "markdown",
   "metadata": {},
   "source": [
    "## 8. Final Results  <a class=\"anchor\" id=\"eight\"></a>"
   ]
  },
  {
   "cell_type": "markdown",
   "metadata": {},
   "source": [
    "**We will now test all models and select the one with the optimal performance**"
   ]
  },
  {
   "cell_type": "code",
   "execution_count": 526,
   "metadata": {},
   "outputs": [],
   "source": [
    "def get_voting():\n",
    "    models = list()\n",
    "    models.append(('LR_T', LinearRegression()))\n",
    "    models.append(('RID_T', rid2))\n",
    "    models.append(('HUBER_T', h2))\n",
    "    ensemble = VotingRegressor(estimators=models)\n",
    "    return ensemble\n",
    "\n",
    "def get_stacking():\n",
    "    level0 = list()\n",
    "    level0.append(('LR', LinearRegression()))\n",
    "    level0.append(('RID', rid2))\n",
    "    level0.append(('HUBER', h2))\n",
    "    level1 = LinearRegression()\n",
    "    model = StackingRegressor(estimators=level0, final_estimator=level1, cv=5)\n",
    "    return model\n",
    "\n",
    "def get_models():\n",
    "    models = dict()\n",
    "    models['LR'] = LinearRegression()\n",
    "    models['RID_T'] = rid2\n",
    "    models['HUBER_T'] = h2\n",
    "    models['STACK_T'] = get_stacking()\n",
    "    models['VOTE_T'] = get_voting()\n",
    "    return models\n",
    " \n",
    "def evaluate_model(model, X, y):\n",
    "    cv = RepeatedKFold(n_splits=5, n_repeats=5,random_state=n)\n",
    "    scores = cross_val_score(model, X, y, scoring='r2', cv=cv, n_jobs=-1, error_score='raise')\n",
    "    return scores\n"
   ]
  },
  {
   "cell_type": "code",
   "execution_count": 527,
   "metadata": {},
   "outputs": [
    {
     "name": "stdout",
     "output_type": "stream",
     "text": [
      ">LR 0.865 (0.026)\n",
      ">RID_T 0.865 (0.026)\n",
      ">HUBER_T 0.865 (0.025)\n",
      ">STACK_T 0.859 (0.028)\n",
      ">VOTE_T 0.865 (0.026)\n"
     ]
    },
    {
     "data": {
      "image/png": "[encoded data removed]",
      "text/plain": [
       "<Figure size 1152x576 with 1 Axes>"
      ]
     },
     "metadata": {
      "needs_background": "light"
     },
     "output_type": "display_data"
    }
   ],
   "source": [
    "models = get_models()\n",
    "\n",
    "results, names = list(), list()\n",
    "for name, model in models.items():\n",
    "    scores = evaluate_model(model, X, y)\n",
    "    results.append(scores)\n",
    "    names.append(name)\n",
    "    print('>%s %.3f (%.3f)' % (name, mean(scores), std(scores)))\n",
    "    \n",
    "    row = {'Model': name,\n",
    "           'Mean_R2': mean(scores),\n",
    "           'STDev_R2': std(scores),\n",
    "           'Median_R2':np.median(scores)\n",
    "    }\n",
    "\n",
    "    df_models = df_models.append(row, ignore_index=True)\n",
    "    \n",
    "fig= plt.figure(figsize=(16,8))\n",
    "\n",
    "plt.title('Model Comparison: Cross Validated Performace')\n",
    "\n",
    "plt.xlabel('Model')\n",
    "plt.ylabel('R2')\n",
    "\n",
    "pyplot.boxplot(results, labels=names, showmeans=True)\n",
    "pyplot.show()"
   ]
  },
  {
   "cell_type": "code",
   "execution_count": 528,
   "metadata": {},
   "outputs": [],
   "source": [
    "df_models=df_models.sort_values('Median_R2',ascending=False)"
   ]
  },
  {
   "cell_type": "code",
   "execution_count": 529,
   "metadata": {
    "scrolled": true
   },
   "outputs": [
    {
     "data": {
      "text/html": [
       "<div>\n",
       "<style scoped>\n",
       "    .dataframe tbody tr th:only-of-type {\n",
       "        vertical-align: middle;\n",
       "    }\n",
       "\n",
       "    .dataframe tbody tr th {\n",
       "        vertical-align: top;\n",
       "    }\n",
       "\n",
       "    .dataframe thead th {\n",
       "        text-align: right;\n",
       "    }\n",
       "</style>\n",
       "<table border=\"1\" class=\"dataframe\">\n",
       "  <thead>\n",
       "    <tr style=\"text-align: right;\">\n",
       "      <th></th>\n",
       "      <th>Model</th>\n",
       "      <th>Mean_R2</th>\n",
       "      <th>STDev_R2</th>\n",
       "      <th>Median_R2</th>\n",
       "    </tr>\n",
       "  </thead>\n",
       "  <tbody>\n",
       "    <tr>\n",
       "      <th>4</th>\n",
       "      <td>VOTE</td>\n",
       "      <td>0.865348</td>\n",
       "      <td>0.025838</td>\n",
       "      <td>0.877555</td>\n",
       "    </tr>\n",
       "    <tr>\n",
       "      <th>0</th>\n",
       "      <td>LR</td>\n",
       "      <td>0.864959</td>\n",
       "      <td>0.026006</td>\n",
       "      <td>0.875897</td>\n",
       "    </tr>\n",
       "    <tr>\n",
       "      <th>5</th>\n",
       "      <td>LR</td>\n",
       "      <td>0.864959</td>\n",
       "      <td>0.026006</td>\n",
       "      <td>0.875897</td>\n",
       "    </tr>\n",
       "    <tr>\n",
       "      <th>6</th>\n",
       "      <td>RID_T</td>\n",
       "      <td>0.864933</td>\n",
       "      <td>0.026016</td>\n",
       "      <td>0.875829</td>\n",
       "    </tr>\n",
       "    <tr>\n",
       "      <th>9</th>\n",
       "      <td>VOTE_T</td>\n",
       "      <td>0.865212</td>\n",
       "      <td>0.025572</td>\n",
       "      <td>0.874470</td>\n",
       "    </tr>\n",
       "    <tr>\n",
       "      <th>1</th>\n",
       "      <td>RID</td>\n",
       "      <td>0.864462</td>\n",
       "      <td>0.026244</td>\n",
       "      <td>0.874289</td>\n",
       "    </tr>\n",
       "    <tr>\n",
       "      <th>2</th>\n",
       "      <td>HUBER</td>\n",
       "      <td>0.864163</td>\n",
       "      <td>0.026355</td>\n",
       "      <td>0.873280</td>\n",
       "    </tr>\n",
       "    <tr>\n",
       "      <th>7</th>\n",
       "      <td>HUBER_T</td>\n",
       "      <td>0.864675</td>\n",
       "      <td>0.024978</td>\n",
       "      <td>0.872780</td>\n",
       "    </tr>\n",
       "    <tr>\n",
       "      <th>3</th>\n",
       "      <td>STACK</td>\n",
       "      <td>0.860052</td>\n",
       "      <td>0.026269</td>\n",
       "      <td>0.863887</td>\n",
       "    </tr>\n",
       "    <tr>\n",
       "      <th>8</th>\n",
       "      <td>STACK_T</td>\n",
       "      <td>0.858625</td>\n",
       "      <td>0.028062</td>\n",
       "      <td>0.861713</td>\n",
       "    </tr>\n",
       "  </tbody>\n",
       "</table>\n",
       "</div>"
      ],
      "text/plain": [
       "     Model   Mean_R2  STDev_R2  Median_R2\n",
       "4     VOTE  0.865348  0.025838   0.877555\n",
       "0       LR  0.864959  0.026006   0.875897\n",
       "5       LR  0.864959  0.026006   0.875897\n",
       "6    RID_T  0.864933  0.026016   0.875829\n",
       "9   VOTE_T  0.865212  0.025572   0.874470\n",
       "1      RID  0.864462  0.026244   0.874289\n",
       "2    HUBER  0.864163  0.026355   0.873280\n",
       "7  HUBER_T  0.864675  0.024978   0.872780\n",
       "3    STACK  0.860052  0.026269   0.863887\n",
       "8  STACK_T  0.858625  0.028062   0.861713"
      ]
     },
     "execution_count": 529,
     "metadata": {},
     "output_type": "execute_result"
    }
   ],
   "source": [
    "df_models"
   ]
  },
  {
   "cell_type": "code",
   "execution_count": 530,
   "metadata": {},
   "outputs": [
    {
     "name": "stdout",
     "output_type": "stream",
     "text": [
      "\n",
      "\n",
      "The best performing model is VOTE \n",
      "\n",
      "Median R2: 0.878 \n",
      "\n",
      "Mean R2: 0.865 \n",
      "\n",
      "Standard Deviation of R2: 0.026 \n",
      "\n",
      "\n",
      "\n"
     ]
    }
   ],
   "source": [
    "print(f'''\n",
    "\n",
    "The best performing model is {df_models.iloc[0,0]} \n",
    "\n",
    "Median R2: {round(df_models.iloc[0,-1],3)} \n",
    "\n",
    "Mean R2: {round(df_models.iloc[0,1],3)} \n",
    "\n",
    "Standard Deviation of R2: {round(df_models.iloc[0,2],3)} \n",
    "\n",
    "\n",
    "''')"
   ]
  },
  {
   "cell_type": "code",
   "execution_count": 531,
   "metadata": {},
   "outputs": [
    {
     "data": {
      "text/plain": [
       "<matplotlib.legend.Legend at 0x7fee2bf77b10>"
      ]
     },
     "execution_count": 531,
     "metadata": {},
     "output_type": "execute_result"
    },
    {
     "data": {
      "image/png": "[encoded data removed]",
      "text/plain": [
       "<Figure size 720x432 with 1 Axes>"
      ]
     },
     "metadata": {
      "needs_background": "light"
     },
     "output_type": "display_data"
    }
   ],
   "source": [
    "X_train, X_test, y_train, y_test = train_test_split(X, y, test_size = 0.2)\n",
    "\n",
    "lr=LinearRegression()\n",
    "\n",
    "model = lr.fit(X_train, y_train)\n",
    "y_pred = model.predict(X_test)\n",
    "\n",
    "test=pd.DataFrame({'Actual value': y_test,'Predicted value': y_pred}).sort_values('Actual value').reset_index()\n",
    "\n",
    "\n",
    "plt.figure(figsize=(10, 6))\n",
    "\n",
    "plt.title(\"Linear Regression: Actual vs Predicted\")\n",
    "\n",
    "plt.scatter(test.index, test['Actual value'], label='Actual')\n",
    "\n",
    "plt.scatter(test.index, test['Predicted value'], label='Predicted')\n",
    "\n",
    "plt.xlabel(\"Sample Prediction #\")\n",
    "\n",
    "plt.ylabel(\"Compressive strength 28days MPa\")\n",
    "\n",
    "plt.legend(['Actual value','Predicted value'])"
   ]
  }
 ],
 "metadata": {
  "kernelspec": {
   "display_name": "Python 3 (ipykernel)",
   "language": "python",
   "name": "python3"
  },
  "language_info": {
   "codemirror_mode": {
    "name": "ipython",
    "version": 3
   },
   "file_extension": ".py",
   "mimetype": "text/x-python",
   "name": "python",
   "nbconvert_exporter": "python",
   "pygments_lexer": "ipython3",
   "version": "3.9.12"
  }
 },
 "nbformat": 4,
 "nbformat_minor": 2
}
